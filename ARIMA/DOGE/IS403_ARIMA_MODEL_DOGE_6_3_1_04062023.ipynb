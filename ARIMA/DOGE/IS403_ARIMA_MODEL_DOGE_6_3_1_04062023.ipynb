{
  "nbformat": 4,
  "nbformat_minor": 0,
  "metadata": {
    "colab": {
      "provenance": []
    },
    "kernelspec": {
      "name": "python3",
      "display_name": "Python 3"
    },
    "language_info": {
      "name": "python"
    }
  },
  "cells": [
    {
      "cell_type": "code",
      "execution_count": 1,
      "metadata": {
        "id": "K688-YUYu6Nk"
      },
      "outputs": [],
      "source": [
        "import numpy as np # linear algebra\n",
        "import pandas as pd # data processing, CSV file I/O (e.g. pd.read_csv)\n",
        "from statsmodels.tsa.arima.model import ARIMA\n",
        "from statsmodels.tsa.statespace.sarimax import SARIMAX\n",
        "import matplotlib.pyplot as plt\n",
        "from sklearn.metrics import mean_squared_error\n",
        "# Dùng thư viện yfinance để tải dataset \n",
        "import yfinance as yf\n",
        "\n",
        "from sklearn.metrics import mean_squared_error, mean_absolute_error, explained_variance_score, r2_score \n",
        "from sklearn.metrics import mean_poisson_deviance, mean_gamma_deviance, accuracy_score\n",
        "import math"
      ]
    },
    {
      "cell_type": "code",
      "source": [
        "df = pd.read_csv('DOGE-USD.csv')\n",
        "\n",
        "df.head()"
      ],
      "metadata": {
        "colab": {
          "base_uri": "https://localhost:8080/",
          "height": 206
        },
        "id": "y6HD033PvBak",
        "outputId": "b02073aa-54b7-4349-a170-862b437917fb"
      },
      "execution_count": 2,
      "outputs": [
        {
          "output_type": "execute_result",
          "data": {
            "text/plain": [
              "         Date      Open      High       Low     Close  Adj Close    Volume\n",
              "0  2019-01-01  0.002346  0.002392  0.002322  0.002392   0.002392  17364744\n",
              "1  2019-01-02  0.002388  0.002458  0.002372  0.002407   0.002407  18015392\n",
              "2  2019-01-03  0.002404  0.002414  0.002356  0.002360   0.002360  17619234\n",
              "3  2019-01-04  0.002364  0.002397  0.002274  0.002315   0.002315  19530100\n",
              "4  2019-01-05  0.002320  0.002350  0.002280  0.002319   0.002319  17148586"
            ],
            "text/html": [
              "\n",
              "  <div id=\"df-b5dfe87e-ff89-4a58-83cd-c58bed51393e\">\n",
              "    <div class=\"colab-df-container\">\n",
              "      <div>\n",
              "<style scoped>\n",
              "    .dataframe tbody tr th:only-of-type {\n",
              "        vertical-align: middle;\n",
              "    }\n",
              "\n",
              "    .dataframe tbody tr th {\n",
              "        vertical-align: top;\n",
              "    }\n",
              "\n",
              "    .dataframe thead th {\n",
              "        text-align: right;\n",
              "    }\n",
              "</style>\n",
              "<table border=\"1\" class=\"dataframe\">\n",
              "  <thead>\n",
              "    <tr style=\"text-align: right;\">\n",
              "      <th></th>\n",
              "      <th>Date</th>\n",
              "      <th>Open</th>\n",
              "      <th>High</th>\n",
              "      <th>Low</th>\n",
              "      <th>Close</th>\n",
              "      <th>Adj Close</th>\n",
              "      <th>Volume</th>\n",
              "    </tr>\n",
              "  </thead>\n",
              "  <tbody>\n",
              "    <tr>\n",
              "      <th>0</th>\n",
              "      <td>2019-01-01</td>\n",
              "      <td>0.002346</td>\n",
              "      <td>0.002392</td>\n",
              "      <td>0.002322</td>\n",
              "      <td>0.002392</td>\n",
              "      <td>0.002392</td>\n",
              "      <td>17364744</td>\n",
              "    </tr>\n",
              "    <tr>\n",
              "      <th>1</th>\n",
              "      <td>2019-01-02</td>\n",
              "      <td>0.002388</td>\n",
              "      <td>0.002458</td>\n",
              "      <td>0.002372</td>\n",
              "      <td>0.002407</td>\n",
              "      <td>0.002407</td>\n",
              "      <td>18015392</td>\n",
              "    </tr>\n",
              "    <tr>\n",
              "      <th>2</th>\n",
              "      <td>2019-01-03</td>\n",
              "      <td>0.002404</td>\n",
              "      <td>0.002414</td>\n",
              "      <td>0.002356</td>\n",
              "      <td>0.002360</td>\n",
              "      <td>0.002360</td>\n",
              "      <td>17619234</td>\n",
              "    </tr>\n",
              "    <tr>\n",
              "      <th>3</th>\n",
              "      <td>2019-01-04</td>\n",
              "      <td>0.002364</td>\n",
              "      <td>0.002397</td>\n",
              "      <td>0.002274</td>\n",
              "      <td>0.002315</td>\n",
              "      <td>0.002315</td>\n",
              "      <td>19530100</td>\n",
              "    </tr>\n",
              "    <tr>\n",
              "      <th>4</th>\n",
              "      <td>2019-01-05</td>\n",
              "      <td>0.002320</td>\n",
              "      <td>0.002350</td>\n",
              "      <td>0.002280</td>\n",
              "      <td>0.002319</td>\n",
              "      <td>0.002319</td>\n",
              "      <td>17148586</td>\n",
              "    </tr>\n",
              "  </tbody>\n",
              "</table>\n",
              "</div>\n",
              "      <button class=\"colab-df-convert\" onclick=\"convertToInteractive('df-b5dfe87e-ff89-4a58-83cd-c58bed51393e')\"\n",
              "              title=\"Convert this dataframe to an interactive table.\"\n",
              "              style=\"display:none;\">\n",
              "        \n",
              "  <svg xmlns=\"http://www.w3.org/2000/svg\" height=\"24px\"viewBox=\"0 0 24 24\"\n",
              "       width=\"24px\">\n",
              "    <path d=\"M0 0h24v24H0V0z\" fill=\"none\"/>\n",
              "    <path d=\"M18.56 5.44l.94 2.06.94-2.06 2.06-.94-2.06-.94-.94-2.06-.94 2.06-2.06.94zm-11 1L8.5 8.5l.94-2.06 2.06-.94-2.06-.94L8.5 2.5l-.94 2.06-2.06.94zm10 10l.94 2.06.94-2.06 2.06-.94-2.06-.94-.94-2.06-.94 2.06-2.06.94z\"/><path d=\"M17.41 7.96l-1.37-1.37c-.4-.4-.92-.59-1.43-.59-.52 0-1.04.2-1.43.59L10.3 9.45l-7.72 7.72c-.78.78-.78 2.05 0 2.83L4 21.41c.39.39.9.59 1.41.59.51 0 1.02-.2 1.41-.59l7.78-7.78 2.81-2.81c.8-.78.8-2.07 0-2.86zM5.41 20L4 18.59l7.72-7.72 1.47 1.35L5.41 20z\"/>\n",
              "  </svg>\n",
              "      </button>\n",
              "      \n",
              "  <style>\n",
              "    .colab-df-container {\n",
              "      display:flex;\n",
              "      flex-wrap:wrap;\n",
              "      gap: 12px;\n",
              "    }\n",
              "\n",
              "    .colab-df-convert {\n",
              "      background-color: #E8F0FE;\n",
              "      border: none;\n",
              "      border-radius: 50%;\n",
              "      cursor: pointer;\n",
              "      display: none;\n",
              "      fill: #1967D2;\n",
              "      height: 32px;\n",
              "      padding: 0 0 0 0;\n",
              "      width: 32px;\n",
              "    }\n",
              "\n",
              "    .colab-df-convert:hover {\n",
              "      background-color: #E2EBFA;\n",
              "      box-shadow: 0px 1px 2px rgba(60, 64, 67, 0.3), 0px 1px 3px 1px rgba(60, 64, 67, 0.15);\n",
              "      fill: #174EA6;\n",
              "    }\n",
              "\n",
              "    [theme=dark] .colab-df-convert {\n",
              "      background-color: #3B4455;\n",
              "      fill: #D2E3FC;\n",
              "    }\n",
              "\n",
              "    [theme=dark] .colab-df-convert:hover {\n",
              "      background-color: #434B5C;\n",
              "      box-shadow: 0px 1px 3px 1px rgba(0, 0, 0, 0.15);\n",
              "      filter: drop-shadow(0px 1px 2px rgba(0, 0, 0, 0.3));\n",
              "      fill: #FFFFFF;\n",
              "    }\n",
              "  </style>\n",
              "\n",
              "      <script>\n",
              "        const buttonEl =\n",
              "          document.querySelector('#df-b5dfe87e-ff89-4a58-83cd-c58bed51393e button.colab-df-convert');\n",
              "        buttonEl.style.display =\n",
              "          google.colab.kernel.accessAllowed ? 'block' : 'none';\n",
              "\n",
              "        async function convertToInteractive(key) {\n",
              "          const element = document.querySelector('#df-b5dfe87e-ff89-4a58-83cd-c58bed51393e');\n",
              "          const dataTable =\n",
              "            await google.colab.kernel.invokeFunction('convertToInteractive',\n",
              "                                                     [key], {});\n",
              "          if (!dataTable) return;\n",
              "\n",
              "          const docLinkHtml = 'Like what you see? Visit the ' +\n",
              "            '<a target=\"_blank\" href=https://colab.research.google.com/notebooks/data_table.ipynb>data table notebook</a>'\n",
              "            + ' to learn more about interactive tables.';\n",
              "          element.innerHTML = '';\n",
              "          dataTable['output_type'] = 'display_data';\n",
              "          await google.colab.output.renderOutput(dataTable, element);\n",
              "          const docLink = document.createElement('div');\n",
              "          docLink.innerHTML = docLinkHtml;\n",
              "          element.appendChild(docLink);\n",
              "        }\n",
              "      </script>\n",
              "    </div>\n",
              "  </div>\n",
              "  "
            ]
          },
          "metadata": {},
          "execution_count": 2
        }
      ]
    },
    {
      "cell_type": "markdown",
      "source": [
        "**<h3>ARIMA 6-3-1</h3>**"
      ],
      "metadata": {
        "id": "t6epYfBWFJ3K"
      }
    },
    {
      "cell_type": "code",
      "source": [
        "df = df[['Date', 'Close']]\n",
        "df = df.dropna() # Drop missing values\n",
        "# df = df.reset_index(drop=True) # Reset the index\n",
        "df['Date'] = pd.to_datetime(df['Date'])\n",
        "df.set_index('Date', inplace=True)\n",
        "\n",
        "# Split the data into training, testing, and validation sets\n",
        "train_size = int(0.6 * len(df))\n",
        "test_size = int(0.3 * len(df))\n",
        "val_size = len(df) - train_size - test_size\n",
        "\n",
        "train_data = df[:train_size]\n",
        "test_data = df[train_size:train_size+test_size]\n",
        "val_data = df[train_size+test_size:]\n",
        "print(df)"
      ],
      "metadata": {
        "colab": {
          "base_uri": "https://localhost:8080/"
        },
        "id": "CEmrJVxYvpSz",
        "outputId": "c4fe2b2e-cb83-4daf-b2ce-9452634a8c65"
      },
      "execution_count": 3,
      "outputs": [
        {
          "output_type": "stream",
          "name": "stdout",
          "text": [
            "               Close\n",
            "Date                \n",
            "2019-01-01  0.002392\n",
            "2019-01-02  0.002407\n",
            "2019-01-03  0.002360\n",
            "2019-01-04  0.002315\n",
            "2019-01-05  0.002319\n",
            "...              ...\n",
            "2023-05-01  0.078820\n",
            "2023-05-02  0.078806\n",
            "2023-05-03  0.079713\n",
            "2023-05-04  0.078449\n",
            "2023-05-05  0.078835\n",
            "\n",
            "[1586 rows x 1 columns]\n"
          ]
        }
      ]
    },
    {
      "cell_type": "code",
      "source": [
        "print(len(df))\n",
        "print(len(train_data))\n",
        "print(train_size)"
      ],
      "metadata": {
        "colab": {
          "base_uri": "https://localhost:8080/"
        },
        "id": "70QRLPS-uUxG",
        "outputId": "21938904-7a2b-4346-caa1-d70d17830572"
      },
      "execution_count": 4,
      "outputs": [
        {
          "output_type": "stream",
          "name": "stdout",
          "text": [
            "1586\n",
            "951\n",
            "951\n"
          ]
        }
      ]
    },
    {
      "cell_type": "code",
      "source": [
        "!pip install pmdarima"
      ],
      "metadata": {
        "colab": {
          "base_uri": "https://localhost:8080/"
        },
        "id": "01FCSodDvtqh",
        "outputId": "3e88aa17-40fd-46a3-9047-80ecb6d9afcb"
      },
      "execution_count": 5,
      "outputs": [
        {
          "output_type": "stream",
          "name": "stdout",
          "text": [
            "Looking in indexes: https://pypi.org/simple, https://us-python.pkg.dev/colab-wheels/public/simple/\n",
            "Collecting pmdarima\n",
            "  Downloading pmdarima-2.0.3-cp310-cp310-manylinux_2_17_x86_64.manylinux2014_x86_64.manylinux_2_28_x86_64.whl (1.8 MB)\n",
            "\u001b[2K     \u001b[90m━━━━━━━━━━━━━━━━━━━━━━━━━━━━━━━━━━━━━━━━\u001b[0m \u001b[32m1.8/1.8 MB\u001b[0m \u001b[31m31.4 MB/s\u001b[0m eta \u001b[36m0:00:00\u001b[0m\n",
            "\u001b[?25hRequirement already satisfied: joblib>=0.11 in /usr/local/lib/python3.10/dist-packages (from pmdarima) (1.2.0)\n",
            "Requirement already satisfied: Cython!=0.29.18,!=0.29.31,>=0.29 in /usr/local/lib/python3.10/dist-packages (from pmdarima) (0.29.34)\n",
            "Requirement already satisfied: numpy>=1.21.2 in /usr/local/lib/python3.10/dist-packages (from pmdarima) (1.22.4)\n",
            "Requirement already satisfied: pandas>=0.19 in /usr/local/lib/python3.10/dist-packages (from pmdarima) (1.5.3)\n",
            "Requirement already satisfied: scikit-learn>=0.22 in /usr/local/lib/python3.10/dist-packages (from pmdarima) (1.2.2)\n",
            "Requirement already satisfied: scipy>=1.3.2 in /usr/local/lib/python3.10/dist-packages (from pmdarima) (1.10.1)\n",
            "Requirement already satisfied: statsmodels>=0.13.2 in /usr/local/lib/python3.10/dist-packages (from pmdarima) (0.13.5)\n",
            "Requirement already satisfied: urllib3 in /usr/local/lib/python3.10/dist-packages (from pmdarima) (1.26.15)\n",
            "Requirement already satisfied: setuptools!=50.0.0,>=38.6.0 in /usr/local/lib/python3.10/dist-packages (from pmdarima) (67.7.2)\n",
            "Requirement already satisfied: python-dateutil>=2.8.1 in /usr/local/lib/python3.10/dist-packages (from pandas>=0.19->pmdarima) (2.8.2)\n",
            "Requirement already satisfied: pytz>=2020.1 in /usr/local/lib/python3.10/dist-packages (from pandas>=0.19->pmdarima) (2022.7.1)\n",
            "Requirement already satisfied: threadpoolctl>=2.0.0 in /usr/local/lib/python3.10/dist-packages (from scikit-learn>=0.22->pmdarima) (3.1.0)\n",
            "Requirement already satisfied: patsy>=0.5.2 in /usr/local/lib/python3.10/dist-packages (from statsmodels>=0.13.2->pmdarima) (0.5.3)\n",
            "Requirement already satisfied: packaging>=21.3 in /usr/local/lib/python3.10/dist-packages (from statsmodels>=0.13.2->pmdarima) (23.1)\n",
            "Requirement already satisfied: six in /usr/local/lib/python3.10/dist-packages (from patsy>=0.5.2->statsmodels>=0.13.2->pmdarima) (1.16.0)\n",
            "Installing collected packages: pmdarima\n",
            "Successfully installed pmdarima-2.0.3\n"
          ]
        }
      ]
    },
    {
      "cell_type": "code",
      "source": [
        "# 3. Quá trình Training\n",
        "x_train = np.array(train_data.index).reshape(-1, 1)\n",
        "y_train = np.array(train_data['Close'])\n",
        "\n",
        "# Find the best ARIMA model using auto_arima\n",
        "from pmdarima.arima import auto_arima\n",
        "model = auto_arima(y_train, trace=True, error_action='ignore', suppress_warnings=True)\n",
        "\n",
        "# Fit the model\n",
        "model.fit(y_train)"
      ],
      "metadata": {
        "colab": {
          "base_uri": "https://localhost:8080/",
          "height": 612
        },
        "id": "FHx-NkazwQSl",
        "outputId": "0bdadefc-9d6a-4dd6-c563-190b10d11abd"
      },
      "execution_count": 6,
      "outputs": [
        {
          "output_type": "stream",
          "name": "stdout",
          "text": [
            "Performing stepwise search to minimize aic\n",
            " ARIMA(2,1,2)(0,0,0)[0] intercept   : AIC=-5257.941, Time=3.76 sec\n",
            " ARIMA(0,1,0)(0,0,0)[0] intercept   : AIC=-5177.220, Time=0.13 sec\n",
            " ARIMA(1,1,0)(0,0,0)[0] intercept   : AIC=-5191.462, Time=0.08 sec\n",
            " ARIMA(0,1,1)(0,0,0)[0] intercept   : AIC=-5188.568, Time=0.77 sec\n",
            " ARIMA(0,1,0)(0,0,0)[0]             : AIC=-5178.983, Time=0.12 sec\n",
            " ARIMA(1,1,2)(0,0,0)[0] intercept   : AIC=-5216.409, Time=3.11 sec\n",
            " ARIMA(2,1,1)(0,0,0)[0] intercept   : AIC=-5199.474, Time=2.59 sec\n",
            " ARIMA(3,1,2)(0,0,0)[0] intercept   : AIC=-5239.116, Time=5.36 sec\n",
            " ARIMA(2,1,3)(0,0,0)[0] intercept   : AIC=-5257.191, Time=4.71 sec\n",
            " ARIMA(1,1,1)(0,0,0)[0] intercept   : AIC=-5193.292, Time=2.44 sec\n",
            " ARIMA(1,1,3)(0,0,0)[0] intercept   : AIC=-5236.481, Time=2.33 sec\n",
            " ARIMA(3,1,1)(0,0,0)[0] intercept   : AIC=-5203.949, Time=0.26 sec\n",
            " ARIMA(3,1,3)(0,0,0)[0] intercept   : AIC=-5262.280, Time=3.83 sec\n",
            " ARIMA(4,1,3)(0,0,0)[0] intercept   : AIC=-5260.785, Time=2.72 sec\n",
            " ARIMA(3,1,4)(0,0,0)[0] intercept   : AIC=-5262.894, Time=2.78 sec\n",
            " ARIMA(2,1,4)(0,0,0)[0] intercept   : AIC=-5258.028, Time=2.51 sec\n",
            " ARIMA(4,1,4)(0,0,0)[0] intercept   : AIC=-5266.569, Time=4.47 sec\n",
            " ARIMA(5,1,4)(0,0,0)[0] intercept   : AIC=-5341.970, Time=3.69 sec\n",
            " ARIMA(5,1,3)(0,0,0)[0] intercept   : AIC=-5299.609, Time=3.26 sec\n",
            " ARIMA(5,1,5)(0,0,0)[0] intercept   : AIC=-5321.679, Time=4.57 sec\n",
            " ARIMA(4,1,5)(0,0,0)[0] intercept   : AIC=-5301.792, Time=4.78 sec\n",
            " ARIMA(5,1,4)(0,0,0)[0]             : AIC=-5344.888, Time=1.60 sec\n",
            " ARIMA(4,1,4)(0,0,0)[0]             : AIC=-5269.538, Time=1.51 sec\n",
            " ARIMA(5,1,3)(0,0,0)[0]             : AIC=-5303.953, Time=1.55 sec\n",
            " ARIMA(5,1,5)(0,0,0)[0]             : AIC=-5322.499, Time=1.92 sec\n",
            " ARIMA(4,1,3)(0,0,0)[0]             : AIC=-5262.537, Time=2.23 sec\n",
            " ARIMA(4,1,5)(0,0,0)[0]             : AIC=-5305.443, Time=2.54 sec\n",
            "\n",
            "Best model:  ARIMA(5,1,4)(0,0,0)[0]          \n",
            "Total fit time: 69.726 seconds\n"
          ]
        },
        {
          "output_type": "execute_result",
          "data": {
            "text/plain": [
              "ARIMA(order=(5, 1, 4), scoring_args={}, suppress_warnings=True,\n",
              "      with_intercept=False)"
            ],
            "text/html": [
              "<style>#sk-container-id-1 {color: black;background-color: white;}#sk-container-id-1 pre{padding: 0;}#sk-container-id-1 div.sk-toggleable {background-color: white;}#sk-container-id-1 label.sk-toggleable__label {cursor: pointer;display: block;width: 100%;margin-bottom: 0;padding: 0.3em;box-sizing: border-box;text-align: center;}#sk-container-id-1 label.sk-toggleable__label-arrow:before {content: \"▸\";float: left;margin-right: 0.25em;color: #696969;}#sk-container-id-1 label.sk-toggleable__label-arrow:hover:before {color: black;}#sk-container-id-1 div.sk-estimator:hover label.sk-toggleable__label-arrow:before {color: black;}#sk-container-id-1 div.sk-toggleable__content {max-height: 0;max-width: 0;overflow: hidden;text-align: left;background-color: #f0f8ff;}#sk-container-id-1 div.sk-toggleable__content pre {margin: 0.2em;color: black;border-radius: 0.25em;background-color: #f0f8ff;}#sk-container-id-1 input.sk-toggleable__control:checked~div.sk-toggleable__content {max-height: 200px;max-width: 100%;overflow: auto;}#sk-container-id-1 input.sk-toggleable__control:checked~label.sk-toggleable__label-arrow:before {content: \"▾\";}#sk-container-id-1 div.sk-estimator input.sk-toggleable__control:checked~label.sk-toggleable__label {background-color: #d4ebff;}#sk-container-id-1 div.sk-label input.sk-toggleable__control:checked~label.sk-toggleable__label {background-color: #d4ebff;}#sk-container-id-1 input.sk-hidden--visually {border: 0;clip: rect(1px 1px 1px 1px);clip: rect(1px, 1px, 1px, 1px);height: 1px;margin: -1px;overflow: hidden;padding: 0;position: absolute;width: 1px;}#sk-container-id-1 div.sk-estimator {font-family: monospace;background-color: #f0f8ff;border: 1px dotted black;border-radius: 0.25em;box-sizing: border-box;margin-bottom: 0.5em;}#sk-container-id-1 div.sk-estimator:hover {background-color: #d4ebff;}#sk-container-id-1 div.sk-parallel-item::after {content: \"\";width: 100%;border-bottom: 1px solid gray;flex-grow: 1;}#sk-container-id-1 div.sk-label:hover label.sk-toggleable__label {background-color: #d4ebff;}#sk-container-id-1 div.sk-serial::before {content: \"\";position: absolute;border-left: 1px solid gray;box-sizing: border-box;top: 0;bottom: 0;left: 50%;z-index: 0;}#sk-container-id-1 div.sk-serial {display: flex;flex-direction: column;align-items: center;background-color: white;padding-right: 0.2em;padding-left: 0.2em;position: relative;}#sk-container-id-1 div.sk-item {position: relative;z-index: 1;}#sk-container-id-1 div.sk-parallel {display: flex;align-items: stretch;justify-content: center;background-color: white;position: relative;}#sk-container-id-1 div.sk-item::before, #sk-container-id-1 div.sk-parallel-item::before {content: \"\";position: absolute;border-left: 1px solid gray;box-sizing: border-box;top: 0;bottom: 0;left: 50%;z-index: -1;}#sk-container-id-1 div.sk-parallel-item {display: flex;flex-direction: column;z-index: 1;position: relative;background-color: white;}#sk-container-id-1 div.sk-parallel-item:first-child::after {align-self: flex-end;width: 50%;}#sk-container-id-1 div.sk-parallel-item:last-child::after {align-self: flex-start;width: 50%;}#sk-container-id-1 div.sk-parallel-item:only-child::after {width: 0;}#sk-container-id-1 div.sk-dashed-wrapped {border: 1px dashed gray;margin: 0 0.4em 0.5em 0.4em;box-sizing: border-box;padding-bottom: 0.4em;background-color: white;}#sk-container-id-1 div.sk-label label {font-family: monospace;font-weight: bold;display: inline-block;line-height: 1.2em;}#sk-container-id-1 div.sk-label-container {text-align: center;}#sk-container-id-1 div.sk-container {/* jupyter's `normalize.less` sets `[hidden] { display: none; }` but bootstrap.min.css set `[hidden] { display: none !important; }` so we also need the `!important` here to be able to override the default hidden behavior on the sphinx rendered scikit-learn.org. See: https://github.com/scikit-learn/scikit-learn/issues/21755 */display: inline-block !important;position: relative;}#sk-container-id-1 div.sk-text-repr-fallback {display: none;}</style><div id=\"sk-container-id-1\" class=\"sk-top-container\"><div class=\"sk-text-repr-fallback\"><pre> ARIMA(5,1,4)(0,0,0)[0]          </pre><b>In a Jupyter environment, please rerun this cell to show the HTML representation or trust the notebook. <br />On GitHub, the HTML representation is unable to render, please try loading this page with nbviewer.org.</b></div><div class=\"sk-container\" hidden><div class=\"sk-item\"><div class=\"sk-estimator sk-toggleable\"><input class=\"sk-toggleable__control sk-hidden--visually\" id=\"sk-estimator-id-1\" type=\"checkbox\" checked><label for=\"sk-estimator-id-1\" class=\"sk-toggleable__label sk-toggleable__label-arrow\">ARIMA</label><div class=\"sk-toggleable__content\"><pre> ARIMA(5,1,4)(0,0,0)[0]          </pre></div></div></div></div></div>"
            ]
          },
          "metadata": {},
          "execution_count": 6
        }
      ]
    },
    {
      "cell_type": "code",
      "source": [
        "# 4. Quá trình testing \n",
        "x_test = np.array(test_data.index).reshape(-1, 1)\n",
        "y_test = np.array(test_data['Close'])\n",
        "y_pred = model.predict(n_periods=len(y_test))\n",
        "\n",
        "# 5. Quá trình Validate\n",
        "x_val= np.array(val_data.index).reshape(-1, 1)\n",
        "y_val = np.array(val_data['Close'])\n",
        "y_pred_val =  model.predict(n_periods=len(y_val))"
      ],
      "metadata": {
        "id": "JReQqa4bwU5D"
      },
      "execution_count": 7,
      "outputs": []
    },
    {
      "cell_type": "code",
      "source": [
        "import datetime\n",
        "# 6. Quá trình tạo index predict 30 ngày tiếp theo\n",
        "last_index =  df.index[-1]\n",
        "print(last_index)\n",
        "next_30_days_index = pd.date_range(start=last_index + datetime.timedelta(days=1), periods=30, freq='D')\n",
        "print(next_30_days_index)\n",
        "# Create an array of 30 consecutive integers starting from last_index\n",
        "x_next_30_days = np.array(next_30_days_index).reshape(-1, 1)\n",
        "\n",
        "# Predict the closing prices for the next 30 days\n",
        "y_next_30_days = model.predict(n_periods=len(x_next_30_days)) \n",
        "\n",
        "# Print the predicted closing prices for the next 30 days\n",
        "print('Predicted closing prices for the next 30 days:')\n",
        "print(y_next_30_days)"
      ],
      "metadata": {
        "colab": {
          "base_uri": "https://localhost:8080/"
        },
        "id": "Q6vFjOFJwdpX",
        "outputId": "f758961a-1579-4e9e-e9f7-26df0c5f7e07"
      },
      "execution_count": 8,
      "outputs": [
        {
          "output_type": "stream",
          "name": "stdout",
          "text": [
            "2023-05-05 00:00:00\n",
            "DatetimeIndex(['2023-05-06', '2023-05-07', '2023-05-08', '2023-05-09',\n",
            "               '2023-05-10', '2023-05-11', '2023-05-12', '2023-05-13',\n",
            "               '2023-05-14', '2023-05-15', '2023-05-16', '2023-05-17',\n",
            "               '2023-05-18', '2023-05-19', '2023-05-20', '2023-05-21',\n",
            "               '2023-05-22', '2023-05-23', '2023-05-24', '2023-05-25',\n",
            "               '2023-05-26', '2023-05-27', '2023-05-28', '2023-05-29',\n",
            "               '2023-05-30', '2023-05-31', '2023-06-01', '2023-06-02',\n",
            "               '2023-06-03', '2023-06-04'],\n",
            "              dtype='datetime64[ns]', freq='D')\n",
            "Predicted closing prices for the next 30 days:\n",
            "[0.25175789 0.25388184 0.25550642 0.23896012 0.23887984 0.23875257\n",
            " 0.23314584 0.23919567 0.24717108 0.24519464 0.24683859 0.24885334\n",
            " 0.24255802 0.23976936 0.24158846 0.23952386 0.24015434 0.2446493\n",
            " 0.24467509 0.24390658 0.24537207 0.24356841 0.24119384 0.2420861\n",
            " 0.24200181 0.24144142 0.24328875 0.24407325 0.2432598  0.24368923]\n"
          ]
        }
      ]
    },
    {
      "cell_type": "code",
      "source": [
        "# 12. Đánh giá độ chính xác thuật toán\n",
        "import sklearn.metrics as metrics\n",
        "mae = mean_absolute_error(y_test,y_pred)\n",
        "print('MAE:', mae)"
      ],
      "metadata": {
        "colab": {
          "base_uri": "https://localhost:8080/"
        },
        "id": "KNh_LyQ_jkCM",
        "outputId": "9c072b23-1c99-4251-fef8-f15a32d154a2"
      },
      "execution_count": 9,
      "outputs": [
        {
          "output_type": "stream",
          "name": "stdout",
          "text": [
            "MAE: 0.11058836060492373\n"
          ]
        }
      ]
    },
    {
      "cell_type": "code",
      "source": [
        "mse = mean_squared_error(y_test,y_pred)\n",
        "print('MSE:', mse)"
      ],
      "metadata": {
        "colab": {
          "base_uri": "https://localhost:8080/"
        },
        "id": "TZ1Qwq4ykCLF",
        "outputId": "affc66ae-6e34-4431-db0f-a464e05df157"
      },
      "execution_count": 10,
      "outputs": [
        {
          "output_type": "stream",
          "name": "stdout",
          "text": [
            "MSE: 0.01586272655147626\n"
          ]
        }
      ]
    },
    {
      "cell_type": "code",
      "source": [
        "rmse = math.sqrt(mean_squared_error(y_test,y_pred))\n",
        "print('RMSE:', rmse)"
      ],
      "metadata": {
        "colab": {
          "base_uri": "https://localhost:8080/"
        },
        "id": "duC8rVWFkY3-",
        "outputId": "552c2204-95a2-4b7c-849d-cc114de4a487"
      },
      "execution_count": 11,
      "outputs": [
        {
          "output_type": "stream",
          "name": "stdout",
          "text": [
            "RMSE: 0.12594731657116107\n"
          ]
        }
      ]
    },
    {
      "cell_type": "code",
      "source": [
        "r2 = r2_score(y_test, y_pred)\n",
        "print('r2:', r2)"
      ],
      "metadata": {
        "colab": {
          "base_uri": "https://localhost:8080/"
        },
        "id": "_uvy1Sp5kfkf",
        "outputId": "a0fc7dd9-e632-4f02-cf26-d8eb68536112"
      },
      "execution_count": 12,
      "outputs": [
        {
          "output_type": "stream",
          "name": "stdout",
          "text": [
            "r2: -1.8477139886061975\n"
          ]
        }
      ]
    },
    {
      "cell_type": "code",
      "source": [
        "def mape(y_test, pred):\n",
        "    y_test, pred = np.array(y_test), np.array(pred)\n",
        "    mape = np.mean(np.abs((y_test - pred) / y_test))\n",
        "    return mape\n",
        "mape = mape(y_test, y_pred)\n",
        "print('MAPE:', mape)"
      ],
      "metadata": {
        "colab": {
          "base_uri": "https://localhost:8080/"
        },
        "id": "q8XsPqf_kkw1",
        "outputId": "0af1e002-da83-492e-803e-84c416808692"
      },
      "execution_count": 13,
      "outputs": [
        {
          "output_type": "stream",
          "name": "stdout",
          "text": [
            "MAPE: 1.2941323290684277\n"
          ]
        }
      ]
    },
    {
      "cell_type": "code",
      "source": [
        "# 8. Tính RMSE\n",
        "valid_rmse = np.sqrt(np.mean((y_pred_val - y_val)**2))\n",
        "test_rmse = np.sqrt(np.mean((y_pred - y_test)**2))\n",
        "valid_mape = np.mean(np.abs(y_pred_val - y_val)/np.abs(y_val))  # MAPE\n",
        "test_mape = np.mean(np.abs(y_pred - y_test)/np.abs(y_test))  # MAPE\n",
        "print('Validation RMSE:', valid_rmse)\n",
        "print('Testing RMSE:', test_rmse)\n",
        "print('Validation MAPE:', valid_mape)\n",
        "print('Testing MAPE:', test_mape)\n",
        "# 9.Vẽ hình\n",
        "plt.figure(figsize=(12,5), dpi=100)\n",
        "plt.ylabel('Close');\n",
        "plt.xlabel('Date');\n",
        "plt.title('ARIMA Train, Test, Predict')\n",
        "plt.plot(train_data.index, train_data['Close'])\n",
        "plt.plot(test_data.index, test_data['Close'])\n",
        "plt.plot(test_data.index, y_pred)\n",
        "plt.plot(val_data.index, y_pred_val)\n",
        "# plt.plot(last_data,y_next_30_days)\n",
        "plt.plot(next_30_days_index,y_next_30_days)\n",
        "\n",
        "plt.legend(['Train', 'Test', 'Predictions','Validate','Next30Day'])\n",
        "plt.show()"
      ],
      "metadata": {
        "colab": {
          "base_uri": "https://localhost:8080/",
          "height": 556
        },
        "id": "3aVHHs6kwjl-",
        "outputId": "8a005643-b77d-4a08-abc3-d8a9e530931b"
      },
      "execution_count": 14,
      "outputs": [
        {
          "output_type": "stream",
          "name": "stdout",
          "text": [
            "Validation RMSE: 0.16068550108684634\n",
            "Testing RMSE: 0.12594731657116107\n",
            "Validation MAPE: 1.9750231464679833\n",
            "Testing MAPE: 1.2941323290684277\n"
          ]
        },
        {
          "output_type": "display_data",
          "data": {
            "text/plain": [
              "<Figure size 1200x500 with 1 Axes>"
            ],
            "image/png": "[encoded data removed]"
          },
          "metadata": {}
        }
      ]
    },
    {
      "cell_type": "code",
      "source": [],
      "metadata": {
        "id": "AqWCX6h7GvPH"
      },
      "execution_count": 14,
      "outputs": []
    }
  ]
}