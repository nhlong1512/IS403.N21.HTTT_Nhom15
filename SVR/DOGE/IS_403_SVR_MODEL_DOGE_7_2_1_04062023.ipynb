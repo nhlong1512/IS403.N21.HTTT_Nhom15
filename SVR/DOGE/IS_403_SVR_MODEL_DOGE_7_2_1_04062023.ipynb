{
 "cells": [
  {
   "cell_type": "code",
   "execution_count": 3,
   "metadata": {},
   "outputs": [],
   "source": [
    "import numpy as np\n",
    "import pandas as pd\n",
    "import matplotlib.pyplot as plt\n",
    "from sklearn import svm\n",
    "from sklearn.svm import SVR\n",
    "from sklearn import datasets\n",
    "from sklearn.metrics import mean_squared_error, r2_score\n",
    "plt.style.use('fivethirtyeight')\n"
   ]
  },
  {
   "cell_type": "code",
   "execution_count": 4,
   "metadata": {},
   "outputs": [
    {
     "data": {
      "text/html": [
       "<div>\n",
       "<style scoped>\n",
       "    .dataframe tbody tr th:only-of-type {\n",
       "        vertical-align: middle;\n",
       "    }\n",
       "\n",
       "    .dataframe tbody tr th {\n",
       "        vertical-align: top;\n",
       "    }\n",
       "\n",
       "    .dataframe thead th {\n",
       "        text-align: right;\n",
       "    }\n",
       "</style>\n",
       "<table border=\"1\" class=\"dataframe\">\n",
       "  <thead>\n",
       "    <tr style=\"text-align: right;\">\n",
       "      <th></th>\n",
       "      <th>Date</th>\n",
       "      <th>Open</th>\n",
       "      <th>High</th>\n",
       "      <th>Low</th>\n",
       "      <th>Close</th>\n",
       "      <th>Adj Close</th>\n",
       "      <th>Volume</th>\n",
       "    </tr>\n",
       "    <tr>\n",
       "      <th>Date</th>\n",
       "      <th></th>\n",
       "      <th></th>\n",
       "      <th></th>\n",
       "      <th></th>\n",
       "      <th></th>\n",
       "      <th></th>\n",
       "      <th></th>\n",
       "    </tr>\n",
       "  </thead>\n",
       "  <tbody>\n",
       "    <tr>\n",
       "      <th>2019-01-01</th>\n",
       "      <td>2019-01-01</td>\n",
       "      <td>0.002346</td>\n",
       "      <td>0.002392</td>\n",
       "      <td>0.002322</td>\n",
       "      <td>0.002392</td>\n",
       "      <td>0.002392</td>\n",
       "      <td>17364744</td>\n",
       "    </tr>\n",
       "    <tr>\n",
       "      <th>2019-01-02</th>\n",
       "      <td>2019-01-02</td>\n",
       "      <td>0.002388</td>\n",
       "      <td>0.002458</td>\n",
       "      <td>0.002372</td>\n",
       "      <td>0.002407</td>\n",
       "      <td>0.002407</td>\n",
       "      <td>18015392</td>\n",
       "    </tr>\n",
       "    <tr>\n",
       "      <th>2019-01-03</th>\n",
       "      <td>2019-01-03</td>\n",
       "      <td>0.002404</td>\n",
       "      <td>0.002414</td>\n",
       "      <td>0.002356</td>\n",
       "      <td>0.002360</td>\n",
       "      <td>0.002360</td>\n",
       "      <td>17619234</td>\n",
       "    </tr>\n",
       "    <tr>\n",
       "      <th>2019-01-04</th>\n",
       "      <td>2019-01-04</td>\n",
       "      <td>0.002364</td>\n",
       "      <td>0.002397</td>\n",
       "      <td>0.002274</td>\n",
       "      <td>0.002315</td>\n",
       "      <td>0.002315</td>\n",
       "      <td>19530100</td>\n",
       "    </tr>\n",
       "    <tr>\n",
       "      <th>2019-01-05</th>\n",
       "      <td>2019-01-05</td>\n",
       "      <td>0.002320</td>\n",
       "      <td>0.002350</td>\n",
       "      <td>0.002280</td>\n",
       "      <td>0.002319</td>\n",
       "      <td>0.002319</td>\n",
       "      <td>17148586</td>\n",
       "    </tr>\n",
       "    <tr>\n",
       "      <th>...</th>\n",
       "      <td>...</td>\n",
       "      <td>...</td>\n",
       "      <td>...</td>\n",
       "      <td>...</td>\n",
       "      <td>...</td>\n",
       "      <td>...</td>\n",
       "      <td>...</td>\n",
       "    </tr>\n",
       "    <tr>\n",
       "      <th>2023-05-01</th>\n",
       "      <td>2023-05-01</td>\n",
       "      <td>0.079760</td>\n",
       "      <td>0.079996</td>\n",
       "      <td>0.077628</td>\n",
       "      <td>0.078820</td>\n",
       "      <td>0.078820</td>\n",
       "      <td>325694977</td>\n",
       "    </tr>\n",
       "    <tr>\n",
       "      <th>2023-05-02</th>\n",
       "      <td>2023-05-02</td>\n",
       "      <td>0.078822</td>\n",
       "      <td>0.079045</td>\n",
       "      <td>0.077832</td>\n",
       "      <td>0.078806</td>\n",
       "      <td>0.078806</td>\n",
       "      <td>234651604</td>\n",
       "    </tr>\n",
       "    <tr>\n",
       "      <th>2023-05-03</th>\n",
       "      <td>2023-05-03</td>\n",
       "      <td>0.078806</td>\n",
       "      <td>0.080527</td>\n",
       "      <td>0.077328</td>\n",
       "      <td>0.079713</td>\n",
       "      <td>0.079713</td>\n",
       "      <td>306950726</td>\n",
       "    </tr>\n",
       "    <tr>\n",
       "      <th>2023-05-04</th>\n",
       "      <td>2023-05-04</td>\n",
       "      <td>0.079703</td>\n",
       "      <td>0.079736</td>\n",
       "      <td>0.078156</td>\n",
       "      <td>0.078449</td>\n",
       "      <td>0.078449</td>\n",
       "      <td>255462655</td>\n",
       "    </tr>\n",
       "    <tr>\n",
       "      <th>2023-05-05</th>\n",
       "      <td>2023-05-05</td>\n",
       "      <td>0.078449</td>\n",
       "      <td>0.079143</td>\n",
       "      <td>0.078294</td>\n",
       "      <td>0.078835</td>\n",
       "      <td>0.078835</td>\n",
       "      <td>252671200</td>\n",
       "    </tr>\n",
       "  </tbody>\n",
       "</table>\n",
       "<p>1586 rows × 7 columns</p>\n",
       "</div>"
      ],
      "text/plain": [
       "                  Date      Open      High       Low     Close  Adj Close   \n",
       "Date                                                                        \n",
       "2019-01-01  2019-01-01  0.002346  0.002392  0.002322  0.002392   0.002392  \\\n",
       "2019-01-02  2019-01-02  0.002388  0.002458  0.002372  0.002407   0.002407   \n",
       "2019-01-03  2019-01-03  0.002404  0.002414  0.002356  0.002360   0.002360   \n",
       "2019-01-04  2019-01-04  0.002364  0.002397  0.002274  0.002315   0.002315   \n",
       "2019-01-05  2019-01-05  0.002320  0.002350  0.002280  0.002319   0.002319   \n",
       "...                ...       ...       ...       ...       ...        ...   \n",
       "2023-05-01  2023-05-01  0.079760  0.079996  0.077628  0.078820   0.078820   \n",
       "2023-05-02  2023-05-02  0.078822  0.079045  0.077832  0.078806   0.078806   \n",
       "2023-05-03  2023-05-03  0.078806  0.080527  0.077328  0.079713   0.079713   \n",
       "2023-05-04  2023-05-04  0.079703  0.079736  0.078156  0.078449   0.078449   \n",
       "2023-05-05  2023-05-05  0.078449  0.079143  0.078294  0.078835   0.078835   \n",
       "\n",
       "               Volume  \n",
       "Date                   \n",
       "2019-01-01   17364744  \n",
       "2019-01-02   18015392  \n",
       "2019-01-03   17619234  \n",
       "2019-01-04   19530100  \n",
       "2019-01-05   17148586  \n",
       "...               ...  \n",
       "2023-05-01  325694977  \n",
       "2023-05-02  234651604  \n",
       "2023-05-03  306950726  \n",
       "2023-05-04  255462655  \n",
       "2023-05-05  252671200  \n",
       "\n",
       "[1586 rows x 7 columns]"
      ]
     },
     "execution_count": 4,
     "metadata": {},
     "output_type": "execute_result"
    }
   ],
   "source": [
    "#read in the data\n",
    "data = pd.read_csv('DOGE-USD.csv')\n",
    "#set the date as the index\n",
    "data = data.set_index(pd.DatetimeIndex(data['Date']))\n",
    "#show the data\n",
    "data"
   ]
  },
  {
   "cell_type": "code",
   "execution_count": 5,
   "metadata": {},
   "outputs": [],
   "source": [
    "future_day= 30"
   ]
  },
  {
   "cell_type": "code",
   "execution_count": 6,
   "metadata": {},
   "outputs": [
    {
     "data": {
      "text/html": [
       "<div>\n",
       "<style scoped>\n",
       "    .dataframe tbody tr th:only-of-type {\n",
       "        vertical-align: middle;\n",
       "    }\n",
       "\n",
       "    .dataframe tbody tr th {\n",
       "        vertical-align: top;\n",
       "    }\n",
       "\n",
       "    .dataframe thead th {\n",
       "        text-align: right;\n",
       "    }\n",
       "</style>\n",
       "<table border=\"1\" class=\"dataframe\">\n",
       "  <thead>\n",
       "    <tr style=\"text-align: right;\">\n",
       "      <th></th>\n",
       "      <th>Close</th>\n",
       "      <th>30_Day_Price_Forecast</th>\n",
       "    </tr>\n",
       "    <tr>\n",
       "      <th>Date</th>\n",
       "      <th></th>\n",
       "      <th></th>\n",
       "    </tr>\n",
       "  </thead>\n",
       "  <tbody>\n",
       "    <tr>\n",
       "      <th>2019-01-01</th>\n",
       "      <td>0.002392</td>\n",
       "      <td>0.001925</td>\n",
       "    </tr>\n",
       "    <tr>\n",
       "      <th>2019-01-02</th>\n",
       "      <td>0.002407</td>\n",
       "      <td>0.001916</td>\n",
       "    </tr>\n",
       "    <tr>\n",
       "      <th>2019-01-03</th>\n",
       "      <td>0.002360</td>\n",
       "      <td>0.001936</td>\n",
       "    </tr>\n",
       "    <tr>\n",
       "      <th>2019-01-04</th>\n",
       "      <td>0.002315</td>\n",
       "      <td>0.001904</td>\n",
       "    </tr>\n",
       "    <tr>\n",
       "      <th>2019-01-05</th>\n",
       "      <td>0.002319</td>\n",
       "      <td>0.001896</td>\n",
       "    </tr>\n",
       "    <tr>\n",
       "      <th>...</th>\n",
       "      <td>...</td>\n",
       "      <td>...</td>\n",
       "    </tr>\n",
       "    <tr>\n",
       "      <th>2023-05-01</th>\n",
       "      <td>0.078820</td>\n",
       "      <td>NaN</td>\n",
       "    </tr>\n",
       "    <tr>\n",
       "      <th>2023-05-02</th>\n",
       "      <td>0.078806</td>\n",
       "      <td>NaN</td>\n",
       "    </tr>\n",
       "    <tr>\n",
       "      <th>2023-05-03</th>\n",
       "      <td>0.079713</td>\n",
       "      <td>NaN</td>\n",
       "    </tr>\n",
       "    <tr>\n",
       "      <th>2023-05-04</th>\n",
       "      <td>0.078449</td>\n",
       "      <td>NaN</td>\n",
       "    </tr>\n",
       "    <tr>\n",
       "      <th>2023-05-05</th>\n",
       "      <td>0.078835</td>\n",
       "      <td>NaN</td>\n",
       "    </tr>\n",
       "  </tbody>\n",
       "</table>\n",
       "<p>1586 rows × 2 columns</p>\n",
       "</div>"
      ],
      "text/plain": [
       "               Close  30_Day_Price_Forecast\n",
       "Date                                       \n",
       "2019-01-01  0.002392               0.001925\n",
       "2019-01-02  0.002407               0.001916\n",
       "2019-01-03  0.002360               0.001936\n",
       "2019-01-04  0.002315               0.001904\n",
       "2019-01-05  0.002319               0.001896\n",
       "...              ...                    ...\n",
       "2023-05-01  0.078820                    NaN\n",
       "2023-05-02  0.078806                    NaN\n",
       "2023-05-03  0.079713                    NaN\n",
       "2023-05-04  0.078449                    NaN\n",
       "2023-05-05  0.078835                    NaN\n",
       "\n",
       "[1586 rows x 2 columns]"
      ]
     },
     "execution_count": 6,
     "metadata": {},
     "output_type": "execute_result"
    }
   ],
   "source": [
    "#Create a new column\n",
    "#data[str(future_day)+'_Day_Price_Forecast'] = data[[\"Close\"]].shift(-future_day)\n",
    "data[str(future_day)+'_Day_Price_Forecast'] = data[[\"Close\"]].shift(-future_day)\n",
    "#Show the data\n",
    "data[['Close', str(future_day)+'_Day_Price_Forecast']]\n",
    "#data\n",
    "\n"
   ]
  },
  {
   "cell_type": "code",
   "execution_count": 7,
   "metadata": {},
   "outputs": [
    {
     "name": "stdout",
     "output_type": "stream",
     "text": [
      "[[0.002392]\n",
      " [0.002407]\n",
      " [0.00236 ]\n",
      " ...\n",
      " [0.096079]\n",
      " [0.095159]\n",
      " [0.092817]]\n"
     ]
    }
   ],
   "source": [
    "X = np.array(data[['Close']])\n",
    "X = X[:data.shape[0] - future_day]\n",
    "print(X)"
   ]
  },
  {
   "cell_type": "code",
   "execution_count": 8,
   "metadata": {},
   "outputs": [
    {
     "name": "stdout",
     "output_type": "stream",
     "text": [
      "[0.001925 0.001916 0.001936 ... 0.079713 0.078449 0.078835]\n"
     ]
    }
   ],
   "source": [
    "Y = np.array(data[str(future_day)+'_Day_Price_Forecast'])\n",
    "Y = Y[:- future_day]\n",
    "print(Y)"
   ]
  },
  {
   "cell_type": "code",
   "execution_count": 9,
   "metadata": {},
   "outputs": [
    {
     "data": {
      "text/plain": [
       "array([[0.085412],\n",
       "       [0.082456],\n",
       "       [0.081405],\n",
       "       [0.08329 ],\n",
       "       [0.084852],\n",
       "       [0.084237],\n",
       "       [0.083433],\n",
       "       [0.087484],\n",
       "       [0.088785],\n",
       "       [0.088974],\n",
       "       [0.090472],\n",
       "       [0.091449],\n",
       "       [0.093989],\n",
       "       [0.087868],\n",
       "       [0.083937],\n",
       "       [0.078479],\n",
       "       [0.080375],\n",
       "       [0.07882 ],\n",
       "       [0.078784],\n",
       "       [0.079847],\n",
       "       [0.078623],\n",
       "       [0.08019 ],\n",
       "       [0.080364],\n",
       "       [0.08163 ],\n",
       "       [0.079769],\n",
       "       [0.07882 ],\n",
       "       [0.078806],\n",
       "       [0.079713],\n",
       "       [0.078449],\n",
       "       [0.078835]])"
      ]
     },
     "execution_count": 9,
     "metadata": {},
     "output_type": "execute_result"
    }
   ],
   "source": [
    "val = np.array(data[['Close']])\n",
    "val = val[- future_day:]\n",
    "val\n"
   ]
  },
  {
   "cell_type": "code",
   "execution_count": 10,
   "metadata": {},
   "outputs": [],
   "source": [
    "#Split the data\n",
    "#Chia tập dữ liệu thành tập train, test và predict theo tỷ lệ 7-1-2\n",
    "X_train = X[:int(X.shape[0]*0.7)]\n",
    "Y_train = Y[:int(Y.shape[0]*0.7)]\n",
    "\n",
    "X_test = X[int(X.shape[0]*0.7):int(X.shape[0]*0.9)]\n",
    "Y_test = Y[int(Y.shape[0]*0.7):int(Y.shape[0]*0.9)]\n",
    "\n",
    "X_val = X[int(X.shape[0]*0.9):]\n",
    "Y_val = Y[int(Y.shape[0]*0.9):]\n",
    "\n"
   ]
  },
  {
   "cell_type": "code",
   "execution_count": 11,
   "metadata": {},
   "outputs": [
    {
     "data": {
      "text/plain": [
       "311"
      ]
     },
     "execution_count": 11,
     "metadata": {},
     "output_type": "execute_result"
    }
   ],
   "source": [
    "len(X_test)"
   ]
  },
  {
   "cell_type": "code",
   "execution_count": 12,
   "metadata": {},
   "outputs": [
    {
     "name": "stderr",
     "output_type": "stream",
     "text": [
      "c:\\APP\\Lib\\site-packages\\sklearn\\base.py:432: UserWarning: X has feature names, but StandardScaler was fitted without feature names\n",
      "  warnings.warn(\n"
     ]
    }
   ],
   "source": [
    "from sklearn.preprocessing import StandardScaler\n",
    "scaler = StandardScaler()\n",
    "\n",
    "X_train_scaled = scaler.fit_transform(X_train)\n",
    "X_test_scaled = scaler.transform(X_test)\n",
    "X_val_scaled = scaler.transform(X_val)\n",
    "\n",
    "X_pred = scaler.transform(data[['Close']])"
   ]
  },
  {
   "cell_type": "code",
   "execution_count": 13,
   "metadata": {},
   "outputs": [],
   "source": [
    "from sklearn.model_selection import GridSearchCV\n",
    "from sklearn.svm import SVR\n",
    "from scipy.stats import uniform, randint\n",
    "svr = SVR()\n",
    "# Tạo dictionary chứa các giá trị hyperparameters để thử nghiệm\n",
    "param_grid = {'C':[0.01, 0.1, 1, 10 ,100],\n",
    "              'gamma': [0.01, 0.1, 1, 10 ,100],\n",
    "              'kernel': ['linear', 'rbf','sigmoid']}"
   ]
  },
  {
   "cell_type": "code",
   "execution_count": 14,
   "metadata": {},
   "outputs": [],
   "source": [
    "X_Grid = np.concatenate([X_train_scaled,X_val_scaled])\n",
    "Y_Grid = np.concatenate([Y_train,Y_val])"
   ]
  },
  {
   "cell_type": "code",
   "execution_count": 15,
   "metadata": {},
   "outputs": [
    {
     "data": {
      "text/plain": [
       "(1245, 1)"
      ]
     },
     "execution_count": 15,
     "metadata": {},
     "output_type": "execute_result"
    }
   ],
   "source": [
    "X_Grid.shape"
   ]
  },
  {
   "cell_type": "code",
   "execution_count": 16,
   "metadata": {},
   "outputs": [],
   "source": [
    "# Tạo một đối tượng GridSearchCV với model là SVR, dictionary chứa các hyperparameters, và 5 fold cross validation\n",
    "grid_search = GridSearchCV(svr, param_grid, refit=True, cv=8, scoring='neg_mean_squared_error')"
   ]
  },
  {
   "cell_type": "code",
   "execution_count": 17,
   "metadata": {},
   "outputs": [
    {
     "data": {
      "text/html": [
       "<style>#sk-container-id-1 {color: black;background-color: white;}#sk-container-id-1 pre{padding: 0;}#sk-container-id-1 div.sk-toggleable {background-color: white;}#sk-container-id-1 label.sk-toggleable__label {cursor: pointer;display: block;width: 100%;margin-bottom: 0;padding: 0.3em;box-sizing: border-box;text-align: center;}#sk-container-id-1 label.sk-toggleable__label-arrow:before {content: \"▸\";float: left;margin-right: 0.25em;color: #696969;}#sk-container-id-1 label.sk-toggleable__label-arrow:hover:before {color: black;}#sk-container-id-1 div.sk-estimator:hover label.sk-toggleable__label-arrow:before {color: black;}#sk-container-id-1 div.sk-toggleable__content {max-height: 0;max-width: 0;overflow: hidden;text-align: left;background-color: #f0f8ff;}#sk-container-id-1 div.sk-toggleable__content pre {margin: 0.2em;color: black;border-radius: 0.25em;background-color: #f0f8ff;}#sk-container-id-1 input.sk-toggleable__control:checked~div.sk-toggleable__content {max-height: 200px;max-width: 100%;overflow: auto;}#sk-container-id-1 input.sk-toggleable__control:checked~label.sk-toggleable__label-arrow:before {content: \"▾\";}#sk-container-id-1 div.sk-estimator input.sk-toggleable__control:checked~label.sk-toggleable__label {background-color: #d4ebff;}#sk-container-id-1 div.sk-label input.sk-toggleable__control:checked~label.sk-toggleable__label {background-color: #d4ebff;}#sk-container-id-1 input.sk-hidden--visually {border: 0;clip: rect(1px 1px 1px 1px);clip: rect(1px, 1px, 1px, 1px);height: 1px;margin: -1px;overflow: hidden;padding: 0;position: absolute;width: 1px;}#sk-container-id-1 div.sk-estimator {font-family: monospace;background-color: #f0f8ff;border: 1px dotted black;border-radius: 0.25em;box-sizing: border-box;margin-bottom: 0.5em;}#sk-container-id-1 div.sk-estimator:hover {background-color: #d4ebff;}#sk-container-id-1 div.sk-parallel-item::after {content: \"\";width: 100%;border-bottom: 1px solid gray;flex-grow: 1;}#sk-container-id-1 div.sk-label:hover label.sk-toggleable__label {background-color: #d4ebff;}#sk-container-id-1 div.sk-serial::before {content: \"\";position: absolute;border-left: 1px solid gray;box-sizing: border-box;top: 0;bottom: 0;left: 50%;z-index: 0;}#sk-container-id-1 div.sk-serial {display: flex;flex-direction: column;align-items: center;background-color: white;padding-right: 0.2em;padding-left: 0.2em;position: relative;}#sk-container-id-1 div.sk-item {position: relative;z-index: 1;}#sk-container-id-1 div.sk-parallel {display: flex;align-items: stretch;justify-content: center;background-color: white;position: relative;}#sk-container-id-1 div.sk-item::before, #sk-container-id-1 div.sk-parallel-item::before {content: \"\";position: absolute;border-left: 1px solid gray;box-sizing: border-box;top: 0;bottom: 0;left: 50%;z-index: -1;}#sk-container-id-1 div.sk-parallel-item {display: flex;flex-direction: column;z-index: 1;position: relative;background-color: white;}#sk-container-id-1 div.sk-parallel-item:first-child::after {align-self: flex-end;width: 50%;}#sk-container-id-1 div.sk-parallel-item:last-child::after {align-self: flex-start;width: 50%;}#sk-container-id-1 div.sk-parallel-item:only-child::after {width: 0;}#sk-container-id-1 div.sk-dashed-wrapped {border: 1px dashed gray;margin: 0 0.4em 0.5em 0.4em;box-sizing: border-box;padding-bottom: 0.4em;background-color: white;}#sk-container-id-1 div.sk-label label {font-family: monospace;font-weight: bold;display: inline-block;line-height: 1.2em;}#sk-container-id-1 div.sk-label-container {text-align: center;}#sk-container-id-1 div.sk-container {/* jupyter's `normalize.less` sets `[hidden] { display: none; }` but bootstrap.min.css set `[hidden] { display: none !important; }` so we also need the `!important` here to be able to override the default hidden behavior on the sphinx rendered scikit-learn.org. See: https://github.com/scikit-learn/scikit-learn/issues/21755 */display: inline-block !important;position: relative;}#sk-container-id-1 div.sk-text-repr-fallback {display: none;}</style><div id=\"sk-container-id-1\" class=\"sk-top-container\"><div class=\"sk-text-repr-fallback\"><pre>GridSearchCV(cv=8, estimator=SVR(),\n",
       "             param_grid={&#x27;C&#x27;: [0.01, 0.1, 1, 10, 100],\n",
       "                         &#x27;gamma&#x27;: [0.01, 0.1, 1, 10, 100],\n",
       "                         &#x27;kernel&#x27;: [&#x27;linear&#x27;, &#x27;rbf&#x27;, &#x27;sigmoid&#x27;]},\n",
       "             scoring=&#x27;neg_mean_squared_error&#x27;)</pre><b>In a Jupyter environment, please rerun this cell to show the HTML representation or trust the notebook. <br />On GitHub, the HTML representation is unable to render, please try loading this page with nbviewer.org.</b></div><div class=\"sk-container\" hidden><div class=\"sk-item sk-dashed-wrapped\"><div class=\"sk-label-container\"><div class=\"sk-label sk-toggleable\"><input class=\"sk-toggleable__control sk-hidden--visually\" id=\"sk-estimator-id-1\" type=\"checkbox\" ><label for=\"sk-estimator-id-1\" class=\"sk-toggleable__label sk-toggleable__label-arrow\">GridSearchCV</label><div class=\"sk-toggleable__content\"><pre>GridSearchCV(cv=8, estimator=SVR(),\n",
       "             param_grid={&#x27;C&#x27;: [0.01, 0.1, 1, 10, 100],\n",
       "                         &#x27;gamma&#x27;: [0.01, 0.1, 1, 10, 100],\n",
       "                         &#x27;kernel&#x27;: [&#x27;linear&#x27;, &#x27;rbf&#x27;, &#x27;sigmoid&#x27;]},\n",
       "             scoring=&#x27;neg_mean_squared_error&#x27;)</pre></div></div></div><div class=\"sk-parallel\"><div class=\"sk-parallel-item\"><div class=\"sk-item\"><div class=\"sk-label-container\"><div class=\"sk-label sk-toggleable\"><input class=\"sk-toggleable__control sk-hidden--visually\" id=\"sk-estimator-id-2\" type=\"checkbox\" ><label for=\"sk-estimator-id-2\" class=\"sk-toggleable__label sk-toggleable__label-arrow\">estimator: SVR</label><div class=\"sk-toggleable__content\"><pre>SVR()</pre></div></div></div><div class=\"sk-serial\"><div class=\"sk-item\"><div class=\"sk-estimator sk-toggleable\"><input class=\"sk-toggleable__control sk-hidden--visually\" id=\"sk-estimator-id-3\" type=\"checkbox\" ><label for=\"sk-estimator-id-3\" class=\"sk-toggleable__label sk-toggleable__label-arrow\">SVR</label><div class=\"sk-toggleable__content\"><pre>SVR()</pre></div></div></div></div></div></div></div></div></div></div>"
      ],
      "text/plain": [
       "GridSearchCV(cv=8, estimator=SVR(),\n",
       "             param_grid={'C': [0.01, 0.1, 1, 10, 100],\n",
       "                         'gamma': [0.01, 0.1, 1, 10, 100],\n",
       "                         'kernel': ['linear', 'rbf', 'sigmoid']},\n",
       "             scoring='neg_mean_squared_error')"
      ]
     },
     "execution_count": 17,
     "metadata": {},
     "output_type": "execute_result"
    }
   ],
   "source": [
    "# Huấn luyện đối tượng GridSearchCV\n",
    "grid_search.fit(X_train_scaled, Y_train)"
   ]
  },
  {
   "cell_type": "code",
   "execution_count": 18,
   "metadata": {},
   "outputs": [
    {
     "name": "stdout",
     "output_type": "stream",
     "text": [
      "{'C': 10, 'gamma': 0.01, 'kernel': 'sigmoid'}\n"
     ]
    }
   ],
   "source": [
    "# In ra bộ hyperparameters tốt nhất\n",
    "best_para=grid_search.best_params_\n",
    "kernel_best=best_para['kernel']\n",
    "C_best=best_para['C']\n",
    "gamma_best=best_para['gamma']\n",
    "print(best_para)"
   ]
  },
  {
   "cell_type": "code",
   "execution_count": 19,
   "metadata": {},
   "outputs": [
    {
     "data": {
      "text/plain": [
       "-0.010249926959961138"
      ]
     },
     "execution_count": 19,
     "metadata": {},
     "output_type": "execute_result"
    }
   ],
   "source": [
    "grid_search.best_score_\n"
   ]
  },
  {
   "cell_type": "code",
   "execution_count": 20,
   "metadata": {},
   "outputs": [
    {
     "data": {
      "text/html": [
       "<style>#sk-container-id-2 {color: black;background-color: white;}#sk-container-id-2 pre{padding: 0;}#sk-container-id-2 div.sk-toggleable {background-color: white;}#sk-container-id-2 label.sk-toggleable__label {cursor: pointer;display: block;width: 100%;margin-bottom: 0;padding: 0.3em;box-sizing: border-box;text-align: center;}#sk-container-id-2 label.sk-toggleable__label-arrow:before {content: \"▸\";float: left;margin-right: 0.25em;color: #696969;}#sk-container-id-2 label.sk-toggleable__label-arrow:hover:before {color: black;}#sk-container-id-2 div.sk-estimator:hover label.sk-toggleable__label-arrow:before {color: black;}#sk-container-id-2 div.sk-toggleable__content {max-height: 0;max-width: 0;overflow: hidden;text-align: left;background-color: #f0f8ff;}#sk-container-id-2 div.sk-toggleable__content pre {margin: 0.2em;color: black;border-radius: 0.25em;background-color: #f0f8ff;}#sk-container-id-2 input.sk-toggleable__control:checked~div.sk-toggleable__content {max-height: 200px;max-width: 100%;overflow: auto;}#sk-container-id-2 input.sk-toggleable__control:checked~label.sk-toggleable__label-arrow:before {content: \"▾\";}#sk-container-id-2 div.sk-estimator input.sk-toggleable__control:checked~label.sk-toggleable__label {background-color: #d4ebff;}#sk-container-id-2 div.sk-label input.sk-toggleable__control:checked~label.sk-toggleable__label {background-color: #d4ebff;}#sk-container-id-2 input.sk-hidden--visually {border: 0;clip: rect(1px 1px 1px 1px);clip: rect(1px, 1px, 1px, 1px);height: 1px;margin: -1px;overflow: hidden;padding: 0;position: absolute;width: 1px;}#sk-container-id-2 div.sk-estimator {font-family: monospace;background-color: #f0f8ff;border: 1px dotted black;border-radius: 0.25em;box-sizing: border-box;margin-bottom: 0.5em;}#sk-container-id-2 div.sk-estimator:hover {background-color: #d4ebff;}#sk-container-id-2 div.sk-parallel-item::after {content: \"\";width: 100%;border-bottom: 1px solid gray;flex-grow: 1;}#sk-container-id-2 div.sk-label:hover label.sk-toggleable__label {background-color: #d4ebff;}#sk-container-id-2 div.sk-serial::before {content: \"\";position: absolute;border-left: 1px solid gray;box-sizing: border-box;top: 0;bottom: 0;left: 50%;z-index: 0;}#sk-container-id-2 div.sk-serial {display: flex;flex-direction: column;align-items: center;background-color: white;padding-right: 0.2em;padding-left: 0.2em;position: relative;}#sk-container-id-2 div.sk-item {position: relative;z-index: 1;}#sk-container-id-2 div.sk-parallel {display: flex;align-items: stretch;justify-content: center;background-color: white;position: relative;}#sk-container-id-2 div.sk-item::before, #sk-container-id-2 div.sk-parallel-item::before {content: \"\";position: absolute;border-left: 1px solid gray;box-sizing: border-box;top: 0;bottom: 0;left: 50%;z-index: -1;}#sk-container-id-2 div.sk-parallel-item {display: flex;flex-direction: column;z-index: 1;position: relative;background-color: white;}#sk-container-id-2 div.sk-parallel-item:first-child::after {align-self: flex-end;width: 50%;}#sk-container-id-2 div.sk-parallel-item:last-child::after {align-self: flex-start;width: 50%;}#sk-container-id-2 div.sk-parallel-item:only-child::after {width: 0;}#sk-container-id-2 div.sk-dashed-wrapped {border: 1px dashed gray;margin: 0 0.4em 0.5em 0.4em;box-sizing: border-box;padding-bottom: 0.4em;background-color: white;}#sk-container-id-2 div.sk-label label {font-family: monospace;font-weight: bold;display: inline-block;line-height: 1.2em;}#sk-container-id-2 div.sk-label-container {text-align: center;}#sk-container-id-2 div.sk-container {/* jupyter's `normalize.less` sets `[hidden] { display: none; }` but bootstrap.min.css set `[hidden] { display: none !important; }` so we also need the `!important` here to be able to override the default hidden behavior on the sphinx rendered scikit-learn.org. See: https://github.com/scikit-learn/scikit-learn/issues/21755 */display: inline-block !important;position: relative;}#sk-container-id-2 div.sk-text-repr-fallback {display: none;}</style><div id=\"sk-container-id-2\" class=\"sk-top-container\"><div class=\"sk-text-repr-fallback\"><pre>SVR(C=10, gamma=0.01, kernel=&#x27;sigmoid&#x27;)</pre><b>In a Jupyter environment, please rerun this cell to show the HTML representation or trust the notebook. <br />On GitHub, the HTML representation is unable to render, please try loading this page with nbviewer.org.</b></div><div class=\"sk-container\" hidden><div class=\"sk-item\"><div class=\"sk-estimator sk-toggleable\"><input class=\"sk-toggleable__control sk-hidden--visually\" id=\"sk-estimator-id-4\" type=\"checkbox\" checked><label for=\"sk-estimator-id-4\" class=\"sk-toggleable__label sk-toggleable__label-arrow\">SVR</label><div class=\"sk-toggleable__content\"><pre>SVR(C=10, gamma=0.01, kernel=&#x27;sigmoid&#x27;)</pre></div></div></div></div></div>"
      ],
      "text/plain": [
       "SVR(C=10, gamma=0.01, kernel='sigmoid')"
      ]
     },
     "execution_count": 20,
     "metadata": {},
     "output_type": "execute_result"
    }
   ],
   "source": [
    "from sklearn.svm import SVR\n",
    "svr_linear = SVR(kernel=kernel_best, C= C_best, gamma= gamma_best)\n",
    "svr_linear.fit(X_train_scaled, Y_train)"
   ]
  },
  {
   "cell_type": "code",
   "execution_count": 21,
   "metadata": {},
   "outputs": [
    {
     "name": "stdout",
     "output_type": "stream",
     "text": [
      "svr_rbf accuracy:  0.25386605715431254\n"
     ]
    }
   ],
   "source": [
    "svr_linear_confidence = svr_linear.score(X_train_scaled, Y_train)\n",
    "print('svr_rbf accuracy: ', svr_linear_confidence)"
   ]
  },
  {
   "cell_type": "code",
   "execution_count": 22,
   "metadata": {},
   "outputs": [
    {
     "name": "stdout",
     "output_type": "stream",
     "text": [
      "MAPE: 0.682300399974055\n",
      "RMSE: 0.05617046586905208\n",
      "R2-quare: -1.89177053148057\n"
     ]
    }
   ],
   "source": [
    "from sklearn.metrics import mean_squared_error\n",
    "from sklearn.metrics import mean_absolute_percentage_error\n",
    "from sklearn.metrics import r2_score\n",
    "\n",
    "X_test_pred = svr_linear.predict(X_test_scaled)\n",
    "\n",
    "val_mse = mean_squared_error(Y_test, X_test_pred)\n",
    "val_rmse = np.sqrt(val_mse)\n",
    "\n",
    "# Tính toán giá trị MAPE\n",
    "mape = mean_absolute_percentage_error(Y_test, X_test_pred)\n",
    "\n",
    "# Tính toán R2 giữa giá trị thực tế (y_true) và giá trị dự đoán (y_pred)\n",
    "r2 = r2_score(Y_test, X_test_pred)\n",
    "\n",
    "print(\"MAPE:\", mape)\n",
    "print(\"RMSE:\", val_rmse)\n",
    "print(\"R2-quare:\", r2)"
   ]
  },
  {
   "cell_type": "code",
   "execution_count": 23,
   "metadata": {},
   "outputs": [
    {
     "name": "stdout",
     "output_type": "stream",
     "text": [
      "MAPE: 0.7020947220823468\n",
      "RMSE: 0.057094351999313335\n",
      "R2-quare: -46.30179981301538\n"
     ]
    }
   ],
   "source": [
    "from sklearn.metrics import mean_squared_error\n",
    "# Tính toán giá trị RMSE\n",
    "X_val_pred = svr_linear.predict(X_val_scaled)\n",
    "rmse = mean_squared_error(Y_val, X_val_pred, squared= False)\n",
    "rmse\n",
    "# Tính toán giá trị MAPE\n",
    "mape = mean_absolute_percentage_error(Y_val, X_val_pred)\n",
    "# Tính toán R2 giữa giá trị thực tế (y_true) và giá trị dự đoán (y_pred)\n",
    "r2 = r2_score(Y_val, X_val_pred)\n",
    "print(\"MAPE:\", mape)\n",
    "print(\"RMSE:\", rmse)\n",
    "print(\"R2-quare:\", r2)"
   ]
  },
  {
   "attachments": {},
   "cell_type": "markdown",
   "metadata": {},
   "source": [
    "Dự đoán"
   ]
  },
  {
   "cell_type": "code",
   "execution_count": 24,
   "metadata": {},
   "outputs": [],
   "source": [
    "# # 13. Dự báo 30 ngày tiếp theo\n",
    "# # Khởi tạo danh sách đầu vào x_input từ tập dữ liệu test\n",
    "# x_input = X_test[-future_day:].reshape(-1, 1)\n",
    "\n",
    "# # Dự đoán giá cho 30 ngày tiếp theo\n",
    "# lst_output = []\n",
    "# for i in range(30):\n",
    "#     # Dự đoán giá cho ngày tiếp theo\n",
    "#     x_input = scaler.transform(x_input)\n",
    "#     yhat = svr_linear.predict(x_input)\n",
    "    \n",
    "#     # Lưu giá dự đoán vào danh sách kết quả\n",
    "#     lst_output.append(yhat[0])\n",
    "    \n",
    "    \n",
    "#     # Cập nhật đầu vào x_input bằng cách đẩy dự đoán vào cuối và cắt bớt phần tử đầu tiên\n",
    "#     # x_input = np.append(x_input[0][1:], yhat[0]).reshape(1, future_day)\n",
    "#     # x_input =np.append(x_input[:,1:], yhat[0], axis=1)\n",
    "#     x_input = np.append(x_input[:][1:], yhat[0]).reshape(-1, 1)"
   ]
  },
  {
   "cell_type": "code",
   "execution_count": 25,
   "metadata": {},
   "outputs": [],
   "source": [
    "# Y_val_scaled = scaler.transform(Y_val)\n",
    "# last_30_days = svr_linear.predict(Y_val_scaled)\n",
    "# last_30_days= last_30_days.reshape(-1,1)\n",
    "# # last_30_days = scaler.fit_transform(last_30_days)\n",
    "# # last_30_days = svr_linear.predict(last_30_days)\n",
    "# #test = last_30_days\n",
    "# # last_30_days = last_30_days[-future_day:]\n",
    "# print(last_30_days)\n",
    "# last_30_days.shape"
   ]
  },
  {
   "cell_type": "code",
   "execution_count": 26,
   "metadata": {},
   "outputs": [
    {
     "name": "stdout",
     "output_type": "stream",
     "text": [
      "0 day output 0.1386946788336521\n",
      "(30, 1)\n",
      "1 day output 0.1374016894288517\n",
      "(30, 1)\n",
      "2 day output 0.13694223685554616\n",
      "(30, 1)\n",
      "3 day output 0.13776637349069315\n",
      "(30, 1)\n",
      "4 day output 0.13844963598013538\n",
      "(30, 1)\n",
      "5 day output 0.13818057805200298\n",
      "(30, 1)\n",
      "6 day output 0.13782891209855\n",
      "(30, 1)\n",
      "7 day output 0.13960175412281317\n",
      "(30, 1)\n",
      "8 day output 0.1401716645480578\n",
      "(30, 1)\n",
      "9 day output 0.1402544818139288\n",
      "(30, 1)\n",
      "10 day output 0.14091111891928632\n",
      "(30, 1)\n",
      "11 day output 0.14133961292135444\n",
      "(30, 1)\n",
      "12 day output 0.1424545401443882\n",
      "(30, 1)\n",
      "13 day output 0.13976993715404162\n",
      "(30, 1)\n",
      "14 day output 0.13804934927751208\n",
      "(30, 1)\n",
      "15 day output 0.13566372912986913\n",
      "(30, 1)\n",
      "16 day output 0.13649208412421993\n",
      "(30, 1)\n",
      "17 day output 0.13581268644433733\n",
      "(30, 1)\n",
      "18 day output 0.13579696026992602\n",
      "(30, 1)\n",
      "19 day output 0.13626136881508533\n",
      "(30, 1)\n",
      "20 day output 0.1357266307038361\n",
      "(30, 1)\n",
      "21 day output 0.13641124320595027\n",
      "(30, 1)\n",
      "22 day output 0.13648727726985108\n",
      "(30, 1)\n",
      "23 day output 0.13704058658096657\n",
      "(30, 1)\n",
      "24 day output 0.1362272882010744\n",
      "(30, 1)\n",
      "25 day output 0.13581268644433733\n",
      "(30, 1)\n",
      "26 day output 0.13580657069635121\n",
      "(30, 1)\n",
      "27 day output 0.13620282043014673\n",
      "(30, 1)\n",
      "28 day output 0.13565062485711707\n",
      "(30, 1)\n",
      "29 day output 0.13581923905055573\n",
      "(30, 1)\n"
     ]
    }
   ],
   "source": [
    "# 13. Dự báo 30 ngày tiếp theo\n",
    "# Khởi tạo danh sách đầu vào x_input từ tập dữ liệu test\n",
    "x_input = Y_val[-30:].reshape(-1, 1)\n",
    "x_input = scaler.transform(x_input)\n",
    "# Dự đoán giá cho 30 ngày tiếp theo\n",
    "i=0\n",
    "lst_output = []\n",
    "for i in range(future_day):\n",
    "    # Dự đoán giá cho ngày tiếp theO\n",
    "    \n",
    "    yhat = svr_linear.predict(x_input)\n",
    "    print(\"{} day output {}\".format(i,yhat[0]))\n",
    "    print(x_input.shape)\n",
    "    # Lưu giá dự đoán vào danh sách kết quả\n",
    "    \n",
    "    lst_output.append(yhat[0])\n",
    "    \n",
    "    # Cập nhật đầu vào x_input bằng cách đẩy dự đoán vào cuối và cắt bớt phần tử đầu tiên\n",
    "    # x_input = np.append(x_input[0][1:], yhat[0]).reshape(1, future_day)\n",
    "    # x_input =np.append(x_input[:,1:], yhat[0], axis=1)\n",
    "    yhat = yhat.reshape(-1,1)\n",
    "    yhat = scaler.transform(yhat)\n",
    "    x_input = np.append(x_input[1:], yhat[0]).reshape(-1, 1)\n",
    "    i=i+1"
   ]
  },
  {
   "cell_type": "code",
   "execution_count": 27,
   "metadata": {},
   "outputs": [
    {
     "name": "stdout",
     "output_type": "stream",
     "text": [
      "(311, 1)\n"
     ]
    },
    {
     "data": {
      "text/plain": [
       "array([[0.137798],\n",
       "       [0.143049],\n",
       "       [0.143789],\n",
       "       [0.141247],\n",
       "       [0.141656],\n",
       "       [0.143056],\n",
       "       [0.139471],\n",
       "       [0.141805],\n",
       "       [0.142631],\n",
       "       [0.137235],\n",
       "       [0.137541],\n",
       "       [0.147503],\n",
       "       [0.147141],\n",
       "       [0.15377 ],\n",
       "       [0.165578],\n",
       "       [0.158405],\n",
       "       [0.159123],\n",
       "       [0.151889],\n",
       "       [0.144847],\n",
       "       [0.144405],\n",
       "       [0.148948],\n",
       "       [0.146003],\n",
       "       [0.151761],\n",
       "       [0.149095],\n",
       "       [0.138552],\n",
       "       [0.138768],\n",
       "       [0.141206],\n",
       "       [0.136868],\n",
       "       [0.12849 ],\n",
       "       [0.131553],\n",
       "       [0.127846],\n",
       "       [0.123813],\n",
       "       [0.127576],\n",
       "       [0.127647],\n",
       "       [0.123111],\n",
       "       [0.133156],\n",
       "       [0.133938],\n",
       "       [0.13299 ],\n",
       "       [0.12961 ],\n",
       "       [0.122591],\n",
       "       [0.124996],\n",
       "       [0.120766],\n",
       "       [0.117105],\n",
       "       [0.117029],\n",
       "       [0.121588],\n",
       "       [0.116885],\n",
       "       [0.115602],\n",
       "       [0.115136],\n",
       "       [0.111608],\n",
       "       [0.114048],\n",
       "       [0.112784],\n",
       "       [0.116908],\n",
       "       [0.116502],\n",
       "       [0.119306],\n",
       "       [0.123569],\n",
       "       [0.119154],\n",
       "       [0.119339],\n",
       "       [0.122481],\n",
       "       [0.129727],\n",
       "       [0.13655 ],\n",
       "       [0.131013],\n",
       "       [0.135868],\n",
       "       [0.144732],\n",
       "       [0.142657],\n",
       "       [0.14447 ],\n",
       "       [0.14321 ],\n",
       "       [0.137826],\n",
       "       [0.141315],\n",
       "       [0.138913],\n",
       "       [0.146453],\n",
       "       [0.148591],\n",
       "       [0.172907],\n",
       "       [0.143417],\n",
       "       [0.146102],\n",
       "       [0.142549],\n",
       "       [0.144303],\n",
       "       [0.149535],\n",
       "       [0.134654],\n",
       "       [0.138076],\n",
       "       [0.14008 ],\n",
       "       [0.14392 ],\n",
       "       [0.146026],\n",
       "       [0.143712],\n",
       "       [0.139459],\n",
       "       [0.140286],\n",
       "       [0.142665],\n",
       "       [0.140878],\n",
       "       [0.136365],\n",
       "       [0.136395],\n",
       "       [0.134241],\n",
       "       [0.131947],\n",
       "       [0.157959],\n",
       "       [0.137767],\n",
       "       [0.1397  ],\n",
       "       [0.137363],\n",
       "       [0.135027],\n",
       "       [0.127557],\n",
       "       [0.132773],\n",
       "       [0.130938],\n",
       "       [0.12952 ],\n",
       "       [0.135809],\n",
       "       [0.12843 ],\n",
       "       [0.127901],\n",
       "       [0.127532],\n",
       "       [0.124207],\n",
       "       [0.104824],\n",
       "       [0.108477],\n",
       "       [0.084581],\n",
       "       [0.082671],\n",
       "       [0.088331],\n",
       "       [0.089796],\n",
       "       [0.092843],\n",
       "       [0.087841],\n",
       "       [0.090213],\n",
       "       [0.083649],\n",
       "       [0.086723],\n",
       "       [0.083977],\n",
       "       [0.084463],\n",
       "       [0.086105],\n",
       "       [0.083253],\n",
       "       [0.083637],\n",
       "       [0.082985],\n",
       "       [0.078252],\n",
       "       [0.081335],\n",
       "       [0.081839],\n",
       "       [0.082686],\n",
       "       [0.087871],\n",
       "       [0.085865],\n",
       "       [0.081056],\n",
       "       [0.082772],\n",
       "       [0.080442],\n",
       "       [0.081777],\n",
       "       [0.081229],\n",
       "       [0.08253 ],\n",
       "       [0.080513],\n",
       "       [0.079439],\n",
       "       [0.079336],\n",
       "       [0.075454],\n",
       "       [0.069895],\n",
       "       [0.064336],\n",
       "       [0.053921],\n",
       "       [0.055592],\n",
       "       [0.063   ],\n",
       "       [0.055029],\n",
       "       [0.056995],\n",
       "       [0.053012],\n",
       "       [0.060396],\n",
       "       [0.060177],\n",
       "       [0.065571],\n",
       "       [0.061711],\n",
       "       [0.064032],\n",
       "       [0.067124],\n",
       "       [0.068503],\n",
       "       [0.073177],\n",
       "       [0.072239],\n",
       "       [0.065957],\n",
       "       [0.069468],\n",
       "       [0.066086],\n",
       "       [0.066175],\n",
       "       [0.066698],\n",
       "       [0.067179],\n",
       "       [0.069472],\n",
       "       [0.067155],\n",
       "       [0.068583],\n",
       "       [0.070621],\n",
       "       [0.069257],\n",
       "       [0.069512],\n",
       "       [0.067263],\n",
       "       [0.061847],\n",
       "       [0.060087],\n",
       "       [0.061953],\n",
       "       [0.062394],\n",
       "       [0.063042],\n",
       "       [0.06428 ],\n",
       "       [0.063107],\n",
       "       [0.067715],\n",
       "       [0.069013],\n",
       "       [0.07012 ],\n",
       "       [0.06996 ],\n",
       "       [0.067563],\n",
       "       [0.068124],\n",
       "       [0.067724],\n",
       "       [0.062306],\n",
       "       [0.062512],\n",
       "       [0.067021],\n",
       "       [0.069108],\n",
       "       [0.068909],\n",
       "       [0.069644],\n",
       "       [0.068272],\n",
       "       [0.068725],\n",
       "       [0.066694],\n",
       "       [0.066195],\n",
       "       [0.067357],\n",
       "       [0.069765],\n",
       "       [0.068674],\n",
       "       [0.06894 ],\n",
       "       [0.070055],\n",
       "       [0.069125],\n",
       "       [0.071195],\n",
       "       [0.07093 ],\n",
       "       [0.072345],\n",
       "       [0.07284 ],\n",
       "       [0.081687],\n",
       "       [0.07672 ],\n",
       "       [0.086964],\n",
       "       [0.080154],\n",
       "       [0.075079],\n",
       "       [0.067939],\n",
       "       [0.06954 ],\n",
       "       [0.069448],\n",
       "       [0.068391],\n",
       "       [0.06877 ],\n",
       "       [0.06799 ],\n",
       "       [0.069094],\n",
       "       [0.063572],\n",
       "       [0.063587],\n",
       "       [0.061786],\n",
       "       [0.063887],\n",
       "       [0.061525],\n",
       "       [0.06133 ],\n",
       "       [0.062372],\n",
       "       [0.061635],\n",
       "       [0.062694],\n",
       "       [0.063226],\n",
       "       [0.062738],\n",
       "       [0.058983],\n",
       "       [0.061104],\n",
       "       [0.060977],\n",
       "       [0.064018],\n",
       "       [0.064776],\n",
       "       [0.063714],\n",
       "       [0.063905],\n",
       "       [0.060129],\n",
       "       [0.061173],\n",
       "       [0.058791],\n",
       "       [0.060423],\n",
       "       [0.06221 ],\n",
       "       [0.05752 ],\n",
       "       [0.058612],\n",
       "       [0.058417],\n",
       "       [0.057404],\n",
       "       [0.059599],\n",
       "       [0.063336],\n",
       "       [0.063234],\n",
       "       [0.061152],\n",
       "       [0.061089],\n",
       "       [0.060609],\n",
       "       [0.060623],\n",
       "       [0.060728],\n",
       "       [0.061653],\n",
       "       [0.060627],\n",
       "       [0.059288],\n",
       "       [0.060384],\n",
       "       [0.065962],\n",
       "       [0.064735],\n",
       "       [0.063444],\n",
       "       [0.062409],\n",
       "       [0.061678],\n",
       "       [0.062156],\n",
       "       [0.059513],\n",
       "       [0.060258],\n",
       "       [0.059881],\n",
       "       [0.059674],\n",
       "       [0.058643],\n",
       "       [0.05858 ],\n",
       "       [0.058914],\n",
       "       [0.059935],\n",
       "       [0.059776],\n",
       "       [0.058713],\n",
       "       [0.059536],\n",
       "       [0.059334],\n",
       "       [0.059694],\n",
       "       [0.060347],\n",
       "       [0.059506],\n",
       "       [0.062882],\n",
       "       [0.0728  ],\n",
       "       [0.077018],\n",
       "       [0.083897],\n",
       "       [0.121603],\n",
       "       [0.117802],\n",
       "       [0.127026],\n",
       "       [0.142575],\n",
       "       [0.12783 ],\n",
       "       [0.122592],\n",
       "       [0.12628 ],\n",
       "       [0.124388],\n",
       "       [0.114606],\n",
       "       [0.111299],\n",
       "       [0.08841 ],\n",
       "       [0.074288],\n",
       "       [0.089789],\n",
       "       [0.084885],\n",
       "       [0.088039],\n",
       "       [0.084893],\n",
       "       [0.085879],\n",
       "       [0.086971],\n",
       "       [0.085583],\n",
       "       [0.084765],\n",
       "       [0.084672],\n",
       "       [0.084581],\n",
       "       [0.077174],\n",
       "       [0.074711],\n",
       "       [0.078488],\n",
       "       [0.081786],\n",
       "       [0.081481],\n",
       "       [0.089475],\n",
       "       [0.088988],\n",
       "       [0.098712],\n",
       "       [0.095122],\n",
       "       [0.101853],\n",
       "       [0.10686 ]])"
      ]
     },
     "execution_count": 27,
     "metadata": {},
     "output_type": "execute_result"
    }
   ],
   "source": [
    "Y_test_pred= Y_test.reshape(-1,1)\n",
    "print(Y_test_pred.shape)\n",
    "Y_test_pred"
   ]
  },
  {
   "cell_type": "code",
   "execution_count": 28,
   "metadata": {},
   "outputs": [
    {
     "name": "stdout",
     "output_type": "stream",
     "text": [
      "(1556, 1)\n"
     ]
    }
   ],
   "source": [
    "print(X.shape)"
   ]
  },
  {
   "cell_type": "code",
   "execution_count": 29,
   "metadata": {},
   "outputs": [],
   "source": [
    "X_train_pred = svr_linear.predict(X_train_scaled)"
   ]
  },
  {
   "cell_type": "code",
   "execution_count": 30,
   "metadata": {},
   "outputs": [],
   "source": [
    "# Tạo biểu đồ\n",
    "actual = np.arange(len(data['Close']))\n",
    "Predict = np.arange(len(data['Close'])- 30, len(data['Close']))\n",
    "\n",
    "#index X_train\n",
    "index_X_train = np.arange(len(X_train_pred))\n",
    "#index X_val\n",
    "index_X_test = np.arange(len(X_train_pred), len(X_train_pred) + len(X_test_pred))\n",
    "\n",
    "#index X_test\n",
    "index_X_val = np.arange(len(X_train_pred) + len(X_test_pred),len(X_train_pred) + len(X_test_pred) + len(X_val_pred))"
   ]
  },
  {
   "cell_type": "code",
   "execution_count": 31,
   "metadata": {},
   "outputs": [
    {
     "data": {
      "text/plain": [
       "array([1556, 1557, 1558, 1559, 1560, 1561, 1562, 1563, 1564, 1565, 1566,\n",
       "       1567, 1568, 1569, 1570, 1571, 1572, 1573, 1574, 1575, 1576, 1577,\n",
       "       1578, 1579, 1580, 1581, 1582, 1583, 1584, 1585])"
      ]
     },
     "execution_count": 31,
     "metadata": {},
     "output_type": "execute_result"
    }
   ],
   "source": [
    "Predict"
   ]
  },
  {
   "cell_type": "code",
   "execution_count": 32,
   "metadata": {},
   "outputs": [
    {
     "name": "stdout",
     "output_type": "stream",
     "text": [
      "(1089,)\n"
     ]
    }
   ],
   "source": [
    "X_train_pred= X_train_pred.reshape(-1,1)\n",
    "print(index_X_train.shape)"
   ]
  },
  {
   "cell_type": "code",
   "execution_count": 33,
   "metadata": {},
   "outputs": [
    {
     "data": {
      "text/plain": [
       "array([   0,    1,    2, ..., 1086, 1087, 1088])"
      ]
     },
     "execution_count": 33,
     "metadata": {},
     "output_type": "execute_result"
    }
   ],
   "source": [
    "index_X_train"
   ]
  },
  {
   "cell_type": "code",
   "execution_count": 34,
   "metadata": {},
   "outputs": [],
   "source": [
    "lst_output = np.array(lst_output)"
   ]
  },
  {
   "cell_type": "code",
   "execution_count": 35,
   "metadata": {},
   "outputs": [
    {
     "data": {
      "image/png": "[encoded data removed]",
      "text/plain": [
       "<Figure size 3000x1500 with 1 Axes>"
      ]
     },
     "metadata": {},
     "output_type": "display_data"
    }
   ],
   "source": [
    "X_test_pred = X_test_pred.reshape(-1, 1)\n",
    "Y_train = Y_train.reshape(-1, 1)\n",
    "Y_val = Y_val.reshape(-1, 1)\n",
    "\n",
    "plt.figure(figsize=(30,15))\n",
    "plt.grid(True)\n",
    "\n",
    "# last_30_days = last_30_days.reshape(-1, 1)\n",
    "# aX_pred = np.concatenate([X,last_30_days])\n",
    "\n",
    "# plt.plot(actual, data['Close'], label = 'Actual', lw=2)\n",
    "\n",
    "plt.plot(index_X_train, Y_train, label = 'Train', lw=2)\n",
    "plt.plot(index_X_test, Y_test, label = 'Test', lw=2)\n",
    "plt.plot(index_X_test, Y_test_pred, label = 'Prediction', lw=2)\n",
    "plt.plot(index_X_val, Y_val, label = 'Validate', lw=2)\n",
    "\n",
    "plt.plot(Predict, lst_output[-30:], label = 'Next30days', lw=2)\n",
    "\n",
    "plt.title('Prediction and Actual')\n",
    "plt.ylabel('Price in USD')\n",
    "plt.xlabel('Time')\n",
    "plt.legend()\n",
    "plt.xticks(rotation=45)\n",
    "plt.show()"
   ]
  }
 ],
 "metadata": {
  "kernelspec": {
   "display_name": "Python 3",
   "language": "python",
   "name": "python3"
  },
  "language_info": {
   "codemirror_mode": {
    "name": "ipython",
    "version": 3
   },
   "file_extension": ".py",
   "mimetype": "text/x-python",
   "name": "python",
   "nbconvert_exporter": "python",
   "pygments_lexer": "ipython3",
   "version": "3.11.2"
  },
  "orig_nbformat": 4
 },
 "nbformat": 4,
 "nbformat_minor": 2
}
