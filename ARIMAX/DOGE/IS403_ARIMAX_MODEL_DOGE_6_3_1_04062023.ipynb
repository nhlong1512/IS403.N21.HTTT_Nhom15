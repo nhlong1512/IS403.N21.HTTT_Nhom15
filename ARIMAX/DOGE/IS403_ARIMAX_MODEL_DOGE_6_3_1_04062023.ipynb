{
  "nbformat": 4,
  "nbformat_minor": 0,
  "metadata": {
    "colab": {
      "provenance": []
    },
    "kernelspec": {
      "name": "python3",
      "display_name": "Python 3"
    },
    "language_info": {
      "name": "python"
    }
  },
  "cells": [
    {
      "cell_type": "code",
      "execution_count": 1,
      "metadata": {
        "id": "NIJ_X3Mr2ZaE"
      },
      "outputs": [],
      "source": [
        "import numpy as np # linear algebra\n",
        "import pandas as pd # data processing, CSV file I/O (e.g. pd.read_csv)\n",
        "from statsmodels.tsa.arima.model import ARIMA\n",
        "from statsmodels.tsa.statespace.sarimax import SARIMAX\n",
        "import matplotlib.pyplot as plt\n",
        "from sklearn.metrics import mean_squared_error, mean_absolute_error, explained_variance_score, r2_score \n",
        "from sklearn.metrics import mean_poisson_deviance, mean_gamma_deviance, accuracy_score\n",
        "import math"
      ]
    },
    {
      "cell_type": "markdown",
      "source": [
        "Đọc dữ liệu"
      ],
      "metadata": {
        "id": "rQ9VeiuD2o6m"
      }
    },
    {
      "cell_type": "code",
      "source": [
        "btc_data = pd.read_csv('DOGE-USD.csv')\n",
        "exog_data = pd.read_csv('BNB-USD.csv')"
      ],
      "metadata": {
        "id": "PM12i09v2nvr"
      },
      "execution_count": 2,
      "outputs": []
    },
    {
      "cell_type": "markdown",
      "source": [
        "Dữ liệu BTC-USD"
      ],
      "metadata": {
        "id": "uguaZ0tu21Sg"
      }
    },
    {
      "cell_type": "code",
      "source": [
        "btc_data.head()"
      ],
      "metadata": {
        "colab": {
          "base_uri": "https://localhost:8080/",
          "height": 206
        },
        "id": "KDFVJyIE2qI8",
        "outputId": "43bf2012-8764-4a20-f4f8-22f16de7b4f9"
      },
      "execution_count": 3,
      "outputs": [
        {
          "output_type": "execute_result",
          "data": {
            "text/plain": [
              "       Date      Open      High       Low     Close  Adj Close    Volume\n",
              "0  1/1/2019  0.002346  0.002392  0.002322  0.002392   0.002392  17364744\n",
              "1  1/2/2019  0.002388  0.002458  0.002372  0.002407   0.002407  18015392\n",
              "2  1/3/2019  0.002404  0.002414  0.002356  0.002360   0.002360  17619234\n",
              "3  1/4/2019  0.002364  0.002397  0.002274  0.002315   0.002315  19530100\n",
              "4  1/5/2019  0.002320  0.002350  0.002280  0.002319   0.002319  17148586"
            ],
            "text/html": [
              "\n",
              "  <div id=\"df-94b914d7-a0f6-4801-acc7-490576e97bc8\">\n",
              "    <div class=\"colab-df-container\">\n",
              "      <div>\n",
              "<style scoped>\n",
              "    .dataframe tbody tr th:only-of-type {\n",
              "        vertical-align: middle;\n",
              "    }\n",
              "\n",
              "    .dataframe tbody tr th {\n",
              "        vertical-align: top;\n",
              "    }\n",
              "\n",
              "    .dataframe thead th {\n",
              "        text-align: right;\n",
              "    }\n",
              "</style>\n",
              "<table border=\"1\" class=\"dataframe\">\n",
              "  <thead>\n",
              "    <tr style=\"text-align: right;\">\n",
              "      <th></th>\n",
              "      <th>Date</th>\n",
              "      <th>Open</th>\n",
              "      <th>High</th>\n",
              "      <th>Low</th>\n",
              "      <th>Close</th>\n",
              "      <th>Adj Close</th>\n",
              "      <th>Volume</th>\n",
              "    </tr>\n",
              "  </thead>\n",
              "  <tbody>\n",
              "    <tr>\n",
              "      <th>0</th>\n",
              "      <td>1/1/2019</td>\n",
              "      <td>0.002346</td>\n",
              "      <td>0.002392</td>\n",
              "      <td>0.002322</td>\n",
              "      <td>0.002392</td>\n",
              "      <td>0.002392</td>\n",
              "      <td>17364744</td>\n",
              "    </tr>\n",
              "    <tr>\n",
              "      <th>1</th>\n",
              "      <td>1/2/2019</td>\n",
              "      <td>0.002388</td>\n",
              "      <td>0.002458</td>\n",
              "      <td>0.002372</td>\n",
              "      <td>0.002407</td>\n",
              "      <td>0.002407</td>\n",
              "      <td>18015392</td>\n",
              "    </tr>\n",
              "    <tr>\n",
              "      <th>2</th>\n",
              "      <td>1/3/2019</td>\n",
              "      <td>0.002404</td>\n",
              "      <td>0.002414</td>\n",
              "      <td>0.002356</td>\n",
              "      <td>0.002360</td>\n",
              "      <td>0.002360</td>\n",
              "      <td>17619234</td>\n",
              "    </tr>\n",
              "    <tr>\n",
              "      <th>3</th>\n",
              "      <td>1/4/2019</td>\n",
              "      <td>0.002364</td>\n",
              "      <td>0.002397</td>\n",
              "      <td>0.002274</td>\n",
              "      <td>0.002315</td>\n",
              "      <td>0.002315</td>\n",
              "      <td>19530100</td>\n",
              "    </tr>\n",
              "    <tr>\n",
              "      <th>4</th>\n",
              "      <td>1/5/2019</td>\n",
              "      <td>0.002320</td>\n",
              "      <td>0.002350</td>\n",
              "      <td>0.002280</td>\n",
              "      <td>0.002319</td>\n",
              "      <td>0.002319</td>\n",
              "      <td>17148586</td>\n",
              "    </tr>\n",
              "  </tbody>\n",
              "</table>\n",
              "</div>\n",
              "      <button class=\"colab-df-convert\" onclick=\"convertToInteractive('df-94b914d7-a0f6-4801-acc7-490576e97bc8')\"\n",
              "              title=\"Convert this dataframe to an interactive table.\"\n",
              "              style=\"display:none;\">\n",
              "        \n",
              "  <svg xmlns=\"http://www.w3.org/2000/svg\" height=\"24px\"viewBox=\"0 0 24 24\"\n",
              "       width=\"24px\">\n",
              "    <path d=\"M0 0h24v24H0V0z\" fill=\"none\"/>\n",
              "    <path d=\"M18.56 5.44l.94 2.06.94-2.06 2.06-.94-2.06-.94-.94-2.06-.94 2.06-2.06.94zm-11 1L8.5 8.5l.94-2.06 2.06-.94-2.06-.94L8.5 2.5l-.94 2.06-2.06.94zm10 10l.94 2.06.94-2.06 2.06-.94-2.06-.94-.94-2.06-.94 2.06-2.06.94z\"/><path d=\"M17.41 7.96l-1.37-1.37c-.4-.4-.92-.59-1.43-.59-.52 0-1.04.2-1.43.59L10.3 9.45l-7.72 7.72c-.78.78-.78 2.05 0 2.83L4 21.41c.39.39.9.59 1.41.59.51 0 1.02-.2 1.41-.59l7.78-7.78 2.81-2.81c.8-.78.8-2.07 0-2.86zM5.41 20L4 18.59l7.72-7.72 1.47 1.35L5.41 20z\"/>\n",
              "  </svg>\n",
              "      </button>\n",
              "      \n",
              "  <style>\n",
              "    .colab-df-container {\n",
              "      display:flex;\n",
              "      flex-wrap:wrap;\n",
              "      gap: 12px;\n",
              "    }\n",
              "\n",
              "    .colab-df-convert {\n",
              "      background-color: #E8F0FE;\n",
              "      border: none;\n",
              "      border-radius: 50%;\n",
              "      cursor: pointer;\n",
              "      display: none;\n",
              "      fill: #1967D2;\n",
              "      height: 32px;\n",
              "      padding: 0 0 0 0;\n",
              "      width: 32px;\n",
              "    }\n",
              "\n",
              "    .colab-df-convert:hover {\n",
              "      background-color: #E2EBFA;\n",
              "      box-shadow: 0px 1px 2px rgba(60, 64, 67, 0.3), 0px 1px 3px 1px rgba(60, 64, 67, 0.15);\n",
              "      fill: #174EA6;\n",
              "    }\n",
              "\n",
              "    [theme=dark] .colab-df-convert {\n",
              "      background-color: #3B4455;\n",
              "      fill: #D2E3FC;\n",
              "    }\n",
              "\n",
              "    [theme=dark] .colab-df-convert:hover {\n",
              "      background-color: #434B5C;\n",
              "      box-shadow: 0px 1px 3px 1px rgba(0, 0, 0, 0.15);\n",
              "      filter: drop-shadow(0px 1px 2px rgba(0, 0, 0, 0.3));\n",
              "      fill: #FFFFFF;\n",
              "    }\n",
              "  </style>\n",
              "\n",
              "      <script>\n",
              "        const buttonEl =\n",
              "          document.querySelector('#df-94b914d7-a0f6-4801-acc7-490576e97bc8 button.colab-df-convert');\n",
              "        buttonEl.style.display =\n",
              "          google.colab.kernel.accessAllowed ? 'block' : 'none';\n",
              "\n",
              "        async function convertToInteractive(key) {\n",
              "          const element = document.querySelector('#df-94b914d7-a0f6-4801-acc7-490576e97bc8');\n",
              "          const dataTable =\n",
              "            await google.colab.kernel.invokeFunction('convertToInteractive',\n",
              "                                                     [key], {});\n",
              "          if (!dataTable) return;\n",
              "\n",
              "          const docLinkHtml = 'Like what you see? Visit the ' +\n",
              "            '<a target=\"_blank\" href=https://colab.research.google.com/notebooks/data_table.ipynb>data table notebook</a>'\n",
              "            + ' to learn more about interactive tables.';\n",
              "          element.innerHTML = '';\n",
              "          dataTable['output_type'] = 'display_data';\n",
              "          await google.colab.output.renderOutput(dataTable, element);\n",
              "          const docLink = document.createElement('div');\n",
              "          docLink.innerHTML = docLinkHtml;\n",
              "          element.appendChild(docLink);\n",
              "        }\n",
              "      </script>\n",
              "    </div>\n",
              "  </div>\n",
              "  "
            ]
          },
          "metadata": {},
          "execution_count": 3
        }
      ]
    },
    {
      "cell_type": "markdown",
      "source": [
        "Dữ liệu BNB-USD"
      ],
      "metadata": {
        "id": "IyH8kBFy23C5"
      }
    },
    {
      "cell_type": "code",
      "source": [
        "exog_data.head()"
      ],
      "metadata": {
        "colab": {
          "base_uri": "https://localhost:8080/",
          "height": 206
        },
        "id": "4PEpq8p42y5Q",
        "outputId": "6f6dd248-431e-472c-fb1f-3afb63188c49"
      },
      "execution_count": 4,
      "outputs": [
        {
          "output_type": "execute_result",
          "data": {
            "text/plain": [
              "       Date  Close-Exog\n",
              "0  1/1/2019    6.075273\n",
              "1  1/2/2019    6.188613\n",
              "2  1/3/2019    5.903535\n",
              "3  1/4/2019    6.065138\n",
              "4  1/5/2019    6.065543"
            ],
            "text/html": [
              "\n",
              "  <div id=\"df-13d7ce02-4111-482c-a22e-90956cb003c9\">\n",
              "    <div class=\"colab-df-container\">\n",
              "      <div>\n",
              "<style scoped>\n",
              "    .dataframe tbody tr th:only-of-type {\n",
              "        vertical-align: middle;\n",
              "    }\n",
              "\n",
              "    .dataframe tbody tr th {\n",
              "        vertical-align: top;\n",
              "    }\n",
              "\n",
              "    .dataframe thead th {\n",
              "        text-align: right;\n",
              "    }\n",
              "</style>\n",
              "<table border=\"1\" class=\"dataframe\">\n",
              "  <thead>\n",
              "    <tr style=\"text-align: right;\">\n",
              "      <th></th>\n",
              "      <th>Date</th>\n",
              "      <th>Close-Exog</th>\n",
              "    </tr>\n",
              "  </thead>\n",
              "  <tbody>\n",
              "    <tr>\n",
              "      <th>0</th>\n",
              "      <td>1/1/2019</td>\n",
              "      <td>6.075273</td>\n",
              "    </tr>\n",
              "    <tr>\n",
              "      <th>1</th>\n",
              "      <td>1/2/2019</td>\n",
              "      <td>6.188613</td>\n",
              "    </tr>\n",
              "    <tr>\n",
              "      <th>2</th>\n",
              "      <td>1/3/2019</td>\n",
              "      <td>5.903535</td>\n",
              "    </tr>\n",
              "    <tr>\n",
              "      <th>3</th>\n",
              "      <td>1/4/2019</td>\n",
              "      <td>6.065138</td>\n",
              "    </tr>\n",
              "    <tr>\n",
              "      <th>4</th>\n",
              "      <td>1/5/2019</td>\n",
              "      <td>6.065543</td>\n",
              "    </tr>\n",
              "  </tbody>\n",
              "</table>\n",
              "</div>\n",
              "      <button class=\"colab-df-convert\" onclick=\"convertToInteractive('df-13d7ce02-4111-482c-a22e-90956cb003c9')\"\n",
              "              title=\"Convert this dataframe to an interactive table.\"\n",
              "              style=\"display:none;\">\n",
              "        \n",
              "  <svg xmlns=\"http://www.w3.org/2000/svg\" height=\"24px\"viewBox=\"0 0 24 24\"\n",
              "       width=\"24px\">\n",
              "    <path d=\"M0 0h24v24H0V0z\" fill=\"none\"/>\n",
              "    <path d=\"M18.56 5.44l.94 2.06.94-2.06 2.06-.94-2.06-.94-.94-2.06-.94 2.06-2.06.94zm-11 1L8.5 8.5l.94-2.06 2.06-.94-2.06-.94L8.5 2.5l-.94 2.06-2.06.94zm10 10l.94 2.06.94-2.06 2.06-.94-2.06-.94-.94-2.06-.94 2.06-2.06.94z\"/><path d=\"M17.41 7.96l-1.37-1.37c-.4-.4-.92-.59-1.43-.59-.52 0-1.04.2-1.43.59L10.3 9.45l-7.72 7.72c-.78.78-.78 2.05 0 2.83L4 21.41c.39.39.9.59 1.41.59.51 0 1.02-.2 1.41-.59l7.78-7.78 2.81-2.81c.8-.78.8-2.07 0-2.86zM5.41 20L4 18.59l7.72-7.72 1.47 1.35L5.41 20z\"/>\n",
              "  </svg>\n",
              "      </button>\n",
              "      \n",
              "  <style>\n",
              "    .colab-df-container {\n",
              "      display:flex;\n",
              "      flex-wrap:wrap;\n",
              "      gap: 12px;\n",
              "    }\n",
              "\n",
              "    .colab-df-convert {\n",
              "      background-color: #E8F0FE;\n",
              "      border: none;\n",
              "      border-radius: 50%;\n",
              "      cursor: pointer;\n",
              "      display: none;\n",
              "      fill: #1967D2;\n",
              "      height: 32px;\n",
              "      padding: 0 0 0 0;\n",
              "      width: 32px;\n",
              "    }\n",
              "\n",
              "    .colab-df-convert:hover {\n",
              "      background-color: #E2EBFA;\n",
              "      box-shadow: 0px 1px 2px rgba(60, 64, 67, 0.3), 0px 1px 3px 1px rgba(60, 64, 67, 0.15);\n",
              "      fill: #174EA6;\n",
              "    }\n",
              "\n",
              "    [theme=dark] .colab-df-convert {\n",
              "      background-color: #3B4455;\n",
              "      fill: #D2E3FC;\n",
              "    }\n",
              "\n",
              "    [theme=dark] .colab-df-convert:hover {\n",
              "      background-color: #434B5C;\n",
              "      box-shadow: 0px 1px 3px 1px rgba(0, 0, 0, 0.15);\n",
              "      filter: drop-shadow(0px 1px 2px rgba(0, 0, 0, 0.3));\n",
              "      fill: #FFFFFF;\n",
              "    }\n",
              "  </style>\n",
              "\n",
              "      <script>\n",
              "        const buttonEl =\n",
              "          document.querySelector('#df-13d7ce02-4111-482c-a22e-90956cb003c9 button.colab-df-convert');\n",
              "        buttonEl.style.display =\n",
              "          google.colab.kernel.accessAllowed ? 'block' : 'none';\n",
              "\n",
              "        async function convertToInteractive(key) {\n",
              "          const element = document.querySelector('#df-13d7ce02-4111-482c-a22e-90956cb003c9');\n",
              "          const dataTable =\n",
              "            await google.colab.kernel.invokeFunction('convertToInteractive',\n",
              "                                                     [key], {});\n",
              "          if (!dataTable) return;\n",
              "\n",
              "          const docLinkHtml = 'Like what you see? Visit the ' +\n",
              "            '<a target=\"_blank\" href=https://colab.research.google.com/notebooks/data_table.ipynb>data table notebook</a>'\n",
              "            + ' to learn more about interactive tables.';\n",
              "          element.innerHTML = '';\n",
              "          dataTable['output_type'] = 'display_data';\n",
              "          await google.colab.output.renderOutput(dataTable, element);\n",
              "          const docLink = document.createElement('div');\n",
              "          docLink.innerHTML = docLinkHtml;\n",
              "          element.appendChild(docLink);\n",
              "        }\n",
              "      </script>\n",
              "    </div>\n",
              "  </div>\n",
              "  "
            ]
          },
          "metadata": {},
          "execution_count": 4
        }
      ]
    },
    {
      "cell_type": "markdown",
      "source": [
        "Kết hợp dữ liệu BTC và BNB"
      ],
      "metadata": {
        "id": "Zv__VwdN3DAo"
      }
    },
    {
      "cell_type": "code",
      "source": [
        "data = pd.merge(btc_data, exog_data, on='Date')\n",
        "data.head()"
      ],
      "metadata": {
        "colab": {
          "base_uri": "https://localhost:8080/",
          "height": 206
        },
        "id": "sCn7WWO_3BUn",
        "outputId": "7aec2c35-0952-434f-dda1-b2e4ce433e82"
      },
      "execution_count": 5,
      "outputs": [
        {
          "output_type": "execute_result",
          "data": {
            "text/plain": [
              "       Date      Open      High       Low     Close  Adj Close    Volume  \\\n",
              "0  1/1/2019  0.002346  0.002392  0.002322  0.002392   0.002392  17364744   \n",
              "1  1/2/2019  0.002388  0.002458  0.002372  0.002407   0.002407  18015392   \n",
              "2  1/3/2019  0.002404  0.002414  0.002356  0.002360   0.002360  17619234   \n",
              "3  1/4/2019  0.002364  0.002397  0.002274  0.002315   0.002315  19530100   \n",
              "4  1/5/2019  0.002320  0.002350  0.002280  0.002319   0.002319  17148586   \n",
              "\n",
              "   Close-Exog  \n",
              "0    6.075273  \n",
              "1    6.188613  \n",
              "2    5.903535  \n",
              "3    6.065138  \n",
              "4    6.065543  "
            ],
            "text/html": [
              "\n",
              "  <div id=\"df-0b4e894a-71fb-490a-9f69-66de52d3c7cb\">\n",
              "    <div class=\"colab-df-container\">\n",
              "      <div>\n",
              "<style scoped>\n",
              "    .dataframe tbody tr th:only-of-type {\n",
              "        vertical-align: middle;\n",
              "    }\n",
              "\n",
              "    .dataframe tbody tr th {\n",
              "        vertical-align: top;\n",
              "    }\n",
              "\n",
              "    .dataframe thead th {\n",
              "        text-align: right;\n",
              "    }\n",
              "</style>\n",
              "<table border=\"1\" class=\"dataframe\">\n",
              "  <thead>\n",
              "    <tr style=\"text-align: right;\">\n",
              "      <th></th>\n",
              "      <th>Date</th>\n",
              "      <th>Open</th>\n",
              "      <th>High</th>\n",
              "      <th>Low</th>\n",
              "      <th>Close</th>\n",
              "      <th>Adj Close</th>\n",
              "      <th>Volume</th>\n",
              "      <th>Close-Exog</th>\n",
              "    </tr>\n",
              "  </thead>\n",
              "  <tbody>\n",
              "    <tr>\n",
              "      <th>0</th>\n",
              "      <td>1/1/2019</td>\n",
              "      <td>0.002346</td>\n",
              "      <td>0.002392</td>\n",
              "      <td>0.002322</td>\n",
              "      <td>0.002392</td>\n",
              "      <td>0.002392</td>\n",
              "      <td>17364744</td>\n",
              "      <td>6.075273</td>\n",
              "    </tr>\n",
              "    <tr>\n",
              "      <th>1</th>\n",
              "      <td>1/2/2019</td>\n",
              "      <td>0.002388</td>\n",
              "      <td>0.002458</td>\n",
              "      <td>0.002372</td>\n",
              "      <td>0.002407</td>\n",
              "      <td>0.002407</td>\n",
              "      <td>18015392</td>\n",
              "      <td>6.188613</td>\n",
              "    </tr>\n",
              "    <tr>\n",
              "      <th>2</th>\n",
              "      <td>1/3/2019</td>\n",
              "      <td>0.002404</td>\n",
              "      <td>0.002414</td>\n",
              "      <td>0.002356</td>\n",
              "      <td>0.002360</td>\n",
              "      <td>0.002360</td>\n",
              "      <td>17619234</td>\n",
              "      <td>5.903535</td>\n",
              "    </tr>\n",
              "    <tr>\n",
              "      <th>3</th>\n",
              "      <td>1/4/2019</td>\n",
              "      <td>0.002364</td>\n",
              "      <td>0.002397</td>\n",
              "      <td>0.002274</td>\n",
              "      <td>0.002315</td>\n",
              "      <td>0.002315</td>\n",
              "      <td>19530100</td>\n",
              "      <td>6.065138</td>\n",
              "    </tr>\n",
              "    <tr>\n",
              "      <th>4</th>\n",
              "      <td>1/5/2019</td>\n",
              "      <td>0.002320</td>\n",
              "      <td>0.002350</td>\n",
              "      <td>0.002280</td>\n",
              "      <td>0.002319</td>\n",
              "      <td>0.002319</td>\n",
              "      <td>17148586</td>\n",
              "      <td>6.065543</td>\n",
              "    </tr>\n",
              "  </tbody>\n",
              "</table>\n",
              "</div>\n",
              "      <button class=\"colab-df-convert\" onclick=\"convertToInteractive('df-0b4e894a-71fb-490a-9f69-66de52d3c7cb')\"\n",
              "              title=\"Convert this dataframe to an interactive table.\"\n",
              "              style=\"display:none;\">\n",
              "        \n",
              "  <svg xmlns=\"http://www.w3.org/2000/svg\" height=\"24px\"viewBox=\"0 0 24 24\"\n",
              "       width=\"24px\">\n",
              "    <path d=\"M0 0h24v24H0V0z\" fill=\"none\"/>\n",
              "    <path d=\"M18.56 5.44l.94 2.06.94-2.06 2.06-.94-2.06-.94-.94-2.06-.94 2.06-2.06.94zm-11 1L8.5 8.5l.94-2.06 2.06-.94-2.06-.94L8.5 2.5l-.94 2.06-2.06.94zm10 10l.94 2.06.94-2.06 2.06-.94-2.06-.94-.94-2.06-.94 2.06-2.06.94z\"/><path d=\"M17.41 7.96l-1.37-1.37c-.4-.4-.92-.59-1.43-.59-.52 0-1.04.2-1.43.59L10.3 9.45l-7.72 7.72c-.78.78-.78 2.05 0 2.83L4 21.41c.39.39.9.59 1.41.59.51 0 1.02-.2 1.41-.59l7.78-7.78 2.81-2.81c.8-.78.8-2.07 0-2.86zM5.41 20L4 18.59l7.72-7.72 1.47 1.35L5.41 20z\"/>\n",
              "  </svg>\n",
              "      </button>\n",
              "      \n",
              "  <style>\n",
              "    .colab-df-container {\n",
              "      display:flex;\n",
              "      flex-wrap:wrap;\n",
              "      gap: 12px;\n",
              "    }\n",
              "\n",
              "    .colab-df-convert {\n",
              "      background-color: #E8F0FE;\n",
              "      border: none;\n",
              "      border-radius: 50%;\n",
              "      cursor: pointer;\n",
              "      display: none;\n",
              "      fill: #1967D2;\n",
              "      height: 32px;\n",
              "      padding: 0 0 0 0;\n",
              "      width: 32px;\n",
              "    }\n",
              "\n",
              "    .colab-df-convert:hover {\n",
              "      background-color: #E2EBFA;\n",
              "      box-shadow: 0px 1px 2px rgba(60, 64, 67, 0.3), 0px 1px 3px 1px rgba(60, 64, 67, 0.15);\n",
              "      fill: #174EA6;\n",
              "    }\n",
              "\n",
              "    [theme=dark] .colab-df-convert {\n",
              "      background-color: #3B4455;\n",
              "      fill: #D2E3FC;\n",
              "    }\n",
              "\n",
              "    [theme=dark] .colab-df-convert:hover {\n",
              "      background-color: #434B5C;\n",
              "      box-shadow: 0px 1px 3px 1px rgba(0, 0, 0, 0.15);\n",
              "      filter: drop-shadow(0px 1px 2px rgba(0, 0, 0, 0.3));\n",
              "      fill: #FFFFFF;\n",
              "    }\n",
              "  </style>\n",
              "\n",
              "      <script>\n",
              "        const buttonEl =\n",
              "          document.querySelector('#df-0b4e894a-71fb-490a-9f69-66de52d3c7cb button.colab-df-convert');\n",
              "        buttonEl.style.display =\n",
              "          google.colab.kernel.accessAllowed ? 'block' : 'none';\n",
              "\n",
              "        async function convertToInteractive(key) {\n",
              "          const element = document.querySelector('#df-0b4e894a-71fb-490a-9f69-66de52d3c7cb');\n",
              "          const dataTable =\n",
              "            await google.colab.kernel.invokeFunction('convertToInteractive',\n",
              "                                                     [key], {});\n",
              "          if (!dataTable) return;\n",
              "\n",
              "          const docLinkHtml = 'Like what you see? Visit the ' +\n",
              "            '<a target=\"_blank\" href=https://colab.research.google.com/notebooks/data_table.ipynb>data table notebook</a>'\n",
              "            + ' to learn more about interactive tables.';\n",
              "          element.innerHTML = '';\n",
              "          dataTable['output_type'] = 'display_data';\n",
              "          await google.colab.output.renderOutput(dataTable, element);\n",
              "          const docLink = document.createElement('div');\n",
              "          docLink.innerHTML = docLinkHtml;\n",
              "          element.appendChild(docLink);\n",
              "        }\n",
              "      </script>\n",
              "    </div>\n",
              "  </div>\n",
              "  "
            ]
          },
          "metadata": {},
          "execution_count": 5
        }
      ]
    },
    {
      "cell_type": "markdown",
      "source": [
        "**Dự đoán 30 ngày cho BNB bằng ARIMA**"
      ],
      "metadata": {
        "id": "hF0JBksbR8Y1"
      }
    },
    {
      "cell_type": "code",
      "source": [
        "!pip install pmdarima"
      ],
      "metadata": {
        "colab": {
          "base_uri": "https://localhost:8080/"
        },
        "id": "bj_ek1nASFRd",
        "outputId": "098862ee-0342-49d0-98d5-3382cd2fa3d0"
      },
      "execution_count": 6,
      "outputs": [
        {
          "output_type": "stream",
          "name": "stdout",
          "text": [
            "Looking in indexes: https://pypi.org/simple, https://us-python.pkg.dev/colab-wheels/public/simple/\n",
            "Collecting pmdarima\n",
            "  Downloading pmdarima-2.0.3-cp310-cp310-manylinux_2_17_x86_64.manylinux2014_x86_64.manylinux_2_28_x86_64.whl (1.8 MB)\n",
            "\u001b[2K     \u001b[90m━━━━━━━━━━━━━━━━━━━━━━━━━━━━━━━━━━━━━━━━\u001b[0m \u001b[32m1.8/1.8 MB\u001b[0m \u001b[31m18.6 MB/s\u001b[0m eta \u001b[36m0:00:00\u001b[0m\n",
            "\u001b[?25hRequirement already satisfied: joblib>=0.11 in /usr/local/lib/python3.10/dist-packages (from pmdarima) (1.2.0)\n",
            "Requirement already satisfied: Cython!=0.29.18,!=0.29.31,>=0.29 in /usr/local/lib/python3.10/dist-packages (from pmdarima) (0.29.34)\n",
            "Requirement already satisfied: numpy>=1.21.2 in /usr/local/lib/python3.10/dist-packages (from pmdarima) (1.22.4)\n",
            "Requirement already satisfied: pandas>=0.19 in /usr/local/lib/python3.10/dist-packages (from pmdarima) (1.5.3)\n",
            "Requirement already satisfied: scikit-learn>=0.22 in /usr/local/lib/python3.10/dist-packages (from pmdarima) (1.2.2)\n",
            "Requirement already satisfied: scipy>=1.3.2 in /usr/local/lib/python3.10/dist-packages (from pmdarima) (1.10.1)\n",
            "Requirement already satisfied: statsmodels>=0.13.2 in /usr/local/lib/python3.10/dist-packages (from pmdarima) (0.13.5)\n",
            "Requirement already satisfied: urllib3 in /usr/local/lib/python3.10/dist-packages (from pmdarima) (1.26.15)\n",
            "Requirement already satisfied: setuptools!=50.0.0,>=38.6.0 in /usr/local/lib/python3.10/dist-packages (from pmdarima) (67.7.2)\n",
            "Requirement already satisfied: python-dateutil>=2.8.1 in /usr/local/lib/python3.10/dist-packages (from pandas>=0.19->pmdarima) (2.8.2)\n",
            "Requirement already satisfied: pytz>=2020.1 in /usr/local/lib/python3.10/dist-packages (from pandas>=0.19->pmdarima) (2022.7.1)\n",
            "Requirement already satisfied: threadpoolctl>=2.0.0 in /usr/local/lib/python3.10/dist-packages (from scikit-learn>=0.22->pmdarima) (3.1.0)\n",
            "Requirement already satisfied: patsy>=0.5.2 in /usr/local/lib/python3.10/dist-packages (from statsmodels>=0.13.2->pmdarima) (0.5.3)\n",
            "Requirement already satisfied: packaging>=21.3 in /usr/local/lib/python3.10/dist-packages (from statsmodels>=0.13.2->pmdarima) (23.1)\n",
            "Requirement already satisfied: six in /usr/local/lib/python3.10/dist-packages (from patsy>=0.5.2->statsmodels>=0.13.2->pmdarima) (1.16.0)\n",
            "Installing collected packages: pmdarima\n",
            "Successfully installed pmdarima-2.0.3\n"
          ]
        }
      ]
    },
    {
      "cell_type": "code",
      "source": [
        "eth_data = exog_data[['Date', 'Close-Exog']]\n",
        "eth_data = exog_data.dropna() # Drop missing values\n",
        "# eth_data = eth_data.reset_index(drop=True) # Reset the index\n",
        "eth_data['Date'] = pd.to_datetime(eth_data['Date'])\n",
        "eth_data.set_index('Date', inplace=True)\n",
        "\n",
        "# Split the data into training, testing, and validation sets\n",
        "train_size = int(0.6 * len(eth_data))\n",
        "test_size = int(0.3 * len(eth_data))\n",
        "val_size = len(eth_data) - train_size - test_size\n",
        "\n",
        "train_data = eth_data[:train_size]\n",
        "test_data = eth_data[train_size:train_size+test_size]\n",
        "val_data = eth_data[train_size+test_size:]\n",
        "print(eth_data)"
      ],
      "metadata": {
        "colab": {
          "base_uri": "https://localhost:8080/"
        },
        "id": "bxcisYgHSPV6",
        "outputId": "30f5f7fb-bed4-4098-d8c8-2d3e44cc6070"
      },
      "execution_count": 7,
      "outputs": [
        {
          "output_type": "stream",
          "name": "stdout",
          "text": [
            "            Close-Exog\n",
            "Date                  \n",
            "2019-01-01    6.075273\n",
            "2019-01-02    6.188613\n",
            "2019-01-03    5.903535\n",
            "2019-01-04    6.065138\n",
            "2019-01-05    6.065543\n",
            "...                ...\n",
            "2023-03-27  310.949127\n",
            "2023-03-28  313.260620\n",
            "2023-03-29  313.841766\n",
            "2023-03-30  316.567566\n",
            "2023-03-31  317.040009\n",
            "\n",
            "[1551 rows x 1 columns]\n"
          ]
        }
      ]
    },
    {
      "cell_type": "code",
      "source": [
        "# 3. Quá trình Training\n",
        "x_train = np.array(train_data.index).reshape(-1, 1)\n",
        "y_train = np.array(train_data['Close-Exog'])\n",
        "\n",
        "# Find the best ARIMA model using auto_arima\n",
        "from pmdarima.arima import auto_arima\n",
        "model = auto_arima(y_train, trace=True, error_action='ignore', suppress_warnings=True)\n",
        "\n",
        "# Fit the model\n",
        "model.fit(y_train)"
      ],
      "metadata": {
        "colab": {
          "base_uri": "https://localhost:8080/",
          "height": 682
        },
        "id": "VKaScGhFSHyc",
        "outputId": "b044d04a-cb12-4d8f-d580-c4ef37dff31a"
      },
      "execution_count": 8,
      "outputs": [
        {
          "output_type": "stream",
          "name": "stdout",
          "text": [
            "Performing stepwise search to minimize aic\n",
            " ARIMA(2,1,2)(0,0,0)[0] intercept   : AIC=7408.002, Time=1.52 sec\n",
            " ARIMA(0,1,0)(0,0,0)[0] intercept   : AIC=7489.267, Time=0.10 sec\n",
            " ARIMA(1,1,0)(0,0,0)[0] intercept   : AIC=7452.095, Time=0.18 sec\n",
            " ARIMA(0,1,1)(0,0,0)[0] intercept   : AIC=7461.182, Time=0.27 sec\n",
            " ARIMA(0,1,0)(0,0,0)[0]             : AIC=7487.778, Time=0.05 sec\n",
            " ARIMA(1,1,2)(0,0,0)[0] intercept   : AIC=7427.045, Time=0.47 sec\n",
            " ARIMA(2,1,1)(0,0,0)[0] intercept   : AIC=7436.328, Time=1.76 sec\n",
            " ARIMA(3,1,2)(0,0,0)[0] intercept   : AIC=7409.996, Time=3.52 sec\n",
            " ARIMA(2,1,3)(0,0,0)[0] intercept   : AIC=7409.997, Time=5.11 sec\n",
            " ARIMA(1,1,1)(0,0,0)[0] intercept   : AIC=7446.960, Time=1.56 sec\n",
            " ARIMA(1,1,3)(0,0,0)[0] intercept   : AIC=7426.639, Time=2.73 sec\n",
            " ARIMA(3,1,1)(0,0,0)[0] intercept   : AIC=7433.997, Time=1.21 sec\n",
            " ARIMA(3,1,3)(0,0,0)[0] intercept   : AIC=7405.328, Time=7.54 sec\n",
            " ARIMA(4,1,3)(0,0,0)[0] intercept   : AIC=7399.153, Time=7.12 sec\n",
            " ARIMA(4,1,2)(0,0,0)[0] intercept   : AIC=7402.658, Time=6.74 sec\n",
            " ARIMA(5,1,3)(0,0,0)[0] intercept   : AIC=7401.041, Time=3.21 sec\n",
            " ARIMA(4,1,4)(0,0,0)[0] intercept   : AIC=7401.471, Time=3.35 sec\n",
            " ARIMA(3,1,4)(0,0,0)[0] intercept   : AIC=7398.790, Time=4.88 sec\n",
            " ARIMA(2,1,4)(0,0,0)[0] intercept   : AIC=7403.782, Time=2.76 sec\n",
            " ARIMA(3,1,5)(0,0,0)[0] intercept   : AIC=7402.390, Time=3.67 sec\n",
            " ARIMA(2,1,5)(0,0,0)[0] intercept   : AIC=7404.650, Time=3.36 sec\n",
            " ARIMA(4,1,5)(0,0,0)[0] intercept   : AIC=7402.102, Time=5.82 sec\n",
            " ARIMA(3,1,4)(0,0,0)[0]             : AIC=7397.337, Time=1.05 sec\n",
            " ARIMA(2,1,4)(0,0,0)[0]             : AIC=7402.296, Time=1.01 sec\n",
            " ARIMA(3,1,3)(0,0,0)[0]             : AIC=7403.955, Time=0.84 sec\n",
            " ARIMA(4,1,4)(0,0,0)[0]             : AIC=7400.533, Time=1.70 sec\n",
            " ARIMA(3,1,5)(0,0,0)[0]             : AIC=7400.917, Time=2.15 sec\n",
            " ARIMA(2,1,3)(0,0,0)[0]             : AIC=7408.586, Time=0.64 sec\n",
            " ARIMA(2,1,5)(0,0,0)[0]             : AIC=7403.217, Time=3.33 sec\n",
            " ARIMA(4,1,3)(0,0,0)[0]             : AIC=7397.681, Time=0.82 sec\n",
            " ARIMA(4,1,5)(0,0,0)[0]             : AIC=7400.544, Time=1.71 sec\n",
            "\n",
            "Best model:  ARIMA(3,1,4)(0,0,0)[0]          \n",
            "Total fit time: 80.307 seconds\n"
          ]
        },
        {
          "output_type": "execute_result",
          "data": {
            "text/plain": [
              "ARIMA(order=(3, 1, 4), scoring_args={}, suppress_warnings=True,\n",
              "      with_intercept=False)"
            ],
            "text/html": [
              "<style>#sk-container-id-1 {color: black;background-color: white;}#sk-container-id-1 pre{padding: 0;}#sk-container-id-1 div.sk-toggleable {background-color: white;}#sk-container-id-1 label.sk-toggleable__label {cursor: pointer;display: block;width: 100%;margin-bottom: 0;padding: 0.3em;box-sizing: border-box;text-align: center;}#sk-container-id-1 label.sk-toggleable__label-arrow:before {content: \"▸\";float: left;margin-right: 0.25em;color: #696969;}#sk-container-id-1 label.sk-toggleable__label-arrow:hover:before {color: black;}#sk-container-id-1 div.sk-estimator:hover label.sk-toggleable__label-arrow:before {color: black;}#sk-container-id-1 div.sk-toggleable__content {max-height: 0;max-width: 0;overflow: hidden;text-align: left;background-color: #f0f8ff;}#sk-container-id-1 div.sk-toggleable__content pre {margin: 0.2em;color: black;border-radius: 0.25em;background-color: #f0f8ff;}#sk-container-id-1 input.sk-toggleable__control:checked~div.sk-toggleable__content {max-height: 200px;max-width: 100%;overflow: auto;}#sk-container-id-1 input.sk-toggleable__control:checked~label.sk-toggleable__label-arrow:before {content: \"▾\";}#sk-container-id-1 div.sk-estimator input.sk-toggleable__control:checked~label.sk-toggleable__label {background-color: #d4ebff;}#sk-container-id-1 div.sk-label input.sk-toggleable__control:checked~label.sk-toggleable__label {background-color: #d4ebff;}#sk-container-id-1 input.sk-hidden--visually {border: 0;clip: rect(1px 1px 1px 1px);clip: rect(1px, 1px, 1px, 1px);height: 1px;margin: -1px;overflow: hidden;padding: 0;position: absolute;width: 1px;}#sk-container-id-1 div.sk-estimator {font-family: monospace;background-color: #f0f8ff;border: 1px dotted black;border-radius: 0.25em;box-sizing: border-box;margin-bottom: 0.5em;}#sk-container-id-1 div.sk-estimator:hover {background-color: #d4ebff;}#sk-container-id-1 div.sk-parallel-item::after {content: \"\";width: 100%;border-bottom: 1px solid gray;flex-grow: 1;}#sk-container-id-1 div.sk-label:hover label.sk-toggleable__label {background-color: #d4ebff;}#sk-container-id-1 div.sk-serial::before {content: \"\";position: absolute;border-left: 1px solid gray;box-sizing: border-box;top: 0;bottom: 0;left: 50%;z-index: 0;}#sk-container-id-1 div.sk-serial {display: flex;flex-direction: column;align-items: center;background-color: white;padding-right: 0.2em;padding-left: 0.2em;position: relative;}#sk-container-id-1 div.sk-item {position: relative;z-index: 1;}#sk-container-id-1 div.sk-parallel {display: flex;align-items: stretch;justify-content: center;background-color: white;position: relative;}#sk-container-id-1 div.sk-item::before, #sk-container-id-1 div.sk-parallel-item::before {content: \"\";position: absolute;border-left: 1px solid gray;box-sizing: border-box;top: 0;bottom: 0;left: 50%;z-index: -1;}#sk-container-id-1 div.sk-parallel-item {display: flex;flex-direction: column;z-index: 1;position: relative;background-color: white;}#sk-container-id-1 div.sk-parallel-item:first-child::after {align-self: flex-end;width: 50%;}#sk-container-id-1 div.sk-parallel-item:last-child::after {align-self: flex-start;width: 50%;}#sk-container-id-1 div.sk-parallel-item:only-child::after {width: 0;}#sk-container-id-1 div.sk-dashed-wrapped {border: 1px dashed gray;margin: 0 0.4em 0.5em 0.4em;box-sizing: border-box;padding-bottom: 0.4em;background-color: white;}#sk-container-id-1 div.sk-label label {font-family: monospace;font-weight: bold;display: inline-block;line-height: 1.2em;}#sk-container-id-1 div.sk-label-container {text-align: center;}#sk-container-id-1 div.sk-container {/* jupyter's `normalize.less` sets `[hidden] { display: none; }` but bootstrap.min.css set `[hidden] { display: none !important; }` so we also need the `!important` here to be able to override the default hidden behavior on the sphinx rendered scikit-learn.org. See: https://github.com/scikit-learn/scikit-learn/issues/21755 */display: inline-block !important;position: relative;}#sk-container-id-1 div.sk-text-repr-fallback {display: none;}</style><div id=\"sk-container-id-1\" class=\"sk-top-container\"><div class=\"sk-text-repr-fallback\"><pre> ARIMA(3,1,4)(0,0,0)[0]          </pre><b>In a Jupyter environment, please rerun this cell to show the HTML representation or trust the notebook. <br />On GitHub, the HTML representation is unable to render, please try loading this page with nbviewer.org.</b></div><div class=\"sk-container\" hidden><div class=\"sk-item\"><div class=\"sk-estimator sk-toggleable\"><input class=\"sk-toggleable__control sk-hidden--visually\" id=\"sk-estimator-id-1\" type=\"checkbox\" checked><label for=\"sk-estimator-id-1\" class=\"sk-toggleable__label sk-toggleable__label-arrow\">ARIMA</label><div class=\"sk-toggleable__content\"><pre> ARIMA(3,1,4)(0,0,0)[0]          </pre></div></div></div></div></div>"
            ]
          },
          "metadata": {},
          "execution_count": 8
        }
      ]
    },
    {
      "cell_type": "code",
      "source": [
        "# 4. Quá trình testing \n",
        "x_test = np.array(test_data.index).reshape(-1, 1)\n",
        "y_test = np.array(test_data['Close-Exog'])\n",
        "y_pred = model.predict(n_periods=len(y_test))\n",
        "\n",
        "# 5. Quá trình Validate\n",
        "x_val= np.array(val_data.index).reshape(-1, 1)\n",
        "y_val = np.array(val_data['Close-Exog'])\n",
        "y_pred_val =  model.predict(n_periods=len(y_val))"
      ],
      "metadata": {
        "id": "lBh8whurS0ZB"
      },
      "execution_count": 9,
      "outputs": []
    },
    {
      "cell_type": "code",
      "source": [
        "import datetime\n",
        "# 6. Quá trình tạo index predict 30 ngày tiếp theo\n",
        "last_index =  eth_data.index[-1]\n",
        "print(last_index)\n",
        "next_30_days_index_eth = pd.date_range(start=last_index + datetime.timedelta(days=1), periods=30, freq='D')\n",
        "print(next_30_days_index_eth)\n",
        "# Create an array of 30 consecutive integers starting from last_index\n",
        "x_next_30_days_eth = np.array(next_30_days_index_eth).reshape(-1, 1)\n",
        "\n",
        "# Predict the closing prices for the next 30 days\n",
        "y_next_30_days_eth = model.predict(n_periods=len(x_next_30_days_eth)) \n",
        "\n",
        "# Print the predicted closing prices for the next 30 days\n",
        "print('Predicted closing prices for the next 30 days:')\n",
        "print(y_next_30_days_eth)"
      ],
      "metadata": {
        "colab": {
          "base_uri": "https://localhost:8080/"
        },
        "id": "bnERcRAHR7o4",
        "outputId": "fca82e90-3f59-418a-c433-1e16482a3baa"
      },
      "execution_count": 10,
      "outputs": [
        {
          "output_type": "stream",
          "name": "stdout",
          "text": [
            "2023-03-31 00:00:00\n",
            "DatetimeIndex(['2023-04-01', '2023-04-02', '2023-04-03', '2023-04-04',\n",
            "               '2023-04-05', '2023-04-06', '2023-04-07', '2023-04-08',\n",
            "               '2023-04-09', '2023-04-10', '2023-04-11', '2023-04-12',\n",
            "               '2023-04-13', '2023-04-14', '2023-04-15', '2023-04-16',\n",
            "               '2023-04-17', '2023-04-18', '2023-04-19', '2023-04-20',\n",
            "               '2023-04-21', '2023-04-22', '2023-04-23', '2023-04-24',\n",
            "               '2023-04-25', '2023-04-26', '2023-04-27', '2023-04-28',\n",
            "               '2023-04-29', '2023-04-30'],\n",
            "              dtype='datetime64[ns]', freq='D')\n",
            "Predicted closing prices for the next 30 days:\n",
            "[297.88532057 299.40236581 302.40425607 299.99575066 299.04545122\n",
            " 301.17565775 300.78940644 299.53441783 300.38099562 300.84745762\n",
            " 300.03897907 300.1101275  300.62462901 300.33499098 300.11814227\n",
            " 300.42122235 300.42400831 300.21657035 300.31235393 300.40935719\n",
            " 300.29727175 300.28456763 300.36696528 300.33672218 300.29457976\n",
            " 300.33540806 300.34473417 300.31245509 300.3213592  300.33924365]\n"
          ]
        }
      ]
    },
    {
      "cell_type": "code",
      "source": [
        "# 8. Tính RMSE\n",
        "valid_rmse = np.sqrt(np.mean((y_pred_val - y_val)**2))\n",
        "test_rmse = np.sqrt(np.mean((y_pred - y_test)**2))\n",
        "valid_mape = np.mean(np.abs(y_pred_val - y_val)/np.abs(y_val))  # MAPE\n",
        "test_mape = np.mean(np.abs(y_pred - y_test)/np.abs(y_test))  # MAPE\n",
        "print('Validation RMSE:', valid_rmse)\n",
        "print('Testing RMSE:', test_rmse)\n",
        "print('Validation MAPE:', valid_mape)\n",
        "print('Testing MAPE:', test_mape)\n",
        "# 9.Vẽ hình\n",
        "plt.figure(figsize=(12,5), dpi=100)\n",
        "plt.ylabel('Close');\n",
        "plt.xlabel('Date');\n",
        "plt.title('ARIMA Train, Test, Predict')\n",
        "plt.plot(train_data.index, train_data['Close-Exog'])\n",
        "plt.plot(test_data.index, test_data['Close-Exog'])\n",
        "plt.plot(test_data.index, y_pred)\n",
        "plt.plot(val_data.index, y_pred_val)\n",
        "# plt.plot(last_data,y_next_30_days)\n",
        "plt.plot(next_30_days_index_eth,y_next_30_days_eth)\n",
        "\n",
        "plt.legend(['Train', 'Test', 'Predictions','Validate','Next30Day'])\n",
        "plt.show()"
      ],
      "metadata": {
        "colab": {
          "base_uri": "https://localhost:8080/",
          "height": 556
        },
        "id": "pdegy8xUTLIx",
        "outputId": "541082ad-d8e9-4473-ae9f-eefb4c41a552"
      },
      "execution_count": 11,
      "outputs": [
        {
          "output_type": "stream",
          "name": "stdout",
          "text": [
            "Validation RMSE: 27.660317451222138\n",
            "Testing RMSE: 135.51391192637143\n",
            "Validation MAPE: 0.07740781161052891\n",
            "Testing MAPE: 0.2374260054597265\n"
          ]
        },
        {
          "output_type": "display_data",
          "data": {
            "text/plain": [
              "<Figure size 1200x500 with 1 Axes>"
            ],
            "image/png": "[encoded data removed]"
          },
          "metadata": {}
        }
      ]
    },
    {
      "cell_type": "markdown",
      "source": [
        "**<h3>Dự đoán ARIMAX 6-3-1</h3>**"
      ],
      "metadata": {
        "id": "N0wIsXKj3HnI"
      }
    },
    {
      "cell_type": "code",
      "source": [
        "\n",
        "# data = data.reset_index(drop=True) # Reset the index\n",
        "data['Date'] = pd.to_datetime(data['Date'])\n",
        "data.set_index('Date', inplace=True)\n",
        "data = data[['Close', 'Close-Exog']]\n",
        "data = data.dropna() # Drop missing values\n",
        "\n",
        "# Split the data into training, testing, and validation sets\n",
        "train_size = int(0.6 * len(data))\n",
        "test_size = int(0.3 * len(data))\n",
        "val_size = len(data) - train_size - test_size\n",
        "\n",
        "train_data = data[:train_size]\n",
        "test_data = data[train_size:train_size+test_size]\n",
        "val_data = data[train_size+test_size:]\n",
        "print(len(train_data))\n",
        "print(len(test_data))\n",
        "print(len(val_data))"
      ],
      "metadata": {
        "colab": {
          "base_uri": "https://localhost:8080/"
        },
        "id": "GO0MijOG3KkY",
        "outputId": "7e46291c-2220-48c7-a400-b1104ebe8ffd"
      },
      "execution_count": 12,
      "outputs": [
        {
          "output_type": "stream",
          "name": "stdout",
          "text": [
            "930\n",
            "465\n",
            "156\n"
          ]
        }
      ]
    },
    {
      "cell_type": "code",
      "source": [
        "from pmdarima.arima import auto_arima\n",
        "train_exog = train_data[[\"Close-Exog\"]]\n",
        "model = auto_arima(train_data.Close, \n",
        "                      test='adf',       # use adftest to find      \n",
        "                      trace=True,\n",
        "                      error_action='ignore',  \n",
        "                      suppress_warnings=True,  \n",
        "                      stepwise=True,\n",
        "                      exogenous= train_exog)\n",
        "print(model.summary())"
      ],
      "metadata": {
        "colab": {
          "base_uri": "https://localhost:8080/"
        },
        "id": "RYOVvXSkiEBa",
        "outputId": "f54cf0a4-7574-4c7b-d248-7631a7c4b3b5"
      },
      "execution_count": 13,
      "outputs": [
        {
          "output_type": "stream",
          "name": "stdout",
          "text": [
            "Performing stepwise search to minimize aic\n",
            " ARIMA(2,1,2)(0,0,0)[0] intercept   : AIC=-5147.275, Time=2.75 sec\n",
            " ARIMA(0,1,0)(0,0,0)[0] intercept   : AIC=-5058.268, Time=0.15 sec\n",
            " ARIMA(1,1,0)(0,0,0)[0] intercept   : AIC=-5071.702, Time=0.10 sec\n",
            " ARIMA(0,1,1)(0,0,0)[0] intercept   : AIC=-5068.899, Time=0.38 sec\n",
            " ARIMA(0,1,0)(0,0,0)[0]             : AIC=-5060.129, Time=0.08 sec\n",
            " ARIMA(1,1,2)(0,0,0)[0] intercept   : AIC=-5096.670, Time=3.03 sec\n",
            " ARIMA(2,1,1)(0,0,0)[0] intercept   : AIC=-5079.906, Time=5.44 sec\n",
            " ARIMA(3,1,2)(0,0,0)[0] intercept   : AIC=-5120.506, Time=5.18 sec\n",
            " ARIMA(2,1,3)(0,0,0)[0] intercept   : AIC=-5137.202, Time=6.67 sec\n",
            " ARIMA(1,1,1)(0,0,0)[0] intercept   : AIC=-5073.719, Time=1.99 sec\n",
            " ARIMA(1,1,3)(0,0,0)[0] intercept   : AIC=-5116.575, Time=3.68 sec\n",
            " ARIMA(3,1,1)(0,0,0)[0] intercept   : AIC=-5084.148, Time=1.37 sec\n",
            " ARIMA(3,1,3)(0,0,0)[0] intercept   : AIC=-5142.789, Time=7.68 sec\n",
            " ARIMA(2,1,2)(0,0,0)[0]             : AIC=-5149.070, Time=2.12 sec\n",
            " ARIMA(1,1,2)(0,0,0)[0]             : AIC=-5098.565, Time=2.54 sec\n",
            " ARIMA(2,1,1)(0,0,0)[0]             : AIC=-5081.774, Time=0.59 sec\n",
            " ARIMA(3,1,2)(0,0,0)[0]             : AIC=-5122.936, Time=0.93 sec\n",
            " ARIMA(2,1,3)(0,0,0)[0]             : AIC=-5150.816, Time=1.11 sec\n",
            " ARIMA(1,1,3)(0,0,0)[0]             : AIC=-5118.489, Time=1.91 sec\n",
            " ARIMA(3,1,3)(0,0,0)[0]             : AIC=-5144.726, Time=2.08 sec\n",
            " ARIMA(2,1,4)(0,0,0)[0]             : AIC=-5144.044, Time=1.26 sec\n",
            " ARIMA(1,1,4)(0,0,0)[0]             : AIC=-5132.788, Time=1.17 sec\n",
            " ARIMA(3,1,4)(0,0,0)[0]             : AIC=-5144.512, Time=1.40 sec\n",
            "\n",
            "Best model:  ARIMA(2,1,3)(0,0,0)[0]          \n",
            "Total fit time: 53.695 seconds\n",
            "                               SARIMAX Results                                \n",
            "==============================================================================\n",
            "Dep. Variable:                      y   No. Observations:                  930\n",
            "Model:               SARIMAX(2, 1, 3)   Log Likelihood                2581.408\n",
            "Date:                Sun, 04 Jun 2023   AIC                          -5150.816\n",
            "Time:                        15:22:40   BIC                          -5121.811\n",
            "Sample:                    01-01-2019   HQIC                         -5139.753\n",
            "                         - 07-18-2021                                         \n",
            "Covariance Type:                  opg                                         \n",
            "==============================================================================\n",
            "                 coef    std err          z      P>|z|      [0.025      0.975]\n",
            "------------------------------------------------------------------------------\n",
            "ar.L1          1.0011      0.033     30.341      0.000       0.936       1.066\n",
            "ar.L2         -0.6097      0.022    -28.314      0.000      -0.652      -0.567\n",
            "ma.L1         -1.2161      0.033    -36.708      0.000      -1.281      -1.151\n",
            "ma.L2          1.0430      0.022     48.197      0.000       1.001       1.085\n",
            "ma.L3         -0.2139      0.017    -12.336      0.000      -0.248      -0.180\n",
            "sigma2         0.0002   2.61e-06     89.485      0.000       0.000       0.000\n",
            "===================================================================================\n",
            "Ljung-Box (L1) (Q):                   2.10   Jarque-Bera (JB):             96976.92\n",
            "Prob(Q):                              0.15   Prob(JB):                         0.00\n",
            "Heteroskedasticity (H):           59791.22   Skew:                             2.40\n",
            "Prob(H) (two-sided):                  0.00   Kurtosis:                        52.82\n",
            "===================================================================================\n",
            "\n",
            "Warnings:\n",
            "[1] Covariance matrix calculated using the outer product of gradients (complex-step).\n"
          ]
        }
      ]
    },
    {
      "cell_type": "code",
      "source": [
        "from statsmodels.tsa.statespace.sarimax import SARIMAX\n",
        "model= SARIMAX(train_data.Close, \n",
        " exog=train_exog,\n",
        " order=(2,1,3),\n",
        " enforce_invertibility=False, enforce_stationarity=False)"
      ],
      "metadata": {
        "colab": {
          "base_uri": "https://localhost:8080/"
        },
        "id": "i73A1r-TCPnc",
        "outputId": "ec47ffc4-988d-4567-90a5-0982ec7aa4fe"
      },
      "execution_count": 14,
      "outputs": [
        {
          "output_type": "stream",
          "name": "stderr",
          "text": [
            "/usr/local/lib/python3.10/dist-packages/statsmodels/tsa/base/tsa_model.py:471: ValueWarning: No frequency information was provided, so inferred frequency D will be used.\n",
            "  self._init_dates(dates, freq)\n",
            "/usr/local/lib/python3.10/dist-packages/statsmodels/tsa/base/tsa_model.py:471: ValueWarning: No frequency information was provided, so inferred frequency D will be used.\n",
            "  self._init_dates(dates, freq)\n"
          ]
        }
      ]
    },
    {
      "cell_type": "code",
      "source": [
        "# 4. Quá trình testing \n",
        "x_test = np.array(test_data.index).reshape(-1, 1)\n",
        "y_test = np.array(test_data['Close'])\n",
        "test_exog = test_data[['Close-Exog']]\n",
        "model_fit = model.fit()\n",
        "# y_pred = model.predict(n_periods=len(y_test))\n",
        "y_pred = model_fit.forecast(steps=len(y_test), exog=test_exog)\n",
        "print(y_pred)\n",
        "\n",
        "# 5. Quá trình Validate\n",
        "x_val= np.array(val_data.index).reshape(-1, 1)\n",
        "y_val = np.array(val_data['Close'])\n",
        "val_exog = val_data[['Close-Exog']]\n",
        "print(val_exog)\n",
        "y_pred_val =  model_fit.forecast(steps=len(y_val), exog=val_exog)\n",
        "print(y_pred_val)"
      ],
      "metadata": {
        "colab": {
          "base_uri": "https://localhost:8080/"
        },
        "id": "cjSOYgRelzsk",
        "outputId": "aad64472-2201-4328-eefd-2ed48d1bd471"
      },
      "execution_count": 15,
      "outputs": [
        {
          "output_type": "stream",
          "name": "stdout",
          "text": [
            "2021-07-19    0.172462\n",
            "2021-07-20    0.167927\n",
            "2021-07-21    0.179666\n",
            "2021-07-22    0.179772\n",
            "2021-07-23    0.181579\n",
            "                ...   \n",
            "2022-10-22    0.170290\n",
            "2022-10-23    0.172484\n",
            "2022-10-24    0.171678\n",
            "2022-10-25    0.175827\n",
            "2022-10-26    0.178187\n",
            "Freq: D, Name: predicted_mean, Length: 465, dtype: float64\n",
            "            Close-Exog\n",
            "Date                  \n",
            "2022-10-27  286.844116\n",
            "2022-10-28  298.014191\n",
            "2022-10-29  304.217957\n",
            "2022-10-30  313.754791\n",
            "2022-10-31  326.360718\n",
            "...                ...\n",
            "2023-03-27  310.949127\n",
            "2023-03-28  313.260620\n",
            "2023-03-29  313.841766\n",
            "2023-03-30  316.567566\n",
            "2023-03-31  317.040009\n",
            "\n",
            "[156 rows x 1 columns]\n",
            "2021-07-19    0.175171\n",
            "2021-07-20    0.181116\n",
            "2021-07-21    0.184305\n",
            "2021-07-22    0.187755\n",
            "2021-07-23    0.192325\n",
            "                ...   \n",
            "2021-12-17    0.186351\n",
            "2021-12-18    0.187268\n",
            "2021-12-19    0.187499\n",
            "2021-12-20    0.188581\n",
            "2021-12-21    0.188768\n",
            "Freq: D, Name: predicted_mean, Length: 156, dtype: float64\n"
          ]
        }
      ]
    },
    {
      "cell_type": "code",
      "source": [
        "import datetime\n",
        "# 6. Quá trình tạo index predict 30 ngày tiếp theo\n",
        "last_index =  data.index[-1]\n",
        "print(last_index)\n",
        "# last_data = pd.RangeIndex(start=last_index, stop=last_index+30, step=1)\n",
        "next_30_days_index = pd.date_range(start=last_index + datetime.timedelta(days=1), periods=30, freq='D')\n",
        "print(next_30_days_index)\n",
        "# Create an array of 30 consecutive integers starting from last_index\n",
        "# x_next_30_days = np.array(range(last_index+1, last_index+31)).reshape(-1, 1)\n",
        "x_next_30_days = np.array(next_30_days_index).reshape(-1, 1)\n",
        "\n",
        "\n",
        "\n",
        "# Predict the closing prices for the next 30 days\n",
        "y_next_30_days = model_fit.forecast(steps=len(x_next_30_days), exog = y_next_30_days_eth) \n",
        "\n",
        "# Print the predicted closing prices for the next 30 days\n",
        "print('Predicted closing prices for the next 30 days:')\n",
        "print(y_next_30_days)"
      ],
      "metadata": {
        "colab": {
          "base_uri": "https://localhost:8080/"
        },
        "id": "p2WNLBfBngms",
        "outputId": "560af173-5e27-4b15-d7d5-2f7a70c9e65f"
      },
      "execution_count": 16,
      "outputs": [
        {
          "output_type": "stream",
          "name": "stdout",
          "text": [
            "2023-03-31 00:00:00\n",
            "DatetimeIndex(['2023-04-01', '2023-04-02', '2023-04-03', '2023-04-04',\n",
            "               '2023-04-05', '2023-04-06', '2023-04-07', '2023-04-08',\n",
            "               '2023-04-09', '2023-04-10', '2023-04-11', '2023-04-12',\n",
            "               '2023-04-13', '2023-04-14', '2023-04-15', '2023-04-16',\n",
            "               '2023-04-17', '2023-04-18', '2023-04-19', '2023-04-20',\n",
            "               '2023-04-21', '2023-04-22', '2023-04-23', '2023-04-24',\n",
            "               '2023-04-25', '2023-04-26', '2023-04-27', '2023-04-28',\n",
            "               '2023-04-29', '2023-04-30'],\n",
            "              dtype='datetime64[ns]', freq='D')\n",
            "Predicted closing prices for the next 30 days:\n",
            "2021-07-19    0.179552\n",
            "2021-07-20    0.181666\n",
            "2021-07-21    0.183585\n",
            "2021-07-22    0.182294\n",
            "2021-07-23    0.181484\n",
            "2021-07-24    0.182296\n",
            "2021-07-25    0.182308\n",
            "2021-07-26    0.181889\n",
            "2021-07-27    0.182189\n",
            "2021-07-28    0.182326\n",
            "2021-07-29    0.182002\n",
            "2021-07-30    0.182048\n",
            "2021-07-31    0.182261\n",
            "2021-08-01    0.182142\n",
            "2021-08-02    0.182051\n",
            "2021-08-03    0.182171\n",
            "2021-08-04    0.182174\n",
            "2021-08-05    0.182092\n",
            "2021-08-06    0.182130\n",
            "2021-08-07    0.182168\n",
            "2021-08-08    0.182123\n",
            "2021-08-09    0.182119\n",
            "2021-08-10    0.182151\n",
            "2021-08-11    0.182139\n",
            "2021-08-12    0.182123\n",
            "2021-08-13    0.182139\n",
            "2021-08-14    0.182142\n",
            "2021-08-15    0.182130\n",
            "2021-08-16    0.182133\n",
            "2021-08-17    0.182140\n",
            "Freq: D, Name: predicted_mean, dtype: float64\n"
          ]
        }
      ]
    },
    {
      "cell_type": "code",
      "source": [
        "# 12. Đánh giá độ chính xác thuật toán\n",
        "import sklearn.metrics as metrics\n",
        "mae = mean_absolute_error(y_test,y_pred)\n",
        "print('Testing MAE: ', mae)\n",
        "mae = mean_absolute_error(y_val,y_pred_val)\n",
        "print('Validation MAE: ', mae)\n"
      ],
      "metadata": {
        "colab": {
          "base_uri": "https://localhost:8080/"
        },
        "id": "Wy4OCDhq_bS4",
        "outputId": "cfca2815-cb1d-4899-e7fa-04305820eed1"
      },
      "execution_count": 17,
      "outputs": [
        {
          "output_type": "stream",
          "name": "stdout",
          "text": [
            "Testing MAE:  0.07786961894554438\n",
            "Validation MAE:  0.0947402462752337\n"
          ]
        }
      ]
    },
    {
      "cell_type": "code",
      "source": [
        "mse = mean_squared_error(y_test,y_pred)\n",
        "print('Testing MSE: ', mse)\n",
        "mse = mean_squared_error(y_val,y_pred_val)\n",
        "print('Validation MSE: ', mse)"
      ],
      "metadata": {
        "colab": {
          "base_uri": "https://localhost:8080/"
        },
        "id": "Y3-JHrsV_c2g",
        "outputId": "1cd4e750-621d-44c3-a2c5-4b7a4d69c074"
      },
      "execution_count": 18,
      "outputs": [
        {
          "output_type": "stream",
          "name": "stdout",
          "text": [
            "Testing MSE:  0.007281237460559497\n",
            "Validation MSE:  0.009141902034353111\n"
          ]
        }
      ]
    },
    {
      "cell_type": "code",
      "source": [
        "rmse = math.sqrt(mean_squared_error(y_test,y_pred))\n",
        "print('Testing RMSE: ', rmse)\n",
        "rmse = math.sqrt(mean_squared_error(y_val, y_pred_val))\n",
        "print('Validation RMSE: ', rmse)"
      ],
      "metadata": {
        "colab": {
          "base_uri": "https://localhost:8080/"
        },
        "id": "pjhGVMyq_ebZ",
        "outputId": "ccfa3a62-da1d-4feb-a65a-682def502af1"
      },
      "execution_count": 19,
      "outputs": [
        {
          "output_type": "stream",
          "name": "stdout",
          "text": [
            "Testing RMSE:  0.08533016735340145\n",
            "Validation RMSE:  0.09561329423439562\n"
          ]
        }
      ]
    },
    {
      "cell_type": "code",
      "source": [
        "r2 = r2_score(y_test, y_pred)\n",
        "print('Testing R-Square:', r2)\n",
        "r2 = r2_score(y_val, y_pred_val)\n",
        "print('Validation R-Square: ', r2)"
      ],
      "metadata": {
        "colab": {
          "base_uri": "https://localhost:8080/"
        },
        "id": "gt7XZVzl_gDZ",
        "outputId": "ccf1a6c5-fd62-4e36-9f32-00192d698ffa"
      },
      "execution_count": 20,
      "outputs": [
        {
          "output_type": "stream",
          "name": "stdout",
          "text": [
            "Testing R-Square: -0.28121796666833876\n",
            "Validation R-Square:  -49.658050304940524\n"
          ]
        }
      ]
    },
    {
      "cell_type": "code",
      "source": [
        "mape = np.mean(np.abs(y_pred - y_test)/np.abs(y_test))\n",
        "print('Testing MAPE: ', mape)\n",
        "mape = np.mean(np.abs(y_pred_val - y_val)/np.abs(y_val))\n",
        "print('Validation MAPE: ', mape)"
      ],
      "metadata": {
        "colab": {
          "base_uri": "https://localhost:8080/"
        },
        "id": "4Rr2ORie_hZS",
        "outputId": "22d085b4-4609-4844-9e21-718cdbee43a6"
      },
      "execution_count": 21,
      "outputs": [
        {
          "output_type": "stream",
          "name": "stdout",
          "text": [
            "Testing MAPE:  0.8151123972022281\n",
            "Validation MAPE:  1.1509516712954162\n"
          ]
        }
      ]
    },
    {
      "cell_type": "code",
      "source": [
        "# 9.Vẽ hình\n",
        "plt.figure(figsize=(12,5), dpi=100)\n",
        "plt.ylabel('Close');\n",
        "plt.xlabel('Date');\n",
        "plt.title('ARIMAX Train, Test, Predict')\n",
        "plt.plot(train_data.index, train_data['Close'])\n",
        "plt.plot(test_data.index, test_data['Close'])\n",
        "plt.plot(test_data.index, y_pred)\n",
        "plt.plot(val_data.index, y_pred_val)\n",
        "plt.plot(next_30_days_index,y_next_30_days)\n",
        "plt.legend(['Train', 'Test', 'Predictions','Validate','Next30Day'])\n",
        "plt.show()"
      ],
      "metadata": {
        "colab": {
          "base_uri": "https://localhost:8080/",
          "height": 487
        },
        "id": "CXpz3-oGrqpV",
        "outputId": "bb38969b-cf27-4d4d-93f7-7628d1eb1312"
      },
      "execution_count": 22,
      "outputs": [
        {
          "output_type": "display_data",
          "data": {
            "text/plain": [
              "<Figure size 1200x500 with 1 Axes>"
            ],
            "image/png": "[encoded data removed]"
          },
          "metadata": {}
        }
      ]
    },
    {
      "cell_type": "code",
      "source": [],
      "metadata": {
        "id": "0VfTOS25ydKH"
      },
      "execution_count": 22,
      "outputs": []
    }
  ]
}