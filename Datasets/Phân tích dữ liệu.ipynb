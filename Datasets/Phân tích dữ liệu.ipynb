{
 "cells": [
  {
   "cell_type": "code",
   "execution_count": 17,
   "metadata": {},
   "outputs": [],
   "source": [
    "import numpy as np\n",
    "import pandas as pd\n",
    "import matplotlib.pyplot as plt"
   ]
  },
  {
   "cell_type": "code",
   "execution_count": 3,
   "metadata": {},
   "outputs": [],
   "source": [
    "BNB = pd.read_csv('BNB-USD.csv')\n",
    "BTC = pd.read_csv('BTC-USD.csv')\n",
    "DOGE = pd.read_csv('DOGE-USD.csv')\n",
    "ETH = pd.read_csv('ETH-USD.csv')"
   ]
  },
  {
   "cell_type": "code",
   "execution_count": 4,
   "metadata": {},
   "outputs": [
    {
     "name": "stdout",
     "output_type": "stream",
     "text": [
      "BNB Dataframe\n",
      "Date          0\n",
      "Close-Exog    0\n",
      "dtype: int64\n",
      "======================\n",
      "BTC Dataframe\n",
      "Date         0\n",
      "Open         0\n",
      "High         0\n",
      "Low          0\n",
      "Close        0\n",
      "Adj Close    0\n",
      "Volume       0\n",
      "dtype: int64\n",
      "======================\n",
      "DOGE Dataframe\n",
      "Date         0\n",
      "Open         0\n",
      "High         0\n",
      "Low          0\n",
      "Close        0\n",
      "Adj Close    0\n",
      "Volume       0\n",
      "dtype: int64\n",
      "======================\n",
      "ETH Dataframe\n",
      "Date         0\n",
      "Open         0\n",
      "High         0\n",
      "Low          0\n",
      "Close        0\n",
      "Adj Close    0\n",
      "Volume       0\n",
      "dtype: int64\n",
      "======================\n"
     ]
    }
   ],
   "source": [
    "print('BNB Dataframe')\n",
    "print(BNB.isnull().sum())\n",
    "print('======================')\n",
    "print('BTC Dataframe')\n",
    "print(BTC.isnull().sum())\n",
    "print('======================')\n",
    "print('DOGE Dataframe')\n",
    "print(DOGE.isnull().sum())\n",
    "print('======================')\n",
    "print('ETH Dataframe')\n",
    "print(ETH.isnull().sum())\n",
    "print('======================')"
   ]
  },
  {
   "cell_type": "code",
   "execution_count": 16,
   "metadata": {},
   "outputs": [
    {
     "data": {
      "text/html": [
       "<div>\n",
       "<style scoped>\n",
       "    .dataframe tbody tr th:only-of-type {\n",
       "        vertical-align: middle;\n",
       "    }\n",
       "\n",
       "    .dataframe tbody tr th {\n",
       "        vertical-align: top;\n",
       "    }\n",
       "\n",
       "    .dataframe thead th {\n",
       "        text-align: right;\n",
       "    }\n",
       "</style>\n",
       "<table border=\"1\" class=\"dataframe\">\n",
       "  <thead>\n",
       "    <tr style=\"text-align: right;\">\n",
       "      <th></th>\n",
       "      <th>Open</th>\n",
       "      <th>High</th>\n",
       "      <th>Low</th>\n",
       "      <th>Close</th>\n",
       "      <th>Adj Close</th>\n",
       "      <th>Volume</th>\n",
       "    </tr>\n",
       "  </thead>\n",
       "  <tbody>\n",
       "    <tr>\n",
       "      <th>count</th>\n",
       "      <td>1551.000000</td>\n",
       "      <td>1551.000000</td>\n",
       "      <td>1551.000000</td>\n",
       "      <td>1551.000000</td>\n",
       "      <td>1551.000000</td>\n",
       "      <td>1.551000e+03</td>\n",
       "    </tr>\n",
       "    <tr>\n",
       "      <th>mean</th>\n",
       "      <td>1328.167227</td>\n",
       "      <td>1369.148757</td>\n",
       "      <td>1282.579132</td>\n",
       "      <td>1329.016834</td>\n",
       "      <td>1329.016834</td>\n",
       "      <td>1.550737e+10</td>\n",
       "    </tr>\n",
       "    <tr>\n",
       "      <th>std</th>\n",
       "      <td>1246.165258</td>\n",
       "      <td>1284.038979</td>\n",
       "      <td>1202.226805</td>\n",
       "      <td>1245.325749</td>\n",
       "      <td>1245.325749</td>\n",
       "      <td>1.023935e+10</td>\n",
       "    </tr>\n",
       "    <tr>\n",
       "      <th>min</th>\n",
       "      <td>104.645050</td>\n",
       "      <td>106.058876</td>\n",
       "      <td>95.184303</td>\n",
       "      <td>104.535301</td>\n",
       "      <td>104.535301</td>\n",
       "      <td>2.212109e+09</td>\n",
       "    </tr>\n",
       "    <tr>\n",
       "      <th>25%</th>\n",
       "      <td>211.393654</td>\n",
       "      <td>216.463165</td>\n",
       "      <td>206.473861</td>\n",
       "      <td>211.515175</td>\n",
       "      <td>211.515175</td>\n",
       "      <td>8.132079e+09</td>\n",
       "    </tr>\n",
       "    <tr>\n",
       "      <th>50%</th>\n",
       "      <td>1193.254028</td>\n",
       "      <td>1219.860596</td>\n",
       "      <td>1156.062500</td>\n",
       "      <td>1195.126953</td>\n",
       "      <td>1195.126953</td>\n",
       "      <td>1.336428e+10</td>\n",
       "    </tr>\n",
       "    <tr>\n",
       "      <th>75%</th>\n",
       "      <td>2049.263916</td>\n",
       "      <td>2136.450439</td>\n",
       "      <td>1962.147095</td>\n",
       "      <td>2049.722046</td>\n",
       "      <td>2049.722046</td>\n",
       "      <td>1.960442e+10</td>\n",
       "    </tr>\n",
       "    <tr>\n",
       "      <th>max</th>\n",
       "      <td>4810.071289</td>\n",
       "      <td>4891.704590</td>\n",
       "      <td>4718.039063</td>\n",
       "      <td>4812.087402</td>\n",
       "      <td>4812.087402</td>\n",
       "      <td>8.448291e+10</td>\n",
       "    </tr>\n",
       "  </tbody>\n",
       "</table>\n",
       "</div>"
      ],
      "text/plain": [
       "              Open         High          Low        Close    Adj Close   \n",
       "count  1551.000000  1551.000000  1551.000000  1551.000000  1551.000000  \\\n",
       "mean   1328.167227  1369.148757  1282.579132  1329.016834  1329.016834   \n",
       "std    1246.165258  1284.038979  1202.226805  1245.325749  1245.325749   \n",
       "min     104.645050   106.058876    95.184303   104.535301   104.535301   \n",
       "25%     211.393654   216.463165   206.473861   211.515175   211.515175   \n",
       "50%    1193.254028  1219.860596  1156.062500  1195.126953  1195.126953   \n",
       "75%    2049.263916  2136.450439  1962.147095  2049.722046  2049.722046   \n",
       "max    4810.071289  4891.704590  4718.039063  4812.087402  4812.087402   \n",
       "\n",
       "             Volume  \n",
       "count  1.551000e+03  \n",
       "mean   1.550737e+10  \n",
       "std    1.023935e+10  \n",
       "min    2.212109e+09  \n",
       "25%    8.132079e+09  \n",
       "50%    1.336428e+10  \n",
       "75%    1.960442e+10  \n",
       "max    8.448291e+10  "
      ]
     },
     "execution_count": 16,
     "metadata": {},
     "output_type": "execute_result"
    }
   ],
   "source": [
    "ETH.describe()"
   ]
  },
  {
   "attachments": {},
   "cell_type": "markdown",
   "metadata": {},
   "source": [
    "# BTC"
   ]
  },
  {
   "attachments": {},
   "cell_type": "markdown",
   "metadata": {},
   "source": [
    "## HISTOGRAM"
   ]
  },
  {
   "cell_type": "code",
   "execution_count": 21,
   "metadata": {},
   "outputs": [
    {
     "data": {
      "image/png": "[encoded data removed]",
      "text/plain": [
       "<Figure size 640x480 with 1 Axes>"
      ]
     },
     "metadata": {},
     "output_type": "display_data"
    }
   ],
   "source": [
    "# Vẽ histogram cho cột 'Close'\n",
    "plt.hist(BTC['Close'])\n",
    "\n",
    "plt.xlabel('Giá trị')\n",
    "plt.ylabel('Số lượng')\n",
    "plt.title('Histogram')\n",
    "\n",
    "plt.show()"
   ]
  },
  {
   "attachments": {},
   "cell_type": "markdown",
   "metadata": {},
   "source": [
    "## PILOT\n"
   ]
  }
 ],
 "metadata": {
  "kernelspec": {
   "display_name": "Python 3",
   "language": "python",
   "name": "python3"
  },
  "language_info": {
   "codemirror_mode": {
    "name": "ipython",
    "version": 3
   },
   "file_extension": ".py",
   "mimetype": "text/x-python",
   "name": "python",
   "nbconvert_exporter": "python",
   "pygments_lexer": "ipython3",
   "version": "3.11.2"
  },
  "orig_nbformat": 4
 },
 "nbformat": 4,
 "nbformat_minor": 2
}
