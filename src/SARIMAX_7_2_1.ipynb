{
  "nbformat": 4,
  "nbformat_minor": 0,
  "metadata": {
    "colab": {
      "provenance": []
    },
    "kernelspec": {
      "name": "python3",
      "display_name": "Python 3"
    },
    "language_info": {
      "name": "python"
    }
  },
  "cells": [
    {
      "cell_type": "code",
      "execution_count": 55,
      "metadata": {
        "id": "NIJ_X3Mr2ZaE"
      },
      "outputs": [],
      "source": [
        "import numpy as np # linear algebra\n",
        "import pandas as pd # data processing, CSV file I/O (e.g. pd.read_csv)\n",
        "from statsmodels.tsa.arima.model import ARIMA\n",
        "from statsmodels.tsa.statespace.sarimax import SARIMAX\n",
        "import matplotlib.pyplot as plt\n",
        "from sklearn.metrics import mean_squared_error"
      ]
    },
    {
      "cell_type": "markdown",
      "source": [
        "Đọc dữ liệu"
      ],
      "metadata": {
        "id": "rQ9VeiuD2o6m"
      }
    },
    {
      "cell_type": "code",
      "source": [
        "btc_data = pd.read_csv('BTC-USD.csv')\n",
        "eth_data = pd.read_csv('ETH-USD.csv')"
      ],
      "metadata": {
        "id": "PM12i09v2nvr"
      },
      "execution_count": 56,
      "outputs": []
    },
    {
      "cell_type": "markdown",
      "source": [
        "Dữ liệu BTC-USD"
      ],
      "metadata": {
        "id": "uguaZ0tu21Sg"
      }
    },
    {
      "cell_type": "code",
      "source": [
        "btc_data.head()"
      ],
      "metadata": {
        "colab": {
          "base_uri": "https://localhost:8080/",
          "height": 206
        },
        "id": "KDFVJyIE2qI8",
        "outputId": "34911e36-de7d-4f7a-bb87-c404cb064466"
      },
      "execution_count": 57,
      "outputs": [
        {
          "output_type": "execute_result",
          "data": {
            "text/plain": [
              "       Date         Open         High          Low        Close    Adj Close  \\\n",
              "0  1/1/2019  3746.713379  3850.913818  3707.231201  3843.520020  3843.520020   \n",
              "1  1/2/2019  3849.216309  3947.981201  3817.409424  3943.409424  3943.409424   \n",
              "2  1/3/2019  3931.048584  3935.685059  3826.222900  3836.741211  3836.741211   \n",
              "3  1/4/2019  3832.040039  3865.934570  3783.853760  3857.717529  3857.717529   \n",
              "4  1/5/2019  3851.973877  3904.903076  3836.900146  3845.194580  3845.194580   \n",
              "\n",
              "         Volume  \n",
              "0  4.324201e+09  \n",
              "1  5.244857e+09  \n",
              "2  4.530215e+09  \n",
              "3  4.847965e+09  \n",
              "4  5.137610e+09  "
            ],
            "text/html": [
              "\n",
              "  <div id=\"df-2ad4c69d-9976-47c3-b1a3-c9b1ad99df8a\">\n",
              "    <div class=\"colab-df-container\">\n",
              "      <div>\n",
              "<style scoped>\n",
              "    .dataframe tbody tr th:only-of-type {\n",
              "        vertical-align: middle;\n",
              "    }\n",
              "\n",
              "    .dataframe tbody tr th {\n",
              "        vertical-align: top;\n",
              "    }\n",
              "\n",
              "    .dataframe thead th {\n",
              "        text-align: right;\n",
              "    }\n",
              "</style>\n",
              "<table border=\"1\" class=\"dataframe\">\n",
              "  <thead>\n",
              "    <tr style=\"text-align: right;\">\n",
              "      <th></th>\n",
              "      <th>Date</th>\n",
              "      <th>Open</th>\n",
              "      <th>High</th>\n",
              "      <th>Low</th>\n",
              "      <th>Close</th>\n",
              "      <th>Adj Close</th>\n",
              "      <th>Volume</th>\n",
              "    </tr>\n",
              "  </thead>\n",
              "  <tbody>\n",
              "    <tr>\n",
              "      <th>0</th>\n",
              "      <td>1/1/2019</td>\n",
              "      <td>3746.713379</td>\n",
              "      <td>3850.913818</td>\n",
              "      <td>3707.231201</td>\n",
              "      <td>3843.520020</td>\n",
              "      <td>3843.520020</td>\n",
              "      <td>4.324201e+09</td>\n",
              "    </tr>\n",
              "    <tr>\n",
              "      <th>1</th>\n",
              "      <td>1/2/2019</td>\n",
              "      <td>3849.216309</td>\n",
              "      <td>3947.981201</td>\n",
              "      <td>3817.409424</td>\n",
              "      <td>3943.409424</td>\n",
              "      <td>3943.409424</td>\n",
              "      <td>5.244857e+09</td>\n",
              "    </tr>\n",
              "    <tr>\n",
              "      <th>2</th>\n",
              "      <td>1/3/2019</td>\n",
              "      <td>3931.048584</td>\n",
              "      <td>3935.685059</td>\n",
              "      <td>3826.222900</td>\n",
              "      <td>3836.741211</td>\n",
              "      <td>3836.741211</td>\n",
              "      <td>4.530215e+09</td>\n",
              "    </tr>\n",
              "    <tr>\n",
              "      <th>3</th>\n",
              "      <td>1/4/2019</td>\n",
              "      <td>3832.040039</td>\n",
              "      <td>3865.934570</td>\n",
              "      <td>3783.853760</td>\n",
              "      <td>3857.717529</td>\n",
              "      <td>3857.717529</td>\n",
              "      <td>4.847965e+09</td>\n",
              "    </tr>\n",
              "    <tr>\n",
              "      <th>4</th>\n",
              "      <td>1/5/2019</td>\n",
              "      <td>3851.973877</td>\n",
              "      <td>3904.903076</td>\n",
              "      <td>3836.900146</td>\n",
              "      <td>3845.194580</td>\n",
              "      <td>3845.194580</td>\n",
              "      <td>5.137610e+09</td>\n",
              "    </tr>\n",
              "  </tbody>\n",
              "</table>\n",
              "</div>\n",
              "      <button class=\"colab-df-convert\" onclick=\"convertToInteractive('df-2ad4c69d-9976-47c3-b1a3-c9b1ad99df8a')\"\n",
              "              title=\"Convert this dataframe to an interactive table.\"\n",
              "              style=\"display:none;\">\n",
              "        \n",
              "  <svg xmlns=\"http://www.w3.org/2000/svg\" height=\"24px\"viewBox=\"0 0 24 24\"\n",
              "       width=\"24px\">\n",
              "    <path d=\"M0 0h24v24H0V0z\" fill=\"none\"/>\n",
              "    <path d=\"M18.56 5.44l.94 2.06.94-2.06 2.06-.94-2.06-.94-.94-2.06-.94 2.06-2.06.94zm-11 1L8.5 8.5l.94-2.06 2.06-.94-2.06-.94L8.5 2.5l-.94 2.06-2.06.94zm10 10l.94 2.06.94-2.06 2.06-.94-2.06-.94-.94-2.06-.94 2.06-2.06.94z\"/><path d=\"M17.41 7.96l-1.37-1.37c-.4-.4-.92-.59-1.43-.59-.52 0-1.04.2-1.43.59L10.3 9.45l-7.72 7.72c-.78.78-.78 2.05 0 2.83L4 21.41c.39.39.9.59 1.41.59.51 0 1.02-.2 1.41-.59l7.78-7.78 2.81-2.81c.8-.78.8-2.07 0-2.86zM5.41 20L4 18.59l7.72-7.72 1.47 1.35L5.41 20z\"/>\n",
              "  </svg>\n",
              "      </button>\n",
              "      \n",
              "  <style>\n",
              "    .colab-df-container {\n",
              "      display:flex;\n",
              "      flex-wrap:wrap;\n",
              "      gap: 12px;\n",
              "    }\n",
              "\n",
              "    .colab-df-convert {\n",
              "      background-color: #E8F0FE;\n",
              "      border: none;\n",
              "      border-radius: 50%;\n",
              "      cursor: pointer;\n",
              "      display: none;\n",
              "      fill: #1967D2;\n",
              "      height: 32px;\n",
              "      padding: 0 0 0 0;\n",
              "      width: 32px;\n",
              "    }\n",
              "\n",
              "    .colab-df-convert:hover {\n",
              "      background-color: #E2EBFA;\n",
              "      box-shadow: 0px 1px 2px rgba(60, 64, 67, 0.3), 0px 1px 3px 1px rgba(60, 64, 67, 0.15);\n",
              "      fill: #174EA6;\n",
              "    }\n",
              "\n",
              "    [theme=dark] .colab-df-convert {\n",
              "      background-color: #3B4455;\n",
              "      fill: #D2E3FC;\n",
              "    }\n",
              "\n",
              "    [theme=dark] .colab-df-convert:hover {\n",
              "      background-color: #434B5C;\n",
              "      box-shadow: 0px 1px 3px 1px rgba(0, 0, 0, 0.15);\n",
              "      filter: drop-shadow(0px 1px 2px rgba(0, 0, 0, 0.3));\n",
              "      fill: #FFFFFF;\n",
              "    }\n",
              "  </style>\n",
              "\n",
              "      <script>\n",
              "        const buttonEl =\n",
              "          document.querySelector('#df-2ad4c69d-9976-47c3-b1a3-c9b1ad99df8a button.colab-df-convert');\n",
              "        buttonEl.style.display =\n",
              "          google.colab.kernel.accessAllowed ? 'block' : 'none';\n",
              "\n",
              "        async function convertToInteractive(key) {\n",
              "          const element = document.querySelector('#df-2ad4c69d-9976-47c3-b1a3-c9b1ad99df8a');\n",
              "          const dataTable =\n",
              "            await google.colab.kernel.invokeFunction('convertToInteractive',\n",
              "                                                     [key], {});\n",
              "          if (!dataTable) return;\n",
              "\n",
              "          const docLinkHtml = 'Like what you see? Visit the ' +\n",
              "            '<a target=\"_blank\" href=https://colab.research.google.com/notebooks/data_table.ipynb>data table notebook</a>'\n",
              "            + ' to learn more about interactive tables.';\n",
              "          element.innerHTML = '';\n",
              "          dataTable['output_type'] = 'display_data';\n",
              "          await google.colab.output.renderOutput(dataTable, element);\n",
              "          const docLink = document.createElement('div');\n",
              "          docLink.innerHTML = docLinkHtml;\n",
              "          element.appendChild(docLink);\n",
              "        }\n",
              "      </script>\n",
              "    </div>\n",
              "  </div>\n",
              "  "
            ]
          },
          "metadata": {},
          "execution_count": 57
        }
      ]
    },
    {
      "cell_type": "markdown",
      "source": [
        "Dữ liệu ETH-USD"
      ],
      "metadata": {
        "id": "IyH8kBFy23C5"
      }
    },
    {
      "cell_type": "code",
      "source": [
        "eth_data.head()"
      ],
      "metadata": {
        "colab": {
          "base_uri": "https://localhost:8080/",
          "height": 206
        },
        "id": "4PEpq8p42y5Q",
        "outputId": "cca5bafa-087d-41a4-addd-1e74304c035d"
      },
      "execution_count": 58,
      "outputs": [
        {
          "output_type": "execute_result",
          "data": {
            "text/plain": [
              "       Date   Close-ETH\n",
              "0  1/1/2019  140.819412\n",
              "1  1/2/2019  155.047684\n",
              "2  1/3/2019  149.135010\n",
              "3  1/4/2019  154.581940\n",
              "4  1/5/2019  155.638596"
            ],
            "text/html": [
              "\n",
              "  <div id=\"df-9b43043f-c3ff-42ea-a43f-3017264c949d\">\n",
              "    <div class=\"colab-df-container\">\n",
              "      <div>\n",
              "<style scoped>\n",
              "    .dataframe tbody tr th:only-of-type {\n",
              "        vertical-align: middle;\n",
              "    }\n",
              "\n",
              "    .dataframe tbody tr th {\n",
              "        vertical-align: top;\n",
              "    }\n",
              "\n",
              "    .dataframe thead th {\n",
              "        text-align: right;\n",
              "    }\n",
              "</style>\n",
              "<table border=\"1\" class=\"dataframe\">\n",
              "  <thead>\n",
              "    <tr style=\"text-align: right;\">\n",
              "      <th></th>\n",
              "      <th>Date</th>\n",
              "      <th>Close-ETH</th>\n",
              "    </tr>\n",
              "  </thead>\n",
              "  <tbody>\n",
              "    <tr>\n",
              "      <th>0</th>\n",
              "      <td>1/1/2019</td>\n",
              "      <td>140.819412</td>\n",
              "    </tr>\n",
              "    <tr>\n",
              "      <th>1</th>\n",
              "      <td>1/2/2019</td>\n",
              "      <td>155.047684</td>\n",
              "    </tr>\n",
              "    <tr>\n",
              "      <th>2</th>\n",
              "      <td>1/3/2019</td>\n",
              "      <td>149.135010</td>\n",
              "    </tr>\n",
              "    <tr>\n",
              "      <th>3</th>\n",
              "      <td>1/4/2019</td>\n",
              "      <td>154.581940</td>\n",
              "    </tr>\n",
              "    <tr>\n",
              "      <th>4</th>\n",
              "      <td>1/5/2019</td>\n",
              "      <td>155.638596</td>\n",
              "    </tr>\n",
              "  </tbody>\n",
              "</table>\n",
              "</div>\n",
              "      <button class=\"colab-df-convert\" onclick=\"convertToInteractive('df-9b43043f-c3ff-42ea-a43f-3017264c949d')\"\n",
              "              title=\"Convert this dataframe to an interactive table.\"\n",
              "              style=\"display:none;\">\n",
              "        \n",
              "  <svg xmlns=\"http://www.w3.org/2000/svg\" height=\"24px\"viewBox=\"0 0 24 24\"\n",
              "       width=\"24px\">\n",
              "    <path d=\"M0 0h24v24H0V0z\" fill=\"none\"/>\n",
              "    <path d=\"M18.56 5.44l.94 2.06.94-2.06 2.06-.94-2.06-.94-.94-2.06-.94 2.06-2.06.94zm-11 1L8.5 8.5l.94-2.06 2.06-.94-2.06-.94L8.5 2.5l-.94 2.06-2.06.94zm10 10l.94 2.06.94-2.06 2.06-.94-2.06-.94-.94-2.06-.94 2.06-2.06.94z\"/><path d=\"M17.41 7.96l-1.37-1.37c-.4-.4-.92-.59-1.43-.59-.52 0-1.04.2-1.43.59L10.3 9.45l-7.72 7.72c-.78.78-.78 2.05 0 2.83L4 21.41c.39.39.9.59 1.41.59.51 0 1.02-.2 1.41-.59l7.78-7.78 2.81-2.81c.8-.78.8-2.07 0-2.86zM5.41 20L4 18.59l7.72-7.72 1.47 1.35L5.41 20z\"/>\n",
              "  </svg>\n",
              "      </button>\n",
              "      \n",
              "  <style>\n",
              "    .colab-df-container {\n",
              "      display:flex;\n",
              "      flex-wrap:wrap;\n",
              "      gap: 12px;\n",
              "    }\n",
              "\n",
              "    .colab-df-convert {\n",
              "      background-color: #E8F0FE;\n",
              "      border: none;\n",
              "      border-radius: 50%;\n",
              "      cursor: pointer;\n",
              "      display: none;\n",
              "      fill: #1967D2;\n",
              "      height: 32px;\n",
              "      padding: 0 0 0 0;\n",
              "      width: 32px;\n",
              "    }\n",
              "\n",
              "    .colab-df-convert:hover {\n",
              "      background-color: #E2EBFA;\n",
              "      box-shadow: 0px 1px 2px rgba(60, 64, 67, 0.3), 0px 1px 3px 1px rgba(60, 64, 67, 0.15);\n",
              "      fill: #174EA6;\n",
              "    }\n",
              "\n",
              "    [theme=dark] .colab-df-convert {\n",
              "      background-color: #3B4455;\n",
              "      fill: #D2E3FC;\n",
              "    }\n",
              "\n",
              "    [theme=dark] .colab-df-convert:hover {\n",
              "      background-color: #434B5C;\n",
              "      box-shadow: 0px 1px 3px 1px rgba(0, 0, 0, 0.15);\n",
              "      filter: drop-shadow(0px 1px 2px rgba(0, 0, 0, 0.3));\n",
              "      fill: #FFFFFF;\n",
              "    }\n",
              "  </style>\n",
              "\n",
              "      <script>\n",
              "        const buttonEl =\n",
              "          document.querySelector('#df-9b43043f-c3ff-42ea-a43f-3017264c949d button.colab-df-convert');\n",
              "        buttonEl.style.display =\n",
              "          google.colab.kernel.accessAllowed ? 'block' : 'none';\n",
              "\n",
              "        async function convertToInteractive(key) {\n",
              "          const element = document.querySelector('#df-9b43043f-c3ff-42ea-a43f-3017264c949d');\n",
              "          const dataTable =\n",
              "            await google.colab.kernel.invokeFunction('convertToInteractive',\n",
              "                                                     [key], {});\n",
              "          if (!dataTable) return;\n",
              "\n",
              "          const docLinkHtml = 'Like what you see? Visit the ' +\n",
              "            '<a target=\"_blank\" href=https://colab.research.google.com/notebooks/data_table.ipynb>data table notebook</a>'\n",
              "            + ' to learn more about interactive tables.';\n",
              "          element.innerHTML = '';\n",
              "          dataTable['output_type'] = 'display_data';\n",
              "          await google.colab.output.renderOutput(dataTable, element);\n",
              "          const docLink = document.createElement('div');\n",
              "          docLink.innerHTML = docLinkHtml;\n",
              "          element.appendChild(docLink);\n",
              "        }\n",
              "      </script>\n",
              "    </div>\n",
              "  </div>\n",
              "  "
            ]
          },
          "metadata": {},
          "execution_count": 58
        }
      ]
    },
    {
      "cell_type": "markdown",
      "source": [
        "Kết hợp dữ liệu BTC và ETH"
      ],
      "metadata": {
        "id": "Zv__VwdN3DAo"
      }
    },
    {
      "cell_type": "code",
      "source": [
        "data = pd.merge(btc_data, eth_data, on='Date')\n",
        "data.head()"
      ],
      "metadata": {
        "colab": {
          "base_uri": "https://localhost:8080/",
          "height": 206
        },
        "id": "sCn7WWO_3BUn",
        "outputId": "7712ef31-93a6-4b9b-b006-dfa2a5cc9a3f"
      },
      "execution_count": 59,
      "outputs": [
        {
          "output_type": "execute_result",
          "data": {
            "text/plain": [
              "       Date         Open         High          Low        Close    Adj Close  \\\n",
              "0  1/1/2019  3746.713379  3850.913818  3707.231201  3843.520020  3843.520020   \n",
              "1  1/2/2019  3849.216309  3947.981201  3817.409424  3943.409424  3943.409424   \n",
              "2  1/3/2019  3931.048584  3935.685059  3826.222900  3836.741211  3836.741211   \n",
              "3  1/4/2019  3832.040039  3865.934570  3783.853760  3857.717529  3857.717529   \n",
              "4  1/5/2019  3851.973877  3904.903076  3836.900146  3845.194580  3845.194580   \n",
              "\n",
              "         Volume   Close-ETH  \n",
              "0  4.324201e+09  140.819412  \n",
              "1  5.244857e+09  155.047684  \n",
              "2  4.530215e+09  149.135010  \n",
              "3  4.847965e+09  154.581940  \n",
              "4  5.137610e+09  155.638596  "
            ],
            "text/html": [
              "\n",
              "  <div id=\"df-9b7479b2-2cfc-42e5-896d-31162cabf773\">\n",
              "    <div class=\"colab-df-container\">\n",
              "      <div>\n",
              "<style scoped>\n",
              "    .dataframe tbody tr th:only-of-type {\n",
              "        vertical-align: middle;\n",
              "    }\n",
              "\n",
              "    .dataframe tbody tr th {\n",
              "        vertical-align: top;\n",
              "    }\n",
              "\n",
              "    .dataframe thead th {\n",
              "        text-align: right;\n",
              "    }\n",
              "</style>\n",
              "<table border=\"1\" class=\"dataframe\">\n",
              "  <thead>\n",
              "    <tr style=\"text-align: right;\">\n",
              "      <th></th>\n",
              "      <th>Date</th>\n",
              "      <th>Open</th>\n",
              "      <th>High</th>\n",
              "      <th>Low</th>\n",
              "      <th>Close</th>\n",
              "      <th>Adj Close</th>\n",
              "      <th>Volume</th>\n",
              "      <th>Close-ETH</th>\n",
              "    </tr>\n",
              "  </thead>\n",
              "  <tbody>\n",
              "    <tr>\n",
              "      <th>0</th>\n",
              "      <td>1/1/2019</td>\n",
              "      <td>3746.713379</td>\n",
              "      <td>3850.913818</td>\n",
              "      <td>3707.231201</td>\n",
              "      <td>3843.520020</td>\n",
              "      <td>3843.520020</td>\n",
              "      <td>4.324201e+09</td>\n",
              "      <td>140.819412</td>\n",
              "    </tr>\n",
              "    <tr>\n",
              "      <th>1</th>\n",
              "      <td>1/2/2019</td>\n",
              "      <td>3849.216309</td>\n",
              "      <td>3947.981201</td>\n",
              "      <td>3817.409424</td>\n",
              "      <td>3943.409424</td>\n",
              "      <td>3943.409424</td>\n",
              "      <td>5.244857e+09</td>\n",
              "      <td>155.047684</td>\n",
              "    </tr>\n",
              "    <tr>\n",
              "      <th>2</th>\n",
              "      <td>1/3/2019</td>\n",
              "      <td>3931.048584</td>\n",
              "      <td>3935.685059</td>\n",
              "      <td>3826.222900</td>\n",
              "      <td>3836.741211</td>\n",
              "      <td>3836.741211</td>\n",
              "      <td>4.530215e+09</td>\n",
              "      <td>149.135010</td>\n",
              "    </tr>\n",
              "    <tr>\n",
              "      <th>3</th>\n",
              "      <td>1/4/2019</td>\n",
              "      <td>3832.040039</td>\n",
              "      <td>3865.934570</td>\n",
              "      <td>3783.853760</td>\n",
              "      <td>3857.717529</td>\n",
              "      <td>3857.717529</td>\n",
              "      <td>4.847965e+09</td>\n",
              "      <td>154.581940</td>\n",
              "    </tr>\n",
              "    <tr>\n",
              "      <th>4</th>\n",
              "      <td>1/5/2019</td>\n",
              "      <td>3851.973877</td>\n",
              "      <td>3904.903076</td>\n",
              "      <td>3836.900146</td>\n",
              "      <td>3845.194580</td>\n",
              "      <td>3845.194580</td>\n",
              "      <td>5.137610e+09</td>\n",
              "      <td>155.638596</td>\n",
              "    </tr>\n",
              "  </tbody>\n",
              "</table>\n",
              "</div>\n",
              "      <button class=\"colab-df-convert\" onclick=\"convertToInteractive('df-9b7479b2-2cfc-42e5-896d-31162cabf773')\"\n",
              "              title=\"Convert this dataframe to an interactive table.\"\n",
              "              style=\"display:none;\">\n",
              "        \n",
              "  <svg xmlns=\"http://www.w3.org/2000/svg\" height=\"24px\"viewBox=\"0 0 24 24\"\n",
              "       width=\"24px\">\n",
              "    <path d=\"M0 0h24v24H0V0z\" fill=\"none\"/>\n",
              "    <path d=\"M18.56 5.44l.94 2.06.94-2.06 2.06-.94-2.06-.94-.94-2.06-.94 2.06-2.06.94zm-11 1L8.5 8.5l.94-2.06 2.06-.94-2.06-.94L8.5 2.5l-.94 2.06-2.06.94zm10 10l.94 2.06.94-2.06 2.06-.94-2.06-.94-.94-2.06-.94 2.06-2.06.94z\"/><path d=\"M17.41 7.96l-1.37-1.37c-.4-.4-.92-.59-1.43-.59-.52 0-1.04.2-1.43.59L10.3 9.45l-7.72 7.72c-.78.78-.78 2.05 0 2.83L4 21.41c.39.39.9.59 1.41.59.51 0 1.02-.2 1.41-.59l7.78-7.78 2.81-2.81c.8-.78.8-2.07 0-2.86zM5.41 20L4 18.59l7.72-7.72 1.47 1.35L5.41 20z\"/>\n",
              "  </svg>\n",
              "      </button>\n",
              "      \n",
              "  <style>\n",
              "    .colab-df-container {\n",
              "      display:flex;\n",
              "      flex-wrap:wrap;\n",
              "      gap: 12px;\n",
              "    }\n",
              "\n",
              "    .colab-df-convert {\n",
              "      background-color: #E8F0FE;\n",
              "      border: none;\n",
              "      border-radius: 50%;\n",
              "      cursor: pointer;\n",
              "      display: none;\n",
              "      fill: #1967D2;\n",
              "      height: 32px;\n",
              "      padding: 0 0 0 0;\n",
              "      width: 32px;\n",
              "    }\n",
              "\n",
              "    .colab-df-convert:hover {\n",
              "      background-color: #E2EBFA;\n",
              "      box-shadow: 0px 1px 2px rgba(60, 64, 67, 0.3), 0px 1px 3px 1px rgba(60, 64, 67, 0.15);\n",
              "      fill: #174EA6;\n",
              "    }\n",
              "\n",
              "    [theme=dark] .colab-df-convert {\n",
              "      background-color: #3B4455;\n",
              "      fill: #D2E3FC;\n",
              "    }\n",
              "\n",
              "    [theme=dark] .colab-df-convert:hover {\n",
              "      background-color: #434B5C;\n",
              "      box-shadow: 0px 1px 3px 1px rgba(0, 0, 0, 0.15);\n",
              "      filter: drop-shadow(0px 1px 2px rgba(0, 0, 0, 0.3));\n",
              "      fill: #FFFFFF;\n",
              "    }\n",
              "  </style>\n",
              "\n",
              "      <script>\n",
              "        const buttonEl =\n",
              "          document.querySelector('#df-9b7479b2-2cfc-42e5-896d-31162cabf773 button.colab-df-convert');\n",
              "        buttonEl.style.display =\n",
              "          google.colab.kernel.accessAllowed ? 'block' : 'none';\n",
              "\n",
              "        async function convertToInteractive(key) {\n",
              "          const element = document.querySelector('#df-9b7479b2-2cfc-42e5-896d-31162cabf773');\n",
              "          const dataTable =\n",
              "            await google.colab.kernel.invokeFunction('convertToInteractive',\n",
              "                                                     [key], {});\n",
              "          if (!dataTable) return;\n",
              "\n",
              "          const docLinkHtml = 'Like what you see? Visit the ' +\n",
              "            '<a target=\"_blank\" href=https://colab.research.google.com/notebooks/data_table.ipynb>data table notebook</a>'\n",
              "            + ' to learn more about interactive tables.';\n",
              "          element.innerHTML = '';\n",
              "          dataTable['output_type'] = 'display_data';\n",
              "          await google.colab.output.renderOutput(dataTable, element);\n",
              "          const docLink = document.createElement('div');\n",
              "          docLink.innerHTML = docLinkHtml;\n",
              "          element.appendChild(docLink);\n",
              "        }\n",
              "      </script>\n",
              "    </div>\n",
              "  </div>\n",
              "  "
            ]
          },
          "metadata": {},
          "execution_count": 59
        }
      ]
    },
    {
      "cell_type": "markdown",
      "source": [
        "**Dự đoán 30 ngày cho ETH bằng ARIMA**"
      ],
      "metadata": {
        "id": "hF0JBksbR8Y1"
      }
    },
    {
      "cell_type": "code",
      "source": [
        "!pip install pmdarima"
      ],
      "metadata": {
        "colab": {
          "base_uri": "https://localhost:8080/"
        },
        "id": "bj_ek1nASFRd",
        "outputId": "e4fc4c6d-7ca1-46df-fe9f-ca66a0a45f67"
      },
      "execution_count": 60,
      "outputs": [
        {
          "output_type": "stream",
          "name": "stdout",
          "text": [
            "Looking in indexes: https://pypi.org/simple, https://us-python.pkg.dev/colab-wheels/public/simple/\n",
            "Requirement already satisfied: pmdarima in /usr/local/lib/python3.10/dist-packages (2.0.3)\n",
            "Requirement already satisfied: joblib>=0.11 in /usr/local/lib/python3.10/dist-packages (from pmdarima) (1.2.0)\n",
            "Requirement already satisfied: Cython!=0.29.18,!=0.29.31,>=0.29 in /usr/local/lib/python3.10/dist-packages (from pmdarima) (0.29.34)\n",
            "Requirement already satisfied: numpy>=1.21.2 in /usr/local/lib/python3.10/dist-packages (from pmdarima) (1.22.4)\n",
            "Requirement already satisfied: pandas>=0.19 in /usr/local/lib/python3.10/dist-packages (from pmdarima) (1.5.3)\n",
            "Requirement already satisfied: scikit-learn>=0.22 in /usr/local/lib/python3.10/dist-packages (from pmdarima) (1.2.2)\n",
            "Requirement already satisfied: scipy>=1.3.2 in /usr/local/lib/python3.10/dist-packages (from pmdarima) (1.10.1)\n",
            "Requirement already satisfied: statsmodels>=0.13.2 in /usr/local/lib/python3.10/dist-packages (from pmdarima) (0.13.5)\n",
            "Requirement already satisfied: urllib3 in /usr/local/lib/python3.10/dist-packages (from pmdarima) (1.26.15)\n",
            "Requirement already satisfied: setuptools!=50.0.0,>=38.6.0 in /usr/local/lib/python3.10/dist-packages (from pmdarima) (67.7.2)\n",
            "Requirement already satisfied: python-dateutil>=2.8.1 in /usr/local/lib/python3.10/dist-packages (from pandas>=0.19->pmdarima) (2.8.2)\n",
            "Requirement already satisfied: pytz>=2020.1 in /usr/local/lib/python3.10/dist-packages (from pandas>=0.19->pmdarima) (2022.7.1)\n",
            "Requirement already satisfied: threadpoolctl>=2.0.0 in /usr/local/lib/python3.10/dist-packages (from scikit-learn>=0.22->pmdarima) (3.1.0)\n",
            "Requirement already satisfied: patsy>=0.5.2 in /usr/local/lib/python3.10/dist-packages (from statsmodels>=0.13.2->pmdarima) (0.5.3)\n",
            "Requirement already satisfied: packaging>=21.3 in /usr/local/lib/python3.10/dist-packages (from statsmodels>=0.13.2->pmdarima) (23.1)\n",
            "Requirement already satisfied: six in /usr/local/lib/python3.10/dist-packages (from patsy>=0.5.2->statsmodels>=0.13.2->pmdarima) (1.16.0)\n"
          ]
        }
      ]
    },
    {
      "cell_type": "code",
      "source": [
        "eth_data = eth_data[['Date', 'Close-ETH']]\n",
        "eth_data = eth_data.dropna() # Drop missing values\n",
        "# eth_data = eth_data.reset_index(drop=True) # Reset the index\n",
        "eth_data['Date'] = pd.to_datetime(eth_data['Date'])\n",
        "eth_data.set_index('Date', inplace=True)\n",
        "\n",
        "# Split the data into training, testing, and validation sets\n",
        "train_size = int(0.7 * len(eth_data))\n",
        "test_size = int(0.2 * len(eth_data))\n",
        "val_size = len(eth_data) - train_size - test_size\n",
        "\n",
        "train_data = eth_data[:train_size]\n",
        "test_data = eth_data[train_size:train_size+test_size]\n",
        "val_data = eth_data[train_size+test_size:]\n",
        "print(eth_data)"
      ],
      "metadata": {
        "colab": {
          "base_uri": "https://localhost:8080/"
        },
        "id": "bxcisYgHSPV6",
        "outputId": "31b0322e-9c61-4144-bf56-e72c1e9807c5"
      },
      "execution_count": 61,
      "outputs": [
        {
          "output_type": "stream",
          "name": "stdout",
          "text": [
            "              Close-ETH\n",
            "Date                   \n",
            "2019-01-01   140.819412\n",
            "2019-01-02   155.047684\n",
            "2019-01-03   149.135010\n",
            "2019-01-04   154.581940\n",
            "2019-01-05   155.638596\n",
            "...                 ...\n",
            "2023-03-27  1715.460815\n",
            "2023-03-28  1772.785645\n",
            "2023-03-29  1793.001831\n",
            "2023-03-30  1792.737183\n",
            "2023-03-31  1822.022095\n",
            "\n",
            "[1551 rows x 1 columns]\n"
          ]
        }
      ]
    },
    {
      "cell_type": "code",
      "source": [
        "# 3. Quá trình Training\n",
        "x_train = np.array(train_data.index).reshape(-1, 1)\n",
        "y_train = np.array(train_data['Close-ETH'])\n",
        "\n",
        "# Find the best ARIMA model using auto_arima\n",
        "from pmdarima.arima import auto_arima\n",
        "model = auto_arima(y_train, trace=True, error_action='ignore', suppress_warnings=True)\n",
        "\n",
        "# Fit the model\n",
        "model.fit(y_train)"
      ],
      "metadata": {
        "colab": {
          "base_uri": "https://localhost:8080/",
          "height": 300
        },
        "id": "VKaScGhFSHyc",
        "outputId": "dab2e88e-2da3-4311-ca93-bd5699da262a"
      },
      "execution_count": 62,
      "outputs": [
        {
          "output_type": "stream",
          "name": "stdout",
          "text": [
            "Performing stepwise search to minimize aic\n",
            " ARIMA(2,1,2)(0,0,0)[0] intercept   : AIC=12740.118, Time=0.56 sec\n",
            " ARIMA(0,1,0)(0,0,0)[0] intercept   : AIC=12745.833, Time=0.05 sec\n",
            " ARIMA(1,1,0)(0,0,0)[0] intercept   : AIC=12734.071, Time=0.08 sec\n",
            " ARIMA(0,1,1)(0,0,0)[0] intercept   : AIC=12734.325, Time=0.11 sec\n",
            " ARIMA(0,1,0)(0,0,0)[0]             : AIC=12745.612, Time=0.03 sec\n",
            " ARIMA(2,1,0)(0,0,0)[0] intercept   : AIC=12736.071, Time=0.11 sec\n",
            " ARIMA(1,1,1)(0,0,0)[0] intercept   : AIC=12736.076, Time=0.13 sec\n",
            " ARIMA(2,1,1)(0,0,0)[0] intercept   : AIC=12738.085, Time=0.53 sec\n",
            " ARIMA(1,1,0)(0,0,0)[0]             : AIC=12734.293, Time=0.05 sec\n",
            "\n",
            "Best model:  ARIMA(1,1,0)(0,0,0)[0] intercept\n",
            "Total fit time: 1.663 seconds\n"
          ]
        },
        {
          "output_type": "execute_result",
          "data": {
            "text/plain": [
              "ARIMA(order=(1, 1, 0), scoring_args={}, suppress_warnings=True)"
            ],
            "text/html": [
              "<style>#sk-container-id-3 {color: black;background-color: white;}#sk-container-id-3 pre{padding: 0;}#sk-container-id-3 div.sk-toggleable {background-color: white;}#sk-container-id-3 label.sk-toggleable__label {cursor: pointer;display: block;width: 100%;margin-bottom: 0;padding: 0.3em;box-sizing: border-box;text-align: center;}#sk-container-id-3 label.sk-toggleable__label-arrow:before {content: \"▸\";float: left;margin-right: 0.25em;color: #696969;}#sk-container-id-3 label.sk-toggleable__label-arrow:hover:before {color: black;}#sk-container-id-3 div.sk-estimator:hover label.sk-toggleable__label-arrow:before {color: black;}#sk-container-id-3 div.sk-toggleable__content {max-height: 0;max-width: 0;overflow: hidden;text-align: left;background-color: #f0f8ff;}#sk-container-id-3 div.sk-toggleable__content pre {margin: 0.2em;color: black;border-radius: 0.25em;background-color: #f0f8ff;}#sk-container-id-3 input.sk-toggleable__control:checked~div.sk-toggleable__content {max-height: 200px;max-width: 100%;overflow: auto;}#sk-container-id-3 input.sk-toggleable__control:checked~label.sk-toggleable__label-arrow:before {content: \"▾\";}#sk-container-id-3 div.sk-estimator input.sk-toggleable__control:checked~label.sk-toggleable__label {background-color: #d4ebff;}#sk-container-id-3 div.sk-label input.sk-toggleable__control:checked~label.sk-toggleable__label {background-color: #d4ebff;}#sk-container-id-3 input.sk-hidden--visually {border: 0;clip: rect(1px 1px 1px 1px);clip: rect(1px, 1px, 1px, 1px);height: 1px;margin: -1px;overflow: hidden;padding: 0;position: absolute;width: 1px;}#sk-container-id-3 div.sk-estimator {font-family: monospace;background-color: #f0f8ff;border: 1px dotted black;border-radius: 0.25em;box-sizing: border-box;margin-bottom: 0.5em;}#sk-container-id-3 div.sk-estimator:hover {background-color: #d4ebff;}#sk-container-id-3 div.sk-parallel-item::after {content: \"\";width: 100%;border-bottom: 1px solid gray;flex-grow: 1;}#sk-container-id-3 div.sk-label:hover label.sk-toggleable__label {background-color: #d4ebff;}#sk-container-id-3 div.sk-serial::before {content: \"\";position: absolute;border-left: 1px solid gray;box-sizing: border-box;top: 0;bottom: 0;left: 50%;z-index: 0;}#sk-container-id-3 div.sk-serial {display: flex;flex-direction: column;align-items: center;background-color: white;padding-right: 0.2em;padding-left: 0.2em;position: relative;}#sk-container-id-3 div.sk-item {position: relative;z-index: 1;}#sk-container-id-3 div.sk-parallel {display: flex;align-items: stretch;justify-content: center;background-color: white;position: relative;}#sk-container-id-3 div.sk-item::before, #sk-container-id-3 div.sk-parallel-item::before {content: \"\";position: absolute;border-left: 1px solid gray;box-sizing: border-box;top: 0;bottom: 0;left: 50%;z-index: -1;}#sk-container-id-3 div.sk-parallel-item {display: flex;flex-direction: column;z-index: 1;position: relative;background-color: white;}#sk-container-id-3 div.sk-parallel-item:first-child::after {align-self: flex-end;width: 50%;}#sk-container-id-3 div.sk-parallel-item:last-child::after {align-self: flex-start;width: 50%;}#sk-container-id-3 div.sk-parallel-item:only-child::after {width: 0;}#sk-container-id-3 div.sk-dashed-wrapped {border: 1px dashed gray;margin: 0 0.4em 0.5em 0.4em;box-sizing: border-box;padding-bottom: 0.4em;background-color: white;}#sk-container-id-3 div.sk-label label {font-family: monospace;font-weight: bold;display: inline-block;line-height: 1.2em;}#sk-container-id-3 div.sk-label-container {text-align: center;}#sk-container-id-3 div.sk-container {/* jupyter's `normalize.less` sets `[hidden] { display: none; }` but bootstrap.min.css set `[hidden] { display: none !important; }` so we also need the `!important` here to be able to override the default hidden behavior on the sphinx rendered scikit-learn.org. See: https://github.com/scikit-learn/scikit-learn/issues/21755 */display: inline-block !important;position: relative;}#sk-container-id-3 div.sk-text-repr-fallback {display: none;}</style><div id=\"sk-container-id-3\" class=\"sk-top-container\"><div class=\"sk-text-repr-fallback\"><pre> ARIMA(1,1,0)(0,0,0)[0] intercept</pre><b>In a Jupyter environment, please rerun this cell to show the HTML representation or trust the notebook. <br />On GitHub, the HTML representation is unable to render, please try loading this page with nbviewer.org.</b></div><div class=\"sk-container\" hidden><div class=\"sk-item\"><div class=\"sk-estimator sk-toggleable\"><input class=\"sk-toggleable__control sk-hidden--visually\" id=\"sk-estimator-id-3\" type=\"checkbox\" checked><label for=\"sk-estimator-id-3\" class=\"sk-toggleable__label sk-toggleable__label-arrow\">ARIMA</label><div class=\"sk-toggleable__content\"><pre> ARIMA(1,1,0)(0,0,0)[0] intercept</pre></div></div></div></div></div>"
            ]
          },
          "metadata": {},
          "execution_count": 62
        }
      ]
    },
    {
      "cell_type": "code",
      "source": [
        "# 4. Quá trình testing \n",
        "x_test = np.array(test_data.index).reshape(-1, 1)\n",
        "y_test = np.array(test_data['Close-ETH'])\n",
        "y_pred = model.predict(n_periods=len(y_test))\n",
        "\n",
        "# 5. Quá trình Validate\n",
        "x_val= np.array(val_data.index).reshape(-1, 1)\n",
        "y_val = np.array(val_data['Close-ETH'])\n",
        "y_pred_val =  model.predict(n_periods=len(y_val))"
      ],
      "metadata": {
        "id": "lBh8whurS0ZB"
      },
      "execution_count": 63,
      "outputs": []
    },
    {
      "cell_type": "code",
      "source": [
        "import datetime\n",
        "# 6. Quá trình tạo index predict 30 ngày tiếp theo\n",
        "last_index =  eth_data.index[-1]\n",
        "print(last_index)\n",
        "next_30_days_index_eth = pd.date_range(start=last_index + datetime.timedelta(days=1), periods=30, freq='D')\n",
        "print(next_30_days_index_eth)\n",
        "# Create an array of 30 consecutive integers starting from last_index\n",
        "x_next_30_days_eth = np.array(next_30_days_index_eth).reshape(-1, 1)\n",
        "\n",
        "# Predict the closing prices for the next 30 days\n",
        "y_next_30_days_eth = model.predict(n_periods=len(x_next_30_days_eth)) \n",
        "\n",
        "# Print the predicted closing prices for the next 30 days\n",
        "print('Predicted closing prices for the next 30 days:')\n",
        "print(y_next_30_days_eth)"
      ],
      "metadata": {
        "colab": {
          "base_uri": "https://localhost:8080/"
        },
        "id": "bnERcRAHR7o4",
        "outputId": "b5f8d477-a391-4735-cdf5-3353149efa6a"
      },
      "execution_count": 64,
      "outputs": [
        {
          "output_type": "stream",
          "name": "stdout",
          "text": [
            "2023-03-31 00:00:00\n",
            "DatetimeIndex(['2023-04-01', '2023-04-02', '2023-04-03', '2023-04-04',\n",
            "               '2023-04-05', '2023-04-06', '2023-04-07', '2023-04-08',\n",
            "               '2023-04-09', '2023-04-10', '2023-04-11', '2023-04-12',\n",
            "               '2023-04-13', '2023-04-14', '2023-04-15', '2023-04-16',\n",
            "               '2023-04-17', '2023-04-18', '2023-04-19', '2023-04-20',\n",
            "               '2023-04-21', '2023-04-22', '2023-04-23', '2023-04-24',\n",
            "               '2023-04-25', '2023-04-26', '2023-04-27', '2023-04-28',\n",
            "               '2023-04-29', '2023-04-30'],\n",
            "              dtype='datetime64[ns]', freq='D')\n",
            "Predicted closing prices for the next 30 days:\n",
            "[3936.4627134  3940.05033432 3943.52911272 3947.02011189 3950.50973893\n",
            " 3953.99952002 3957.48928382 3960.97904956 3964.46881509 3967.95858063\n",
            " 3971.44834618 3974.93811172 3978.42787727 3981.91764281 3985.40740836\n",
            " 3988.8971739  3992.38693945 3995.87670499 3999.36647054 4002.85623608\n",
            " 4006.34600163 4009.83576717 4013.32553272 4016.81529826 4020.30506381\n",
            " 4023.79482935 4027.28459489 4030.77436044 4034.26412598 4037.75389153]\n"
          ]
        }
      ]
    },
    {
      "cell_type": "code",
      "source": [
        "# 8. Tính RMSE\n",
        "valid_rmse = np.sqrt(np.mean((y_pred_val - y_val)**2))\n",
        "test_rmse = np.sqrt(np.mean((y_pred - y_test)**2))\n",
        "valid_mape = np.mean(np.abs(y_pred_val - y_val)/np.abs(y_val))  # MAPE\n",
        "test_mape = np.mean(np.abs(y_pred - y_test)/np.abs(y_test))  # MAPE\n",
        "print('Validation RMSE:', valid_rmse)\n",
        "print('Testing RMSE:', test_rmse)\n",
        "print('Validation MAPE:', valid_mape)\n",
        "print('Testing MAPE:', test_mape)\n",
        "# 9.Vẽ hình\n",
        "plt.figure(figsize=(12,5), dpi=100)\n",
        "plt.ylabel('Close');\n",
        "plt.xlabel('Date');\n",
        "plt.title('ARIMA Train, Test, Predict')\n",
        "plt.plot(train_data.index, train_data['Close-ETH'])\n",
        "plt.plot(test_data.index, test_data['Close-ETH'])\n",
        "plt.plot(test_data.index, y_pred)\n",
        "plt.plot(val_data.index, y_pred_val)\n",
        "# plt.plot(last_data,y_next_30_days)\n",
        "plt.plot(next_30_days_index_eth,y_next_30_days_eth)\n",
        "\n",
        "plt.legend(['Train', 'Test', 'Predictions','Validate','Next30Day'])\n",
        "plt.show()"
      ],
      "metadata": {
        "colab": {
          "base_uri": "https://localhost:8080/",
          "height": 556
        },
        "id": "pdegy8xUTLIx",
        "outputId": "72d0c541-7721-4361-eaa2-01b3bb855885"
      },
      "execution_count": 65,
      "outputs": [
        {
          "output_type": "stream",
          "name": "stdout",
          "text": [
            "Validation RMSE: 2749.1414402514743\n",
            "Testing RMSE: 2526.7777766949\n",
            "Validation MAPE: 1.9272527054096444\n",
            "Testing MAPE: 1.4008010123681098\n"
          ]
        },
        {
          "output_type": "display_data",
          "data": {
            "text/plain": [
              "<Figure size 1200x500 with 1 Axes>"
            ],
            "image/png": "[encoded data removed]"
          },
          "metadata": {}
        }
      ]
    },
    {
      "cell_type": "markdown",
      "source": [
        "**SARIMAX**"
      ],
      "metadata": {
        "id": "VoQaM1Eb4rM4"
      }
    },
    {
      "cell_type": "markdown",
      "source": [
        "**<h3>Dự đoán ARIMAX 7-2-1</h3>**"
      ],
      "metadata": {
        "id": "N0wIsXKj3HnI"
      }
    },
    {
      "cell_type": "code",
      "source": [
        "\n",
        "# data = data.reset_index(drop=True) # Reset the index\n",
        "data['Date'] = pd.to_datetime(data['Date'])\n",
        "data.set_index('Date', inplace=True)\n",
        "data = data[['Close', 'Close-ETH']]\n",
        "data = data.dropna() # Drop missing values\n",
        "\n",
        "# Split the data into training, testing, and validation sets\n",
        "train_size = int(0.7 * len(data))\n",
        "test_size = int(0.2 * len(data))\n",
        "val_size = len(data) - train_size - test_size\n",
        "\n",
        "train_data = data[:train_size]\n",
        "test_data = data[train_size:train_size+test_size]\n",
        "val_data = data[train_size+test_size:]\n",
        "print(len(train_data))\n",
        "print(len(test_data))\n",
        "print(len(val_data))"
      ],
      "metadata": {
        "colab": {
          "base_uri": "https://localhost:8080/"
        },
        "id": "GO0MijOG3KkY",
        "outputId": "f2a77d49-5f1e-4054-c6e5-e31b99d5f0f8"
      },
      "execution_count": 66,
      "outputs": [
        {
          "output_type": "stream",
          "name": "stdout",
          "text": [
            "1085\n",
            "310\n",
            "156\n"
          ]
        }
      ]
    },
    {
      "cell_type": "code",
      "source": [
        "from pmdarima.arima import auto_arima\n",
        "train_exog = train_data[[\"Close-ETH\"]]\n",
        "model = auto_arima(train_data.Close, \n",
        "                   seasonal = True,\n",
        "                   m=12,\n",
        "                      test='adf',       # use adftest to find      \n",
        "                      trace=True,\n",
        "                      error_action='ignore',  \n",
        "                      suppress_warnings=True,  \n",
        "                      stepwise=True,\n",
        "                      exogenous= train_exog)\n",
        "print(model.summary())"
      ],
      "metadata": {
        "colab": {
          "base_uri": "https://localhost:8080/"
        },
        "id": "RYOVvXSkiEBa",
        "outputId": "7a9df5cf-0450-4932-b067-1a76220092dc"
      },
      "execution_count": 67,
      "outputs": [
        {
          "output_type": "stream",
          "name": "stdout",
          "text": [
            "Performing stepwise search to minimize aic\n",
            " ARIMA(2,1,2)(1,0,1)[12] intercept   : AIC=18317.265, Time=12.99 sec\n",
            " ARIMA(0,1,0)(0,0,0)[12] intercept   : AIC=18334.592, Time=0.11 sec\n",
            " ARIMA(1,1,0)(1,0,0)[12] intercept   : AIC=18328.984, Time=0.90 sec\n",
            " ARIMA(0,1,1)(0,0,1)[12] intercept   : AIC=18329.566, Time=0.97 sec\n",
            " ARIMA(0,1,0)(0,0,0)[12]             : AIC=18333.913, Time=0.07 sec\n",
            " ARIMA(2,1,2)(0,0,1)[12] intercept   : AIC=18331.519, Time=12.05 sec\n",
            " ARIMA(2,1,2)(1,0,0)[12] intercept   : AIC=inf, Time=13.62 sec\n",
            " ARIMA(2,1,2)(2,0,1)[12] intercept   : AIC=18319.241, Time=21.09 sec\n",
            " ARIMA(2,1,2)(1,0,2)[12] intercept   : AIC=inf, Time=21.05 sec\n",
            " ARIMA(2,1,2)(0,0,0)[12] intercept   : AIC=18326.915, Time=2.01 sec\n",
            " ARIMA(2,1,2)(0,0,2)[12] intercept   : AIC=18323.835, Time=13.48 sec\n",
            " ARIMA(2,1,2)(2,0,0)[12] intercept   : AIC=inf, Time=21.00 sec\n",
            " ARIMA(2,1,2)(2,0,2)[12] intercept   : AIC=inf, Time=23.22 sec\n",
            " ARIMA(1,1,2)(1,0,1)[12] intercept   : AIC=18328.973, Time=4.12 sec\n",
            " ARIMA(2,1,1)(1,0,1)[12] intercept   : AIC=18329.059, Time=3.58 sec\n",
            " ARIMA(3,1,2)(1,0,1)[12] intercept   : AIC=inf, Time=9.23 sec\n",
            " ARIMA(2,1,3)(1,0,1)[12] intercept   : AIC=inf, Time=7.84 sec\n",
            " ARIMA(1,1,1)(1,0,1)[12] intercept   : AIC=18327.900, Time=2.78 sec\n",
            " ARIMA(1,1,3)(1,0,1)[12] intercept   : AIC=18329.958, Time=4.90 sec\n",
            " ARIMA(3,1,1)(1,0,1)[12] intercept   : AIC=18330.108, Time=2.87 sec\n",
            " ARIMA(3,1,3)(1,0,1)[12] intercept   : AIC=inf, Time=9.66 sec\n",
            " ARIMA(2,1,2)(1,0,1)[12]             : AIC=18328.436, Time=2.39 sec\n",
            "\n",
            "Best model:  ARIMA(2,1,2)(1,0,1)[12] intercept\n",
            "Total fit time: 189.988 seconds\n",
            "                                      SARIMAX Results                                       \n",
            "============================================================================================\n",
            "Dep. Variable:                                    y   No. Observations:                 1085\n",
            "Model:             SARIMAX(2, 1, 2)x(1, 0, [1], 12)   Log Likelihood               -9150.633\n",
            "Date:                              Sun, 04 Jun 2023   AIC                          18317.265\n",
            "Time:                                      05:59:40   BIC                          18357.173\n",
            "Sample:                                  01-01-2019   HQIC                         18332.373\n",
            "                                       - 12-20-2021                                         \n",
            "Covariance Type:                                opg                                         \n",
            "==============================================================================\n",
            "                 coef    std err          z      P>|z|      [0.025      0.975]\n",
            "------------------------------------------------------------------------------\n",
            "intercept     39.6719     34.461      1.151      0.250     -27.871     107.214\n",
            "ar.L1          1.3471      0.018     74.308      0.000       1.312       1.383\n",
            "ar.L2         -0.9321      0.016    -56.963      0.000      -0.964      -0.900\n",
            "ma.L1         -1.3755      0.012   -113.074      0.000      -1.399      -1.352\n",
            "ma.L2          0.9785      0.010     95.914      0.000       0.959       0.999\n",
            "ar.S.L12      -0.6902      0.104     -6.634      0.000      -0.894      -0.486\n",
            "ma.S.L12       0.5855      0.114      5.136      0.000       0.362       0.809\n",
            "sigma2      1.297e+06   2.74e+04     47.373      0.000    1.24e+06    1.35e+06\n",
            "===================================================================================\n",
            "Ljung-Box (L1) (Q):                   0.20   Jarque-Bera (JB):              2640.13\n",
            "Prob(Q):                              0.66   Prob(JB):                         0.00\n",
            "Heteroskedasticity (H):              32.86   Skew:                            -0.18\n",
            "Prob(H) (two-sided):                  0.00   Kurtosis:                        10.64\n",
            "===================================================================================\n",
            "\n",
            "Warnings:\n",
            "[1] Covariance matrix calculated using the outer product of gradients (complex-step).\n"
          ]
        }
      ]
    },
    {
      "cell_type": "code",
      "source": [
        "from statsmodels.tsa.statespace.sarimax import SARIMAX\n",
        "model= SARIMAX(train_data.Close, \n",
        " exog=train_exog,\n",
        " order=(2, 1, 2),\n",
        "  seasonal_order=(1, 0, 1, 12),\n",
        " enforce_invertibility=False, enforce_stationarity=False)"
      ],
      "metadata": {
        "colab": {
          "base_uri": "https://localhost:8080/"
        },
        "id": "i73A1r-TCPnc",
        "outputId": "f542e9fc-8359-4a53-d550-b791dc3f5067"
      },
      "execution_count": 68,
      "outputs": [
        {
          "output_type": "stream",
          "name": "stderr",
          "text": [
            "/usr/local/lib/python3.10/dist-packages/statsmodels/tsa/base/tsa_model.py:471: ValueWarning: No frequency information was provided, so inferred frequency D will be used.\n",
            "  self._init_dates(dates, freq)\n",
            "/usr/local/lib/python3.10/dist-packages/statsmodels/tsa/base/tsa_model.py:471: ValueWarning: No frequency information was provided, so inferred frequency D will be used.\n",
            "  self._init_dates(dates, freq)\n"
          ]
        }
      ]
    },
    {
      "cell_type": "code",
      "source": [
        "# 4. Quá trình testing \n",
        "x_test = np.array(test_data.index).reshape(-1, 1)\n",
        "y_test = np.array(test_data['Close'])\n",
        "test_exog = test_data[['Close-ETH']]\n",
        "model_fit = model.fit()\n",
        "# y_pred = model.predict(n_periods=len(y_test))\n",
        "y_pred = model_fit.forecast(steps=len(y_test), exog=test_exog)\n",
        "print(y_pred)\n",
        "\n",
        "# 5. Quá trình Validate\n",
        "x_val= np.array(val_data.index).reshape(-1, 1)\n",
        "y_val = np.array(val_data['Close'])\n",
        "val_exog = val_data[['Close-ETH']]\n",
        "print(val_exog)\n",
        "y_pred_val =  model_fit.forecast(steps=len(y_val), exog=val_exog)\n",
        "print(y_pred_val)"
      ],
      "metadata": {
        "colab": {
          "base_uri": "https://localhost:8080/"
        },
        "id": "cjSOYgRelzsk",
        "outputId": "e26e52f0-93de-443c-9b15-82e475ef0cee"
      },
      "execution_count": 69,
      "outputs": [
        {
          "output_type": "stream",
          "name": "stdout",
          "text": [
            "2021-12-21    47666.783779\n",
            "2021-12-22    47228.136227\n",
            "2021-12-23    48403.763364\n",
            "2021-12-24    47795.038372\n",
            "2021-12-25    48200.121567\n",
            "                  ...     \n",
            "2022-10-22    21078.875765\n",
            "2022-10-23    21553.316456\n",
            "2022-10-24    21375.226946\n",
            "2022-10-25    22501.451925\n",
            "2022-10-26    23514.099324\n",
            "Freq: D, Name: predicted_mean, Length: 310, dtype: float64\n",
            "              Close-ETH\n",
            "Date                   \n",
            "2022-10-27  1514.374878\n",
            "2022-10-28  1555.477905\n",
            "2022-10-29  1619.698486\n",
            "2022-10-30  1590.783325\n",
            "2022-10-31  1572.714478\n",
            "...                 ...\n",
            "2023-03-27  1715.460815\n",
            "2023-03-28  1772.785645\n",
            "2023-03-29  1793.001831\n",
            "2023-03-30  1792.737183\n",
            "2023-03-31  1822.022095\n",
            "\n",
            "[156 rows x 1 columns]\n",
            "2021-12-21    23476.622250\n",
            "2021-12-22    23803.131529\n",
            "2021-12-23    24383.191647\n",
            "2021-12-24    24074.854988\n",
            "2021-12-25    23868.235529\n",
            "                  ...     \n",
            "2022-05-21    24951.426476\n",
            "2022-05-22    25504.802466\n",
            "2022-05-23    25699.956101\n",
            "2022-05-24    25697.401286\n",
            "2022-05-25    25980.098430\n",
            "Freq: D, Name: predicted_mean, Length: 156, dtype: float64\n"
          ]
        }
      ]
    },
    {
      "cell_type": "code",
      "source": [
        "import datetime\n",
        "# 6. Quá trình tạo index predict 30 ngày tiếp theo\n",
        "last_index =  data.index[-1]\n",
        "print(last_index)\n",
        "# last_data = pd.RangeIndex(start=last_index, stop=last_index+30, step=1)\n",
        "next_30_days_index = pd.date_range(start=last_index + datetime.timedelta(days=1), periods=30, freq='D')\n",
        "print(next_30_days_index)\n",
        "# Create an array of 30 consecutive integers starting from last_index\n",
        "# x_next_30_days = np.array(range(last_index+1, last_index+31)).reshape(-1, 1)\n",
        "x_next_30_days = np.array(next_30_days_index).reshape(-1, 1)\n",
        "\n",
        "\n",
        "\n",
        "# Predict the closing prices for the next 30 days\n",
        "y_next_30_days = model_fit.forecast(steps=len(x_next_30_days), exog = y_next_30_days_eth) \n",
        "\n",
        "# Print the predicted closing prices for the next 30 days\n",
        "print('Predicted closing prices for the next 30 days:')\n",
        "print(y_next_30_days)"
      ],
      "metadata": {
        "colab": {
          "base_uri": "https://localhost:8080/"
        },
        "id": "p2WNLBfBngms",
        "outputId": "c3d6db7e-a730-4a67-ae4c-75afa2c9cdf2"
      },
      "execution_count": 70,
      "outputs": [
        {
          "output_type": "stream",
          "name": "stdout",
          "text": [
            "2023-03-31 00:00:00\n",
            "DatetimeIndex(['2023-04-01', '2023-04-02', '2023-04-03', '2023-04-04',\n",
            "               '2023-04-05', '2023-04-06', '2023-04-07', '2023-04-08',\n",
            "               '2023-04-09', '2023-04-10', '2023-04-11', '2023-04-12',\n",
            "               '2023-04-13', '2023-04-14', '2023-04-15', '2023-04-16',\n",
            "               '2023-04-17', '2023-04-18', '2023-04-19', '2023-04-20',\n",
            "               '2023-04-21', '2023-04-22', '2023-04-23', '2023-04-24',\n",
            "               '2023-04-25', '2023-04-26', '2023-04-27', '2023-04-28',\n",
            "               '2023-04-29', '2023-04-30'],\n",
            "              dtype='datetime64[ns]', freq='D')\n",
            "Predicted closing prices for the next 30 days:\n",
            "2021-12-21    46857.859972\n",
            "2021-12-22    46822.220276\n",
            "2021-12-23    46815.919113\n",
            "2021-12-24    46820.410140\n",
            "2021-12-25    46821.901964\n",
            "2021-12-26    46821.886064\n",
            "2021-12-27    46835.522952\n",
            "2021-12-28    46869.334618\n",
            "2021-12-29    46895.290479\n",
            "2021-12-30    46912.407129\n",
            "2021-12-31    46921.233750\n",
            "2022-01-01    46942.332231\n",
            "2022-01-02    46960.028415\n",
            "2022-01-03    46974.536518\n",
            "2022-01-04    46994.900190\n",
            "2022-01-05    47017.962783\n",
            "2022-01-06    47040.732208\n",
            "2022-01-07    47063.730459\n",
            "2022-01-08    47089.562058\n",
            "2022-01-09    47119.555019\n",
            "2022-01-10    47148.345233\n",
            "2022-01-11    47175.792193\n",
            "2022-01-12    47201.927637\n",
            "2022-01-13    47230.607677\n",
            "2022-01-14    47258.859437\n",
            "2022-01-15    47286.721785\n",
            "2022-01-16    47315.857223\n",
            "2022-01-17    47345.668894\n",
            "2022-01-18    47375.577997\n",
            "2022-01-19    47405.673504\n",
            "Freq: D, Name: predicted_mean, dtype: float64\n"
          ]
        }
      ]
    },
    {
      "cell_type": "code",
      "source": [
        "# 8. Tính RMSE\n",
        "valid_rmse = np.sqrt(np.mean((y_pred_val - y_val)**2))\n",
        "test_rmse = np.sqrt(np.mean((y_pred - y_test)**2))\n",
        "valid_mape = np.mean(np.abs(y_pred_val - y_val)/np.abs(y_val))  # MAPE\n",
        "test_mape = np.mean(np.abs(y_pred - y_test)/np.abs(y_test))  # MAPE\n",
        "print('Validation RMSE:', valid_rmse)\n",
        "print('Testing RMSE:', test_rmse)\n",
        "print('Validation MAPE:', valid_mape)\n",
        "print('Testing MAPE:', test_mape)\n",
        "\n",
        "\n",
        "\n",
        "# 9.Vẽ hình\n",
        "plt.figure(figsize=(12,5), dpi=100)\n",
        "plt.ylabel('Close');\n",
        "plt.xlabel('Date');\n",
        "plt.title('SARIMAX Train, Test, Predict')\n",
        "plt.plot(train_data.index, train_data['Close'])\n",
        "plt.plot(test_data.index, test_data['Close'])\n",
        "plt.plot(test_data.index, y_pred)\n",
        "plt.plot(val_data.index, y_pred_val)\n",
        "# plt.plot(last_data,y_next_30_days)\n",
        "plt.plot(next_30_days_index,y_next_30_days)\n",
        "\n",
        "plt.legend(['Train', 'Test', 'Predictions','Validate','Next30Day'])\n",
        "plt.show()"
      ],
      "metadata": {
        "colab": {
          "base_uri": "https://localhost:8080/",
          "height": 556
        },
        "id": "CXpz3-oGrqpV",
        "outputId": "50c3bc25-8d29-4a8b-e2b6-ce194154686e"
      },
      "execution_count": 71,
      "outputs": [
        {
          "output_type": "stream",
          "name": "stdout",
          "text": [
            "Validation RMSE: 2659.9271741563284\n",
            "Testing RMSE: 3351.3736206179988\n",
            "Validation MAPE: 0.1264265092729444\n",
            "Testing MAPE: 0.09465633963354221\n"
          ]
        },
        {
          "output_type": "display_data",
          "data": {
            "text/plain": [
              "<Figure size 1200x500 with 1 Axes>"
            ],
            "image/png": "[encoded data removed]"
          },
          "metadata": {}
        }
      ]
    },
    {
      "cell_type": "code",
      "source": [],
      "metadata": {
        "id": "aWiX7JFW5-wO"
      },
      "execution_count": 71,
      "outputs": []
    }
  ]
}