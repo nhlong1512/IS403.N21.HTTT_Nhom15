{
  "cells": [
    {
      "cell_type": "code",
      "source": [
        "# 1. Import thư viện\n",
        "import numpy as np\n",
        "import pandas as pd\n",
        "import matplotlib.pyplot as plt\n",
        "from sklearn.preprocessing import MinMaxScaler\n",
        "from keras.models import Sequential\n",
        "from keras.layers import Dense, GRU"
      ],
      "metadata": {
        "id": "FMDKda-XIUAK"
      },
      "execution_count": 1,
      "outputs": []
    },
    {
      "cell_type": "code",
      "source": [
        "# 2. Đọc file csv và gán index với giá Close\n",
        "df = pd.read_csv(\"BTC-USD.csv\")\n",
        "df1=df.reset_index()['Close']"
      ],
      "metadata": {
        "id": "aRm9GQ8KJJ5N"
      },
      "execution_count": 3,
      "outputs": []
    },
    {
      "cell_type": "code",
      "source": [
        "# 3. Scaler data\n",
        "scaler=MinMaxScaler(feature_range=(0,1))\n",
        "df1=scaler.fit_transform(np.array(df1).reshape(-1,1))"
      ],
      "metadata": {
        "id": "RdVpDho2JgL5"
      },
      "execution_count": 4,
      "outputs": []
    },
    {
      "cell_type": "code",
      "source": [
        "# 4. Chia train test\n",
        "train_size = int(0.7 * len(df1))\n",
        "test_size = int(0.2 * len(df1))\n",
        "val_size = len(df1) - train_size - test_size\n",
        "\n",
        "train_data = df1[:train_size]\n",
        "test_data = df1[train_size:train_size+test_size]\n",
        "val_data = df1[train_size+test_size:]"
      ],
      "metadata": {
        "id": "B5JXpenzJoR3"
      },
      "execution_count": 5,
      "outputs": []
    },
    {
      "cell_type": "code",
      "source": [
        "# 5. Hàm Create Dataset\n",
        "import numpy\n",
        "# convert an array of values into a dataset matrix\n",
        "def create_dataset(dataset, time_step=1):\n",
        "\tdataX, dataY = [], []\n",
        "\tfor i in range(len(dataset)-time_step-1):\n",
        "\t\ta = dataset[i:(i+time_step), 0]   ###i=0, X=0,1,2,3-----99   Y=100 \n",
        "\t\tdataX.append(a)\n",
        "\t\tdataY.append(dataset[i + time_step, 0])\n",
        "\treturn numpy.array(dataX), numpy.array(dataY)"
      ],
      "metadata": {
        "id": "yJfmuBORLSfC"
      },
      "execution_count": 6,
      "outputs": []
    },
    {
      "cell_type": "code",
      "source": [
        "#6. Reshape into X=t,t+1,t+2..t+99 and Y=t+100\n",
        "\n",
        "time_step = 100\n",
        "X_train, y_train = create_dataset(train_data, time_step)\n",
        "X_val, yval = create_dataset(val_data, time_step)\n",
        "X_test, ytest = create_dataset(test_data, time_step)"
      ],
      "metadata": {
        "id": "e81cKq03LXFB"
      },
      "execution_count": 7,
      "outputs": []
    },
    {
      "cell_type": "code",
      "source": [
        "# 7. Reshape input to be [samples, time steps, features] which is required for LSTM\n",
        "X_train =X_train.reshape(X_train.shape[0],X_train.shape[1] , 1)\n",
        "X_test = X_test.reshape(X_test.shape[0],X_test.shape[1] , 1)\n",
        "X_val = X_val.reshape(X_val.shape[0],X_val.shape[1] , 1)"
      ],
      "metadata": {
        "id": "RdBVfku7O2qb"
      },
      "execution_count": 8,
      "outputs": []
    },
    {
      "cell_type": "code",
      "source": [
        "# 8. Define GRU Model\n",
        "\n",
        "model = Sequential()\n",
        "model.add(GRU(64, input_shape=(time_step, 1)))\n",
        "model.add(Dense(1))\n",
        "model.compile(optimizer='adam', loss='mean_squared_error')"
      ],
      "metadata": {
        "id": "sSfxrE7BO9vX"
      },
      "execution_count": 9,
      "outputs": []
    },
    {
      "cell_type": "code",
      "source": [
        "# 9. Fit mô hình với dữ liệu train\n",
        "model.fit(X_train,y_train,validation_data=(X_test,ytest),epochs=100,batch_size=64,verbose=1)"
      ],
      "metadata": {
        "colab": {
          "base_uri": "https://localhost:8080/"
        },
        "id": "zgfeujZSPEKr",
        "outputId": "90ca42a2-7acf-45c4-9626-da14f2018c8c"
      },
      "execution_count": 10,
      "outputs": [
        {
          "output_type": "stream",
          "name": "stdout",
          "text": [
            "Epoch 1/100\n",
            "16/16 [==============================] - 5s 126ms/step - loss: 0.0674 - val_loss: 0.0139\n",
            "Epoch 2/100\n",
            "16/16 [==============================] - 1s 75ms/step - loss: 0.0127 - val_loss: 0.0011\n",
            "Epoch 3/100\n",
            "16/16 [==============================] - 1s 75ms/step - loss: 0.0026 - val_loss: 0.0012\n",
            "Epoch 4/100\n",
            "16/16 [==============================] - 2s 114ms/step - loss: 0.0011 - val_loss: 5.0257e-04\n",
            "Epoch 5/100\n",
            "16/16 [==============================] - 2s 106ms/step - loss: 8.6305e-04 - val_loss: 4.3381e-04\n",
            "Epoch 6/100\n",
            "16/16 [==============================] - 1s 68ms/step - loss: 8.0166e-04 - val_loss: 4.3672e-04\n",
            "Epoch 7/100\n",
            "16/16 [==============================] - 1s 72ms/step - loss: 7.5549e-04 - val_loss: 4.9256e-04\n",
            "Epoch 8/100\n",
            "16/16 [==============================] - 1s 75ms/step - loss: 7.4893e-04 - val_loss: 5.6735e-04\n",
            "Epoch 9/100\n",
            "16/16 [==============================] - 1s 71ms/step - loss: 7.0876e-04 - val_loss: 4.0457e-04\n",
            "Epoch 10/100\n",
            "16/16 [==============================] - 1s 75ms/step - loss: 6.9053e-04 - val_loss: 4.0791e-04\n",
            "Epoch 11/100\n",
            "16/16 [==============================] - 1s 76ms/step - loss: 6.7321e-04 - val_loss: 4.6707e-04\n",
            "Epoch 12/100\n",
            "16/16 [==============================] - 1s 77ms/step - loss: 6.5276e-04 - val_loss: 4.0582e-04\n",
            "Epoch 13/100\n",
            "16/16 [==============================] - 1s 77ms/step - loss: 6.4759e-04 - val_loss: 3.9498e-04\n",
            "Epoch 14/100\n",
            "16/16 [==============================] - 2s 104ms/step - loss: 6.3178e-04 - val_loss: 4.0377e-04\n",
            "Epoch 15/100\n",
            "16/16 [==============================] - 2s 117ms/step - loss: 6.1483e-04 - val_loss: 4.3050e-04\n",
            "Epoch 16/100\n",
            "16/16 [==============================] - 1s 78ms/step - loss: 5.9846e-04 - val_loss: 4.4898e-04\n",
            "Epoch 17/100\n",
            "16/16 [==============================] - 1s 74ms/step - loss: 6.0416e-04 - val_loss: 3.8432e-04\n",
            "Epoch 18/100\n",
            "16/16 [==============================] - 1s 74ms/step - loss: 5.7206e-04 - val_loss: 3.9582e-04\n",
            "Epoch 19/100\n",
            "16/16 [==============================] - 1s 69ms/step - loss: 5.6224e-04 - val_loss: 3.9379e-04\n",
            "Epoch 20/100\n",
            "16/16 [==============================] - 1s 69ms/step - loss: 5.5681e-04 - val_loss: 4.0025e-04\n",
            "Epoch 21/100\n",
            "16/16 [==============================] - 1s 74ms/step - loss: 5.6786e-04 - val_loss: 3.3149e-04\n",
            "Epoch 22/100\n",
            "16/16 [==============================] - 1s 69ms/step - loss: 5.6335e-04 - val_loss: 3.5636e-04\n",
            "Epoch 23/100\n",
            "16/16 [==============================] - 1s 69ms/step - loss: 5.4622e-04 - val_loss: 3.1640e-04\n",
            "Epoch 24/100\n",
            "16/16 [==============================] - 1s 84ms/step - loss: 5.4256e-04 - val_loss: 3.5674e-04\n",
            "Epoch 25/100\n",
            "16/16 [==============================] - 2s 120ms/step - loss: 5.1479e-04 - val_loss: 4.1083e-04\n",
            "Epoch 26/100\n",
            "16/16 [==============================] - 1s 89ms/step - loss: 5.1865e-04 - val_loss: 3.6419e-04\n",
            "Epoch 27/100\n",
            "16/16 [==============================] - 1s 70ms/step - loss: 5.0784e-04 - val_loss: 4.6250e-04\n",
            "Epoch 28/100\n",
            "16/16 [==============================] - 1s 75ms/step - loss: 5.1798e-04 - val_loss: 3.8892e-04\n",
            "Epoch 29/100\n",
            "16/16 [==============================] - 1s 70ms/step - loss: 5.2906e-04 - val_loss: 4.1738e-04\n",
            "Epoch 30/100\n",
            "16/16 [==============================] - 1s 71ms/step - loss: 4.8796e-04 - val_loss: 3.2456e-04\n",
            "Epoch 31/100\n",
            "16/16 [==============================] - 1s 69ms/step - loss: 4.8399e-04 - val_loss: 4.1736e-04\n",
            "Epoch 32/100\n",
            "16/16 [==============================] - 1s 75ms/step - loss: 4.9010e-04 - val_loss: 4.4202e-04\n",
            "Epoch 33/100\n",
            "16/16 [==============================] - 1s 75ms/step - loss: 4.8315e-04 - val_loss: 3.3141e-04\n",
            "Epoch 34/100\n",
            "16/16 [==============================] - 1s 74ms/step - loss: 4.8522e-04 - val_loss: 2.9422e-04\n",
            "Epoch 35/100\n",
            "16/16 [==============================] - 2s 118ms/step - loss: 5.3552e-04 - val_loss: 2.8315e-04\n",
            "Epoch 36/100\n",
            "16/16 [==============================] - 2s 104ms/step - loss: 5.1224e-04 - val_loss: 2.8904e-04\n",
            "Epoch 37/100\n",
            "16/16 [==============================] - 1s 76ms/step - loss: 4.6822e-04 - val_loss: 3.0789e-04\n",
            "Epoch 38/100\n",
            "16/16 [==============================] - 1s 70ms/step - loss: 4.6684e-04 - val_loss: 4.4133e-04\n",
            "Epoch 39/100\n",
            "16/16 [==============================] - 1s 75ms/step - loss: 4.6150e-04 - val_loss: 3.2839e-04\n",
            "Epoch 40/100\n",
            "16/16 [==============================] - 1s 72ms/step - loss: 4.5624e-04 - val_loss: 3.0523e-04\n",
            "Epoch 41/100\n",
            "16/16 [==============================] - 2s 114ms/step - loss: 4.6320e-04 - val_loss: 3.5020e-04\n",
            "Epoch 42/100\n",
            "16/16 [==============================] - 1s 70ms/step - loss: 4.4578e-04 - val_loss: 3.0201e-04\n",
            "Epoch 43/100\n",
            "16/16 [==============================] - 1s 72ms/step - loss: 4.4760e-04 - val_loss: 3.3130e-04\n",
            "Epoch 44/100\n",
            "16/16 [==============================] - 1s 82ms/step - loss: 4.4868e-04 - val_loss: 3.6292e-04\n",
            "Epoch 45/100\n",
            "16/16 [==============================] - 2s 112ms/step - loss: 4.4116e-04 - val_loss: 4.0997e-04\n",
            "Epoch 46/100\n",
            "16/16 [==============================] - 2s 99ms/step - loss: 4.4398e-04 - val_loss: 3.6848e-04\n",
            "Epoch 47/100\n",
            "16/16 [==============================] - 1s 78ms/step - loss: 4.3790e-04 - val_loss: 3.9964e-04\n",
            "Epoch 48/100\n",
            "16/16 [==============================] - 2s 150ms/step - loss: 4.3755e-04 - val_loss: 3.8584e-04\n",
            "Epoch 49/100\n",
            "16/16 [==============================] - 2s 105ms/step - loss: 4.3873e-04 - val_loss: 3.4543e-04\n",
            "Epoch 50/100\n",
            "16/16 [==============================] - 1s 71ms/step - loss: 4.4258e-04 - val_loss: 3.7067e-04\n",
            "Epoch 51/100\n",
            "16/16 [==============================] - 1s 69ms/step - loss: 4.3236e-04 - val_loss: 4.6748e-04\n",
            "Epoch 52/100\n",
            "16/16 [==============================] - 1s 76ms/step - loss: 4.3531e-04 - val_loss: 3.2660e-04\n",
            "Epoch 53/100\n",
            "16/16 [==============================] - 4s 277ms/step - loss: 4.2450e-04 - val_loss: 2.8405e-04\n",
            "Epoch 54/100\n",
            "16/16 [==============================] - 2s 118ms/step - loss: 4.3478e-04 - val_loss: 3.5088e-04\n",
            "Epoch 55/100\n",
            "16/16 [==============================] - 1s 76ms/step - loss: 4.2493e-04 - val_loss: 3.2411e-04\n",
            "Epoch 56/100\n",
            "16/16 [==============================] - 1s 71ms/step - loss: 4.1788e-04 - val_loss: 4.1772e-04\n",
            "Epoch 57/100\n",
            "16/16 [==============================] - 1s 74ms/step - loss: 4.2400e-04 - val_loss: 3.7548e-04\n",
            "Epoch 58/100\n",
            "16/16 [==============================] - 1s 69ms/step - loss: 4.3638e-04 - val_loss: 4.1736e-04\n",
            "Epoch 59/100\n",
            "16/16 [==============================] - 1s 76ms/step - loss: 4.5333e-04 - val_loss: 2.8823e-04\n",
            "Epoch 60/100\n",
            "16/16 [==============================] - 1s 74ms/step - loss: 4.3523e-04 - val_loss: 3.8399e-04\n",
            "Epoch 61/100\n",
            "16/16 [==============================] - 1s 88ms/step - loss: 4.1654e-04 - val_loss: 3.6785e-04\n",
            "Epoch 62/100\n",
            "16/16 [==============================] - 2s 119ms/step - loss: 4.2074e-04 - val_loss: 4.9071e-04\n",
            "Epoch 63/100\n",
            "16/16 [==============================] - 1s 85ms/step - loss: 4.3962e-04 - val_loss: 3.7166e-04\n",
            "Epoch 64/100\n",
            "16/16 [==============================] - 1s 70ms/step - loss: 4.2774e-04 - val_loss: 2.9899e-04\n",
            "Epoch 65/100\n",
            "16/16 [==============================] - 1s 69ms/step - loss: 4.0583e-04 - val_loss: 2.8780e-04\n",
            "Epoch 66/100\n",
            "16/16 [==============================] - 2s 118ms/step - loss: 4.1431e-04 - val_loss: 3.1893e-04\n",
            "Epoch 67/100\n",
            "16/16 [==============================] - 2s 126ms/step - loss: 4.2300e-04 - val_loss: 3.4218e-04\n",
            "Epoch 68/100\n",
            "16/16 [==============================] - 1s 72ms/step - loss: 4.2873e-04 - val_loss: 3.2341e-04\n",
            "Epoch 69/100\n",
            "16/16 [==============================] - 1s 70ms/step - loss: 4.2123e-04 - val_loss: 4.1867e-04\n",
            "Epoch 70/100\n",
            "16/16 [==============================] - 2s 157ms/step - loss: 4.1563e-04 - val_loss: 2.8446e-04\n",
            "Epoch 71/100\n",
            "16/16 [==============================] - 2s 131ms/step - loss: 3.9924e-04 - val_loss: 3.8349e-04\n",
            "Epoch 72/100\n",
            "16/16 [==============================] - 1s 69ms/step - loss: 4.2594e-04 - val_loss: 5.7095e-04\n",
            "Epoch 73/100\n",
            "16/16 [==============================] - 1s 70ms/step - loss: 4.3821e-04 - val_loss: 3.5858e-04\n",
            "Epoch 74/100\n",
            "16/16 [==============================] - 1s 69ms/step - loss: 4.0404e-04 - val_loss: 3.0290e-04\n",
            "Epoch 75/100\n",
            "16/16 [==============================] - 1s 70ms/step - loss: 3.9762e-04 - val_loss: 3.3771e-04\n",
            "Epoch 76/100\n",
            "16/16 [==============================] - 1s 70ms/step - loss: 4.0511e-04 - val_loss: 5.1797e-04\n",
            "Epoch 77/100\n",
            "16/16 [==============================] - 1s 71ms/step - loss: 4.0697e-04 - val_loss: 3.7038e-04\n",
            "Epoch 78/100\n",
            "16/16 [==============================] - 1s 71ms/step - loss: 3.9206e-04 - val_loss: 3.0733e-04\n",
            "Epoch 79/100\n",
            "16/16 [==============================] - 1s 72ms/step - loss: 3.9423e-04 - val_loss: 3.6845e-04\n",
            "Epoch 80/100\n",
            "16/16 [==============================] - 1s 93ms/step - loss: 3.9992e-04 - val_loss: 2.7031e-04\n",
            "Epoch 81/100\n",
            "16/16 [==============================] - 2s 119ms/step - loss: 4.0507e-04 - val_loss: 2.8805e-04\n",
            "Epoch 82/100\n",
            "16/16 [==============================] - 1s 79ms/step - loss: 3.9583e-04 - val_loss: 2.6988e-04\n",
            "Epoch 83/100\n",
            "16/16 [==============================] - 1s 69ms/step - loss: 3.9170e-04 - val_loss: 3.3242e-04\n",
            "Epoch 84/100\n",
            "16/16 [==============================] - 1s 69ms/step - loss: 3.9099e-04 - val_loss: 2.4195e-04\n",
            "Epoch 85/100\n",
            "16/16 [==============================] - 1s 75ms/step - loss: 3.9712e-04 - val_loss: 3.3632e-04\n",
            "Epoch 86/100\n",
            "16/16 [==============================] - 1s 70ms/step - loss: 3.8906e-04 - val_loss: 3.2472e-04\n",
            "Epoch 87/100\n",
            "16/16 [==============================] - 1s 69ms/step - loss: 3.8752e-04 - val_loss: 2.3470e-04\n",
            "Epoch 88/100\n",
            "16/16 [==============================] - 1s 77ms/step - loss: 3.9455e-04 - val_loss: 3.0503e-04\n",
            "Epoch 89/100\n",
            "16/16 [==============================] - 1s 74ms/step - loss: 4.2781e-04 - val_loss: 3.2954e-04\n",
            "Epoch 90/100\n",
            "16/16 [==============================] - 1s 73ms/step - loss: 4.0502e-04 - val_loss: 4.5750e-04\n",
            "Epoch 91/100\n",
            "16/16 [==============================] - 2s 117ms/step - loss: 4.1718e-04 - val_loss: 2.2550e-04\n",
            "Epoch 92/100\n",
            "16/16 [==============================] - 2s 106ms/step - loss: 4.1556e-04 - val_loss: 2.6790e-04\n",
            "Epoch 93/100\n",
            "16/16 [==============================] - 1s 74ms/step - loss: 3.8808e-04 - val_loss: 4.1418e-04\n",
            "Epoch 94/100\n",
            "16/16 [==============================] - 1s 71ms/step - loss: 4.0035e-04 - val_loss: 2.7893e-04\n",
            "Epoch 95/100\n",
            "16/16 [==============================] - 1s 71ms/step - loss: 3.9786e-04 - val_loss: 2.4883e-04\n",
            "Epoch 96/100\n",
            "16/16 [==============================] - 1s 78ms/step - loss: 3.8771e-04 - val_loss: 3.2100e-04\n",
            "Epoch 97/100\n",
            "16/16 [==============================] - 1s 72ms/step - loss: 3.8351e-04 - val_loss: 3.0088e-04\n",
            "Epoch 98/100\n",
            "16/16 [==============================] - 1s 78ms/step - loss: 3.9133e-04 - val_loss: 2.9132e-04\n",
            "Epoch 99/100\n",
            "16/16 [==============================] - 1s 70ms/step - loss: 3.8660e-04 - val_loss: 2.8382e-04\n",
            "Epoch 100/100\n",
            "16/16 [==============================] - 1s 72ms/step - loss: 3.8082e-04 - val_loss: 3.2182e-04\n"
          ]
        },
        {
          "output_type": "execute_result",
          "data": {
            "text/plain": [
              "<keras.callbacks.History at 0x7f0a5de1ddb0>"
            ]
          },
          "metadata": {},
          "execution_count": 10
        }
      ]
    },
    {
      "cell_type": "code",
      "source": [
        "# 10. Dự báo dữ liệu test, val\n",
        "train_predict=model.predict(X_train)\n",
        "y_pred=model.predict(X_test)\n",
        "y_pred_val=model.predict(X_val)"
      ],
      "metadata": {
        "colab": {
          "base_uri": "https://localhost:8080/"
        },
        "id": "Rxx_KQSkQpBG",
        "outputId": "2f50683b-08ae-4718-f04f-437f05db6d62"
      },
      "execution_count": 11,
      "outputs": [
        {
          "output_type": "stream",
          "name": "stdout",
          "text": [
            "31/31 [==============================] - 1s 14ms/step\n",
            "7/7 [==============================] - 0s 15ms/step\n",
            "2/2 [==============================] - 0s 17ms/step\n"
          ]
        }
      ]
    },
    {
      "cell_type": "code",
      "source": [
        "# 11. Chuẩn hóa dữ liệu y_pred, y_pred_val\n",
        "train_predict=scaler.inverse_transform(train_predict)\n",
        "y_pred=scaler.inverse_transform(y_pred)\n",
        "y_pred_val=scaler.inverse_transform(y_pred_val)"
      ],
      "metadata": {
        "id": "5rwTN10LQ7rj"
      },
      "execution_count": 12,
      "outputs": []
    },
    {
      "cell_type": "code",
      "source": [
        "# 12. Đánh giá độ chính xác thuật toán bằng RMSE\n",
        "valid_rmse = np.sqrt(np.mean((y_pred_val - yval)**2))\n",
        "test_rmse = np.sqrt(np.mean((y_pred - ytest)**2))\n",
        "print('Validation RMSE:', valid_rmse)\n",
        "print('Testing RMSE:', test_rmse)"
      ],
      "metadata": {
        "colab": {
          "base_uri": "https://localhost:8080/"
        },
        "id": "wu_9j94kRonD",
        "outputId": "58f4e687-f87c-44d6-d037-d1eae5bad9fb"
      },
      "execution_count": 13,
      "outputs": [
        {
          "output_type": "stream",
          "name": "stdout",
          "text": [
            "Validation RMSE: 24699.090169663054\n",
            "Testing RMSE: 27855.927016460268\n"
          ]
        }
      ]
    },
    {
      "cell_type": "code",
      "source": [
        "# 13. Dự báo 30 ngày tiếp theo\n",
        "x_input=val_data[60:].reshape(1,-1)\n",
        "x_input.shape\n",
        "\n",
        "temp_input=list(x_input)\n",
        "temp_input=temp_input[0].tolist()\n",
        "\n",
        "from numpy import array\n",
        "\n",
        "lst_output=[]\n",
        "n_steps=100\n",
        "i=0\n",
        "while(i<30):\n",
        "    \n",
        "    if(len(temp_input)>100):\n",
        "        #print(temp_input)\n",
        "        x_input=np.array(temp_input[1:])\n",
        "        print(\"{} day input {}\".format(i,x_input))\n",
        "        x_input=x_input.reshape(1,-1)\n",
        "        x_input = x_input.reshape((1, n_steps, 1))\n",
        "        #print(x_input)\n",
        "        yhat = model.predict(x_input, verbose=0)\n",
        "        print(\"{} day output {}\".format(i,yhat))\n",
        "        temp_input.extend(yhat[0].tolist())\n",
        "        temp_input=temp_input[1:]\n",
        "        #print(temp_input)\n",
        "        lst_output.extend(yhat.tolist())\n",
        "        i=i+1\n",
        "    else:\n",
        "        x_input = x_input.reshape((1, n_steps,1))\n",
        "        yhat = model.predict(x_input, verbose=0)\n",
        "        print(yhat[0])\n",
        "        temp_input.extend(yhat[0].tolist())\n",
        "        print(len(temp_input))\n",
        "        lst_output.extend(yhat.tolist())\n",
        "        i=i+1\n"
      ],
      "metadata": {
        "id": "izQZ1iQyYl6N"
      },
      "execution_count": null,
      "outputs": []
    },
    {
      "cell_type": "code",
      "source": [
        "# 14.Vẽ hình\n",
        "\n",
        "train_data_index = pd.RangeIndex(start=0, stop=train_size, step=1)\n",
        "plt.plot(scaler.inverse_transform(train_data))\n",
        "test_data_index = pd.RangeIndex(start=train_size, stop=train_size+test_size, step=1)\n",
        "plt.plot(test_data_index,scaler.inverse_transform(test_data))\n",
        "test_data_index = pd.RangeIndex(start=train_size+101, stop=train_size+test_size, step=1)\n",
        "plt.plot(test_data_index,(y_pred))\n",
        "val_data_index = pd.RangeIndex(start=train_size+test_size, stop=train_size+test_size+val_size, step=1)\n",
        "plt.plot(val_data_index,scaler.inverse_transform(val_data))\n",
        "val_data_index = pd.RangeIndex(start=train_size+test_size+101, stop=train_size+test_size+val_size, step=1)\n",
        "plt.plot(val_data_index,y_pred_val)\n",
        "prediect_data_index = pd.RangeIndex(start=len(df1)-1, stop=len(df1)+29, step=1)\n",
        "plt.plot(prediect_data_index,scaler.inverse_transform(lst_output))\n",
        "plt.legend(['Train','Test','Predict','Validate','ValidatePred','Predict30days'])\n",
        "plt.show()"
      ],
      "metadata": {
        "id": "KSa_mX51a654"
      },
      "execution_count": null,
      "outputs": []
    }
  ],
  "metadata": {
    "colab": {
      "provenance": []
    },
    "kernelspec": {
      "display_name": "Python 3",
      "name": "python3"
    },
    "language_info": {
      "name": "python"
    }
  },
  "nbformat": 4,
  "nbformat_minor": 0
}