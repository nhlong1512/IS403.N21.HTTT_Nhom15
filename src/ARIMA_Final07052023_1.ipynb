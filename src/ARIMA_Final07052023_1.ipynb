{
  "nbformat": 4,
  "nbformat_minor": 0,
  "metadata": {
    "colab": {
      "provenance": []
    },
    "kernelspec": {
      "name": "python3",
      "display_name": "Python 3"
    },
    "language_info": {
      "name": "python"
    }
  },
  "cells": [
    {
      "cell_type": "code",
      "execution_count": 23,
      "metadata": {
        "id": "K688-YUYu6Nk"
      },
      "outputs": [],
      "source": [
        "import numpy as np # linear algebra\n",
        "import pandas as pd # data processing, CSV file I/O (e.g. pd.read_csv)\n",
        "from statsmodels.tsa.arima.model import ARIMA\n",
        "from statsmodels.tsa.statespace.sarimax import SARIMAX\n",
        "import matplotlib.pyplot as plt\n",
        "from sklearn.metrics import mean_squared_error\n",
        "# Dùng thư viện yfinance để tải dataset \n",
        "import yfinance as yf"
      ]
    },
    {
      "cell_type": "code",
      "source": [
        "df = pd.read_csv('BTC-USD.csv')\n",
        "\n",
        "df.head()"
      ],
      "metadata": {
        "colab": {
          "base_uri": "https://localhost:8080/",
          "height": 206
        },
        "id": "y6HD033PvBak",
        "outputId": "05b11263-1d2a-4bf6-9779-329593d79d5f"
      },
      "execution_count": 26,
      "outputs": [
        {
          "output_type": "execute_result",
          "data": {
            "text/plain": [
              "       Date         Open         High          Low        Close    Adj Close  \\\n",
              "0  1/1/2019  3746.713379  3850.913818  3707.231201  3843.520020  3843.520020   \n",
              "1  1/2/2019  3849.216309  3947.981201  3817.409424  3943.409424  3943.409424   \n",
              "2  1/3/2019  3931.048584  3935.685059  3826.222900  3836.741211  3836.741211   \n",
              "3  1/4/2019  3832.040039  3865.934570  3783.853760  3857.717529  3857.717529   \n",
              "4  1/5/2019  3851.973877  3904.903076  3836.900146  3845.194580  3845.194580   \n",
              "\n",
              "         Volume  \n",
              "0  4.324201e+09  \n",
              "1  5.244857e+09  \n",
              "2  4.530215e+09  \n",
              "3  4.847965e+09  \n",
              "4  5.137610e+09  "
            ],
            "text/html": [
              "\n",
              "  <div id=\"df-2551919e-0a50-4008-bfd6-b7f18c737ef7\">\n",
              "    <div class=\"colab-df-container\">\n",
              "      <div>\n",
              "<style scoped>\n",
              "    .dataframe tbody tr th:only-of-type {\n",
              "        vertical-align: middle;\n",
              "    }\n",
              "\n",
              "    .dataframe tbody tr th {\n",
              "        vertical-align: top;\n",
              "    }\n",
              "\n",
              "    .dataframe thead th {\n",
              "        text-align: right;\n",
              "    }\n",
              "</style>\n",
              "<table border=\"1\" class=\"dataframe\">\n",
              "  <thead>\n",
              "    <tr style=\"text-align: right;\">\n",
              "      <th></th>\n",
              "      <th>Date</th>\n",
              "      <th>Open</th>\n",
              "      <th>High</th>\n",
              "      <th>Low</th>\n",
              "      <th>Close</th>\n",
              "      <th>Adj Close</th>\n",
              "      <th>Volume</th>\n",
              "    </tr>\n",
              "  </thead>\n",
              "  <tbody>\n",
              "    <tr>\n",
              "      <th>0</th>\n",
              "      <td>1/1/2019</td>\n",
              "      <td>3746.713379</td>\n",
              "      <td>3850.913818</td>\n",
              "      <td>3707.231201</td>\n",
              "      <td>3843.520020</td>\n",
              "      <td>3843.520020</td>\n",
              "      <td>4.324201e+09</td>\n",
              "    </tr>\n",
              "    <tr>\n",
              "      <th>1</th>\n",
              "      <td>1/2/2019</td>\n",
              "      <td>3849.216309</td>\n",
              "      <td>3947.981201</td>\n",
              "      <td>3817.409424</td>\n",
              "      <td>3943.409424</td>\n",
              "      <td>3943.409424</td>\n",
              "      <td>5.244857e+09</td>\n",
              "    </tr>\n",
              "    <tr>\n",
              "      <th>2</th>\n",
              "      <td>1/3/2019</td>\n",
              "      <td>3931.048584</td>\n",
              "      <td>3935.685059</td>\n",
              "      <td>3826.222900</td>\n",
              "      <td>3836.741211</td>\n",
              "      <td>3836.741211</td>\n",
              "      <td>4.530215e+09</td>\n",
              "    </tr>\n",
              "    <tr>\n",
              "      <th>3</th>\n",
              "      <td>1/4/2019</td>\n",
              "      <td>3832.040039</td>\n",
              "      <td>3865.934570</td>\n",
              "      <td>3783.853760</td>\n",
              "      <td>3857.717529</td>\n",
              "      <td>3857.717529</td>\n",
              "      <td>4.847965e+09</td>\n",
              "    </tr>\n",
              "    <tr>\n",
              "      <th>4</th>\n",
              "      <td>1/5/2019</td>\n",
              "      <td>3851.973877</td>\n",
              "      <td>3904.903076</td>\n",
              "      <td>3836.900146</td>\n",
              "      <td>3845.194580</td>\n",
              "      <td>3845.194580</td>\n",
              "      <td>5.137610e+09</td>\n",
              "    </tr>\n",
              "  </tbody>\n",
              "</table>\n",
              "</div>\n",
              "      <button class=\"colab-df-convert\" onclick=\"convertToInteractive('df-2551919e-0a50-4008-bfd6-b7f18c737ef7')\"\n",
              "              title=\"Convert this dataframe to an interactive table.\"\n",
              "              style=\"display:none;\">\n",
              "        \n",
              "  <svg xmlns=\"http://www.w3.org/2000/svg\" height=\"24px\"viewBox=\"0 0 24 24\"\n",
              "       width=\"24px\">\n",
              "    <path d=\"M0 0h24v24H0V0z\" fill=\"none\"/>\n",
              "    <path d=\"M18.56 5.44l.94 2.06.94-2.06 2.06-.94-2.06-.94-.94-2.06-.94 2.06-2.06.94zm-11 1L8.5 8.5l.94-2.06 2.06-.94-2.06-.94L8.5 2.5l-.94 2.06-2.06.94zm10 10l.94 2.06.94-2.06 2.06-.94-2.06-.94-.94-2.06-.94 2.06-2.06.94z\"/><path d=\"M17.41 7.96l-1.37-1.37c-.4-.4-.92-.59-1.43-.59-.52 0-1.04.2-1.43.59L10.3 9.45l-7.72 7.72c-.78.78-.78 2.05 0 2.83L4 21.41c.39.39.9.59 1.41.59.51 0 1.02-.2 1.41-.59l7.78-7.78 2.81-2.81c.8-.78.8-2.07 0-2.86zM5.41 20L4 18.59l7.72-7.72 1.47 1.35L5.41 20z\"/>\n",
              "  </svg>\n",
              "      </button>\n",
              "      \n",
              "  <style>\n",
              "    .colab-df-container {\n",
              "      display:flex;\n",
              "      flex-wrap:wrap;\n",
              "      gap: 12px;\n",
              "    }\n",
              "\n",
              "    .colab-df-convert {\n",
              "      background-color: #E8F0FE;\n",
              "      border: none;\n",
              "      border-radius: 50%;\n",
              "      cursor: pointer;\n",
              "      display: none;\n",
              "      fill: #1967D2;\n",
              "      height: 32px;\n",
              "      padding: 0 0 0 0;\n",
              "      width: 32px;\n",
              "    }\n",
              "\n",
              "    .colab-df-convert:hover {\n",
              "      background-color: #E2EBFA;\n",
              "      box-shadow: 0px 1px 2px rgba(60, 64, 67, 0.3), 0px 1px 3px 1px rgba(60, 64, 67, 0.15);\n",
              "      fill: #174EA6;\n",
              "    }\n",
              "\n",
              "    [theme=dark] .colab-df-convert {\n",
              "      background-color: #3B4455;\n",
              "      fill: #D2E3FC;\n",
              "    }\n",
              "\n",
              "    [theme=dark] .colab-df-convert:hover {\n",
              "      background-color: #434B5C;\n",
              "      box-shadow: 0px 1px 3px 1px rgba(0, 0, 0, 0.15);\n",
              "      filter: drop-shadow(0px 1px 2px rgba(0, 0, 0, 0.3));\n",
              "      fill: #FFFFFF;\n",
              "    }\n",
              "  </style>\n",
              "\n",
              "      <script>\n",
              "        const buttonEl =\n",
              "          document.querySelector('#df-2551919e-0a50-4008-bfd6-b7f18c737ef7 button.colab-df-convert');\n",
              "        buttonEl.style.display =\n",
              "          google.colab.kernel.accessAllowed ? 'block' : 'none';\n",
              "\n",
              "        async function convertToInteractive(key) {\n",
              "          const element = document.querySelector('#df-2551919e-0a50-4008-bfd6-b7f18c737ef7');\n",
              "          const dataTable =\n",
              "            await google.colab.kernel.invokeFunction('convertToInteractive',\n",
              "                                                     [key], {});\n",
              "          if (!dataTable) return;\n",
              "\n",
              "          const docLinkHtml = 'Like what you see? Visit the ' +\n",
              "            '<a target=\"_blank\" href=https://colab.research.google.com/notebooks/data_table.ipynb>data table notebook</a>'\n",
              "            + ' to learn more about interactive tables.';\n",
              "          element.innerHTML = '';\n",
              "          dataTable['output_type'] = 'display_data';\n",
              "          await google.colab.output.renderOutput(dataTable, element);\n",
              "          const docLink = document.createElement('div');\n",
              "          docLink.innerHTML = docLinkHtml;\n",
              "          element.appendChild(docLink);\n",
              "        }\n",
              "      </script>\n",
              "    </div>\n",
              "  </div>\n",
              "  "
            ]
          },
          "metadata": {},
          "execution_count": 26
        }
      ]
    },
    {
      "cell_type": "code",
      "source": [
        "df = df[['Date', 'Close']]\n",
        "df = df.dropna() # Drop missing values\n",
        "# df = df.reset_index(drop=True) # Reset the index\n",
        "df['Date'] = pd.to_datetime(df['Date'])\n",
        "df.set_index('Date', inplace=True)\n",
        "\n",
        "# Split the data into training, testing, and validation sets\n",
        "train_size = int(0.7 * len(df))\n",
        "test_size = int(0.2 * len(df))\n",
        "val_size = len(df) - train_size - test_size\n",
        "\n",
        "train_data = df[:train_size]\n",
        "test_data = df[train_size:train_size+test_size]\n",
        "val_data = df[train_size+test_size:]\n",
        "print(df)"
      ],
      "metadata": {
        "colab": {
          "base_uri": "https://localhost:8080/"
        },
        "id": "CEmrJVxYvpSz",
        "outputId": "50fbe054-bb83-44fc-d4e5-bb3d2a77ac25"
      },
      "execution_count": 28,
      "outputs": [
        {
          "output_type": "stream",
          "name": "stdout",
          "text": [
            "                   Close\n",
            "Date                    \n",
            "2019-01-01   3843.520020\n",
            "2019-01-02   3943.409424\n",
            "2019-01-03   3836.741211\n",
            "2019-01-04   3857.717529\n",
            "2019-01-05   3845.194580\n",
            "...                  ...\n",
            "2023-03-27  27139.888670\n",
            "2023-03-28  27268.130860\n",
            "2023-03-29  28348.441410\n",
            "2023-03-30  28033.562500\n",
            "2023-03-31  28478.484380\n",
            "\n",
            "[1551 rows x 1 columns]\n"
          ]
        }
      ]
    },
    {
      "cell_type": "code",
      "source": [
        "!pip install pmdarima"
      ],
      "metadata": {
        "colab": {
          "base_uri": "https://localhost:8080/"
        },
        "id": "01FCSodDvtqh",
        "outputId": "f46906fb-3d13-4e3f-97a0-74807ab630a7"
      },
      "execution_count": 29,
      "outputs": [
        {
          "output_type": "stream",
          "name": "stdout",
          "text": [
            "Looking in indexes: https://pypi.org/simple, https://us-python.pkg.dev/colab-wheels/public/simple/\n",
            "Requirement already satisfied: pmdarima in /usr/local/lib/python3.10/dist-packages (2.0.3)\n",
            "Requirement already satisfied: scipy>=1.3.2 in /usr/local/lib/python3.10/dist-packages (from pmdarima) (1.10.1)\n",
            "Requirement already satisfied: scikit-learn>=0.22 in /usr/local/lib/python3.10/dist-packages (from pmdarima) (1.2.2)\n",
            "Requirement already satisfied: Cython!=0.29.18,!=0.29.31,>=0.29 in /usr/local/lib/python3.10/dist-packages (from pmdarima) (0.29.34)\n",
            "Requirement already satisfied: joblib>=0.11 in /usr/local/lib/python3.10/dist-packages (from pmdarima) (1.2.0)\n",
            "Requirement already satisfied: urllib3 in /usr/local/lib/python3.10/dist-packages (from pmdarima) (1.26.15)\n",
            "Requirement already satisfied: pandas>=0.19 in /usr/local/lib/python3.10/dist-packages (from pmdarima) (1.5.3)\n",
            "Requirement already satisfied: numpy>=1.21.2 in /usr/local/lib/python3.10/dist-packages (from pmdarima) (1.22.4)\n",
            "Requirement already satisfied: statsmodels>=0.13.2 in /usr/local/lib/python3.10/dist-packages (from pmdarima) (0.13.5)\n",
            "Requirement already satisfied: setuptools!=50.0.0,>=38.6.0 in /usr/local/lib/python3.10/dist-packages (from pmdarima) (67.7.2)\n",
            "Requirement already satisfied: python-dateutil>=2.8.1 in /usr/local/lib/python3.10/dist-packages (from pandas>=0.19->pmdarima) (2.8.2)\n",
            "Requirement already satisfied: pytz>=2020.1 in /usr/local/lib/python3.10/dist-packages (from pandas>=0.19->pmdarima) (2022.7.1)\n",
            "Requirement already satisfied: threadpoolctl>=2.0.0 in /usr/local/lib/python3.10/dist-packages (from scikit-learn>=0.22->pmdarima) (3.1.0)\n",
            "Requirement already satisfied: patsy>=0.5.2 in /usr/local/lib/python3.10/dist-packages (from statsmodels>=0.13.2->pmdarima) (0.5.3)\n",
            "Requirement already satisfied: packaging>=21.3 in /usr/local/lib/python3.10/dist-packages (from statsmodels>=0.13.2->pmdarima) (23.1)\n",
            "Requirement already satisfied: six in /usr/local/lib/python3.10/dist-packages (from patsy>=0.5.2->statsmodels>=0.13.2->pmdarima) (1.16.0)\n"
          ]
        }
      ]
    },
    {
      "cell_type": "code",
      "source": [
        "# 3. Quá trình Training\n",
        "x_train = np.array(train_data.index).reshape(-1, 1)\n",
        "print(x_train)\n",
        "y_train = np.array(train_data['Close'])\n",
        "print(y_train)\n",
        "\n",
        "# Find the best ARIMA model using auto_arima\n",
        "from pmdarima.arima import auto_arima\n",
        "model = auto_arima(y_train, trace=True, error_action='ignore', suppress_warnings=True)\n",
        "\n",
        "# Fit the model\n",
        "model.fit(y_train)"
      ],
      "metadata": {
        "colab": {
          "base_uri": "https://localhost:8080/"
        },
        "id": "FHx-NkazwQSl",
        "outputId": "2a257dc5-2ad0-4369-9fe6-f7956b5fcf5f"
      },
      "execution_count": 56,
      "outputs": [
        {
          "output_type": "stream",
          "name": "stdout",
          "text": [
            "[['2019-01-01T00:00:00.000000000']\n",
            " ['2019-01-02T00:00:00.000000000']\n",
            " ['2019-01-03T00:00:00.000000000']\n",
            " ...\n",
            " ['2021-12-18T00:00:00.000000000']\n",
            " ['2021-12-19T00:00:00.000000000']\n",
            " ['2021-12-20T00:00:00.000000000']]\n",
            "[ 3843.52002   3943.409424  3836.741211 ... 46848.77734  46707.01563\n",
            " 46880.27734 ]\n",
            "Performing stepwise search to minimize aic\n",
            " ARIMA(2,1,2)(0,0,0)[0] intercept   : AIC=18326.915, Time=2.05 sec\n",
            " ARIMA(0,1,0)(0,0,0)[0] intercept   : AIC=18334.592, Time=0.04 sec\n",
            " ARIMA(1,1,0)(0,0,0)[0] intercept   : AIC=18334.396, Time=0.09 sec\n",
            " ARIMA(0,1,1)(0,0,0)[0] intercept   : AIC=18334.415, Time=0.11 sec\n",
            " ARIMA(0,1,0)(0,0,0)[0]             : AIC=18333.913, Time=0.03 sec\n",
            " ARIMA(1,1,2)(0,0,0)[0] intercept   : AIC=18338.414, Time=0.54 sec\n",
            " ARIMA(2,1,1)(0,0,0)[0] intercept   : AIC=18338.402, Time=0.20 sec\n",
            " ARIMA(3,1,2)(0,0,0)[0] intercept   : AIC=18328.615, Time=2.14 sec\n",
            " ARIMA(2,1,3)(0,0,0)[0] intercept   : AIC=18328.727, Time=2.60 sec\n",
            " ARIMA(1,1,1)(0,0,0)[0] intercept   : AIC=18336.402, Time=0.13 sec\n",
            " ARIMA(1,1,3)(0,0,0)[0] intercept   : AIC=18339.506, Time=0.69 sec\n",
            " ARIMA(3,1,1)(0,0,0)[0] intercept   : AIC=18339.964, Time=0.91 sec\n",
            " ARIMA(3,1,3)(0,0,0)[0] intercept   : AIC=inf, Time=3.43 sec\n",
            " ARIMA(2,1,2)(0,0,0)[0]             : AIC=18338.278, Time=0.44 sec\n",
            "\n",
            "Best model:  ARIMA(2,1,2)(0,0,0)[0] intercept\n",
            "Total fit time: 13.433 seconds\n",
            " ARIMA(2,1,2)(0,0,0)[0] intercept\n"
          ]
        }
      ]
    },
    {
      "cell_type": "code",
      "source": [
        "# 4. Quá trình testing \n",
        "x_test = np.array(test_data.index).reshape(-1, 1)\n",
        "y_test = np.array(test_data['Close'])\n",
        "y_pred = model.predict(n_periods=len(y_test))\n",
        "print(y_pred)\n",
        "\n",
        "# 5. Quá trình Validate\n",
        "x_val= np.array(val_data.index).reshape(-1, 1)\n",
        "y_val = np.array(val_data['Close'])\n",
        "y_pred_val =  model.predict(n_periods=len(y_val))"
      ],
      "metadata": {
        "colab": {
          "base_uri": "https://localhost:8080/"
        },
        "id": "JReQqa4bwU5D",
        "outputId": "a248fdae-41ad-4ea8-cf93-5ae3003e1b76"
      },
      "execution_count": 55,
      "outputs": [
        {
          "output_type": "stream",
          "name": "stdout",
          "text": [
            "[47060.44417267 47306.98002779 47400.43473151 47291.38944196\n",
            " 47143.01338451 47150.91932063 47338.58897684 47541.82894864\n",
            " 47588.7019632  47478.27760966 47372.84103744 47421.193624\n",
            " 47604.98856781 47766.32126954 47778.67322624 47676.54524514\n",
            " 47611.42399726 47688.65137721 47860.51395819 47983.57437329\n",
            " 47972.36352013 47885.07121031 47855.82855524 47951.6823126\n",
            " 48106.48091938 48196.31536423 48171.010131   48102.39579621\n",
            " 48103.5502947  48209.38868512 48344.44735815 48406.81600891\n",
            " 48375.20557995 48326.90362974 48352.55466496 48461.44871345\n",
            " 48576.0503505  48616.87376315 48585.03495102 48556.96684598\n",
            " 48601.27718306 48707.98092265 48802.88230225 48827.8276066\n",
            " 48800.20782226 48791.05031606 48848.59417058 48949.41763198\n",
            " 49026.40340119 49040.59827944 49020.17800528 49027.78261025\n",
            " 49093.77382643 49186.39302959 49247.88602207 49255.74380307\n",
            " 49244.24689924 49265.99752458 49336.4160155  49419.64889124\n",
            " 49468.38591994 49473.52267721 49471.64842483 49504.7515349\n",
            " 49576.38759262 49649.95906946 49688.73476829 49693.95872291\n",
            " 49701.61520679 49743.32259774 49813.75851599 49878.07240041\n",
            " 49909.54873545 49916.90306937 49933.42693605 49981.19541833\n",
            " 50048.74253363 50104.67261874 50131.2482244  50142.09017888\n",
            " 50166.44270583 50218.03776793 50281.64491691 50330.3531881\n",
            " 50354.08452161 50369.18601715 50400.11963345 50453.67175341\n",
            " 50512.8186052  50555.60458747 50578.16981863 50597.82747985\n",
            " 50634.02031219 50688.04320163 50742.62923037 50780.81147978\n",
            " 50803.50781585 50827.65297365 50867.81164838 50921.19158446\n",
            " 50971.42880752 51006.25726675 51030.02283636 51058.32463091\n",
            " 51101.25748654 51153.22221946 51199.53739394 51232.13374735\n",
            " 51257.58603111 51289.54303131 51334.20716426 51384.28187034\n",
            " 51427.23170853 51458.55389488 51486.03782281 51521.05553588\n",
            " 51566.58181396 51614.53835392 51654.73954105 51685.56610993\n",
            " 51715.20620157 51752.65943996 51798.35987777 51844.16434591\n",
            " 51882.23873481 51913.16865812 51944.92084974 51984.20114907\n",
            " 52029.56295495 52073.3252631  52109.85956957 52141.32333942\n",
            " 52175.02334025 52215.57250515 52260.24277705 52302.17087724\n",
            " 52337.68947567 52369.96774161 52405.37383254 52446.70526364\n",
            " 52490.46982097 52530.83017624 52565.77915406 52599.02569419\n",
            " 52635.85479444 52677.56456725 52720.32382914 52759.40891562\n",
            " 52794.14933888 52828.4157555  52866.37232158 52908.14209606\n",
            " 52949.88631414 52987.98928584 53022.79760585 53058.05773396\n",
            " 53096.85562163 53138.4494101  53179.23498002 53216.63114398\n",
            " 53251.70478789 53287.87736722 53327.25519203 53368.51184883\n",
            " 53408.43989082 53445.3743096  53480.8407031  53517.80936469\n",
            " 53557.54015858 53598.36321861 53637.56115341 53674.24149322\n",
            " 53710.1690224  53747.79906575 53787.69516841 53828.04138742\n",
            " 53866.64785017 53903.2415032  53939.65120529 53977.80298442\n",
            " 54017.71715226 54057.58481697 54095.73795004 54132.37245492\n",
            " 54169.24950925 54207.78850752 54247.61219395 54287.02999574\n",
            " 54324.85893899 54361.62478106 54398.92913537 54437.7329942\n",
            " 54477.39267399 54516.40968975 54554.02893581 54590.98390817\n",
            " 54628.65960933 54667.62249512 54707.07479179 54745.7518994\n",
            " 54783.25809222 54820.43252265 54858.41551834 54897.45027427\n",
            " 54936.67651921 54975.07939663 55012.55011263 55049.95239506\n",
            " 55088.17673203 55127.21527933 55166.21599665 55204.4097144\n",
            " 55241.90376635 55279.52576848 55317.92823311 55356.92067012\n",
            " 55395.71035254 55433.75546678 55471.31429938 55509.13634161\n",
            " 55547.65967393 55586.57248163 55625.1749054  55663.12489023\n",
            " 55700.77468494 55738.76989501 55777.36476084 55816.17846869\n",
            " 55854.62269496 55892.52251238 55930.2766778  55968.41461758\n",
            " 56007.04055137 56045.74715563 56084.06428269 56121.94987189\n",
            " 56159.81165974 56198.06119416 56236.6867319  56275.28709476\n",
            " 56313.50776137 56351.40623072 56389.37127965 56427.70271321\n",
            " 56466.30492625 56504.80632378 56542.95891649 56580.88923606\n",
            " 56618.9479038  56657.33444908 56695.89806996 56734.31200205\n",
            " 56772.42148835 56810.39550436 56848.53489936 56886.95356645\n",
            " 56925.4698719  56963.81020022 57001.89749128 57039.92111178\n",
            " 57078.1267787  57116.5587864  57155.02437301 57193.30581495\n",
            " 57231.38755441 57269.46198587 57307.71923295 57346.15004543\n",
            " 57384.56560363 57422.80258003 57460.89125702 57499.01420053\n",
            " 57537.30908277 57575.72817071 57614.09733427 57652.30314735\n",
            " 57690.40743881 57728.57418208 57766.89417172 57805.29458739\n",
            " 57843.62290991 57881.80921362 57919.93447257 57958.13883755\n",
            " 57996.47322452 58034.85106771 58073.14515589 58111.32167256\n",
            " 58149.47049225 58187.70561811 58226.0456885  58264.39952621\n",
            " 58302.66634163 58340.84077619 58379.01357433 58417.27253141\n",
            " 58455.61157271 58493.94186147 58532.18818906 58570.36629262\n",
            " 58608.5618737  58646.83811571 58685.17129541 58723.47984165\n",
            " 58761.71191295 58799.89765147 58838.11371792 58876.40138778\n",
            " 58914.72554725 58953.01502911]\n"
          ]
        }
      ]
    },
    {
      "cell_type": "code",
      "source": [
        "import datetime\n",
        "# 6. Quá trình tạo index predict 30 ngày tiếp theo\n",
        "last_index =  df.index[-1]\n",
        "print(last_index)\n",
        "# last_data = pd.RangeIndex(start=last_index, stop=last_index+30, step=1)\n",
        "next_30_days_index = pd.date_range(start=last_index + datetime.timedelta(days=1), periods=30, freq='D')\n",
        "print(next_30_days_index)\n",
        "# Create an array of 30 consecutive integers starting from last_index\n",
        "# x_next_30_days = np.array(range(last_index+1, last_index+31)).reshape(-1, 1)\n",
        "x_next_30_days = np.array(next_30_days_index).reshape(-1, 1)\n",
        "\n",
        "# Predict the closing prices for the next 30 days\n",
        "y_next_30_days = model.predict(n_periods=len(x_next_30_days)) \n",
        "\n",
        "# Print the predicted closing prices for the next 30 days\n",
        "print('Predicted closing prices for the next 30 days:')\n",
        "print(y_next_30_days)"
      ],
      "metadata": {
        "colab": {
          "base_uri": "https://localhost:8080/"
        },
        "id": "Q6vFjOFJwdpX",
        "outputId": "32da7b26-9d24-488c-f73c-98c87afbc222"
      },
      "execution_count": 43,
      "outputs": [
        {
          "output_type": "stream",
          "name": "stdout",
          "text": [
            "2023-03-31 00:00:00\n",
            "DatetimeIndex(['2023-04-01', '2023-04-02', '2023-04-03', '2023-04-04',\n",
            "               '2023-04-05', '2023-04-06', '2023-04-07', '2023-04-08',\n",
            "               '2023-04-09', '2023-04-10', '2023-04-11', '2023-04-12',\n",
            "               '2023-04-13', '2023-04-14', '2023-04-15', '2023-04-16',\n",
            "               '2023-04-17', '2023-04-18', '2023-04-19', '2023-04-20',\n",
            "               '2023-04-21', '2023-04-22', '2023-04-23', '2023-04-24',\n",
            "               '2023-04-25', '2023-04-26', '2023-04-27', '2023-04-28',\n",
            "               '2023-04-29', '2023-04-30'],\n",
            "              dtype='datetime64[ns]', freq='D')\n",
            "Predicted closing prices for the next 30 days:\n",
            "[47060.44417267 47306.98002779 47400.43473151 47291.38944196\n",
            " 47143.01338451 47150.91932063 47338.58897684 47541.82894864\n",
            " 47588.7019632  47478.27760966 47372.84103744 47421.193624\n",
            " 47604.98856781 47766.32126954 47778.67322624 47676.54524514\n",
            " 47611.42399726 47688.65137721 47860.51395819 47983.57437329\n",
            " 47972.36352013 47885.07121031 47855.82855524 47951.6823126\n",
            " 48106.48091938 48196.31536423 48171.010131   48102.39579621\n",
            " 48103.5502947  48209.38868512]\n"
          ]
        }
      ]
    },
    {
      "cell_type": "code",
      "source": [
        "# 8. Tính RMSE\n",
        "valid_rmse = np.sqrt(np.mean((y_pred_val - y_val)**2))\n",
        "test_rmse = np.sqrt(np.mean((y_pred - y_test)**2))\n",
        "valid_mape = np.mean(np.abs(y_pred_val - y_val)/np.abs(y_val))  # MAPE\n",
        "test_mape = np.mean(np.abs(y_pred - y_test)/np.abs(y_test))  # MAPE\n",
        "print('Validation RMSE:', valid_rmse)\n",
        "print('Testing RMSE:', test_rmse)\n",
        "print('Validation MAPE:', valid_mape)\n",
        "print('Testing MAPE:', test_mape)\n",
        "# 9.Vẽ hình\n",
        "plt.figure(figsize=(12,5), dpi=100)\n",
        "plt.ylabel('Close');\n",
        "plt.xlabel('Date');\n",
        "plt.title('ARIMA Train, Test, Predic')\n",
        "plt.plot(train_data.index, train_data['Close'])\n",
        "plt.plot(test_data.index, test_data['Close'])\n",
        "plt.plot(test_data.index, y_pred)\n",
        "plt.plot(val_data.index, y_pred_val)\n",
        "# plt.plot(last_data,y_next_30_days)\n",
        "plt.plot(next_30_days_index,y_next_30_days)\n",
        "\n",
        "plt.legend(['Train', 'Test', 'Predictions','Validate','Next30Day'])\n",
        "plt.show()"
      ],
      "metadata": {
        "colab": {
          "base_uri": "https://localhost:8080/",
          "height": 556
        },
        "id": "3aVHHs6kwjl-",
        "outputId": "01b0a45d-e54c-4c20-d2b3-749361295016"
      },
      "execution_count": 59,
      "outputs": [
        {
          "output_type": "stream",
          "name": "stdout",
          "text": [
            "Validation RMSE: 29593.898784807752\n",
            "Testing RMSE: 25612.570333202642\n",
            "Validation MAPE: 1.4947639255436262\n",
            "Testing MAPE: 0.9374604237736818\n"
          ]
        },
        {
          "output_type": "display_data",
          "data": {
            "text/plain": [
              "<Figure size 1200x500 with 1 Axes>"
            ],
            "image/png": "[encoded data removed]"
          },
          "metadata": {}
        }
      ]
    },
    {
      "cell_type": "code",
      "source": [],
      "metadata": {
        "id": "-9bn_IeSwwZe"
      },
      "execution_count": null,
      "outputs": []
    }
  ]
}