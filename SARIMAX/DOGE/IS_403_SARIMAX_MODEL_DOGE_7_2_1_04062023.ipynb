{
  "cells": [
    {
      "cell_type": "code",
      "execution_count": 1,
      "metadata": {
        "id": "NIJ_X3Mr2ZaE"
      },
      "outputs": [],
      "source": [
        "import numpy as np # linear algebra\n",
        "import pandas as pd # data processing, CSV file I/O (e.g. pd.read_csv)\n",
        "from statsmodels.tsa.arima.model import ARIMA\n",
        "from statsmodels.tsa.statespace.sarimax import SARIMAX\n",
        "import matplotlib.pyplot as plt\n",
        "from sklearn.metrics import mean_squared_error"
      ]
    },
    {
      "attachments": {},
      "cell_type": "markdown",
      "metadata": {
        "id": "rQ9VeiuD2o6m"
      },
      "source": [
        "Đọc dữ liệu"
      ]
    },
    {
      "cell_type": "code",
      "execution_count": 2,
      "metadata": {
        "id": "PM12i09v2nvr"
      },
      "outputs": [],
      "source": [
        "btc_data = pd.read_csv('DOGE-USD.csv')\n",
        "bnb_data = pd.read_csv('BNB-USD.csv')"
      ]
    },
    {
      "attachments": {},
      "cell_type": "markdown",
      "metadata": {
        "id": "uguaZ0tu21Sg"
      },
      "source": [
        "Dữ liệu BTC-USD"
      ]
    },
    {
      "cell_type": "code",
      "execution_count": 3,
      "metadata": {
        "colab": {
          "base_uri": "https://localhost:8080/",
          "height": 206
        },
        "id": "KDFVJyIE2qI8",
        "outputId": "34911e36-de7d-4f7a-bb87-c404cb064466"
      },
      "outputs": [
        {
          "data": {
            "text/html": [
              "<div>\n",
              "<style scoped>\n",
              "    .dataframe tbody tr th:only-of-type {\n",
              "        vertical-align: middle;\n",
              "    }\n",
              "\n",
              "    .dataframe tbody tr th {\n",
              "        vertical-align: top;\n",
              "    }\n",
              "\n",
              "    .dataframe thead th {\n",
              "        text-align: right;\n",
              "    }\n",
              "</style>\n",
              "<table border=\"1\" class=\"dataframe\">\n",
              "  <thead>\n",
              "    <tr style=\"text-align: right;\">\n",
              "      <th></th>\n",
              "      <th>Date</th>\n",
              "      <th>Open</th>\n",
              "      <th>High</th>\n",
              "      <th>Low</th>\n",
              "      <th>Close</th>\n",
              "      <th>Adj Close</th>\n",
              "      <th>Volume</th>\n",
              "    </tr>\n",
              "  </thead>\n",
              "  <tbody>\n",
              "    <tr>\n",
              "      <th>0</th>\n",
              "      <td>1/1/2019</td>\n",
              "      <td>0.002346</td>\n",
              "      <td>0.002392</td>\n",
              "      <td>0.002322</td>\n",
              "      <td>0.002392</td>\n",
              "      <td>0.002392</td>\n",
              "      <td>17364744</td>\n",
              "    </tr>\n",
              "    <tr>\n",
              "      <th>1</th>\n",
              "      <td>1/2/2019</td>\n",
              "      <td>0.002388</td>\n",
              "      <td>0.002458</td>\n",
              "      <td>0.002372</td>\n",
              "      <td>0.002407</td>\n",
              "      <td>0.002407</td>\n",
              "      <td>18015392</td>\n",
              "    </tr>\n",
              "    <tr>\n",
              "      <th>2</th>\n",
              "      <td>1/3/2019</td>\n",
              "      <td>0.002404</td>\n",
              "      <td>0.002414</td>\n",
              "      <td>0.002356</td>\n",
              "      <td>0.002360</td>\n",
              "      <td>0.002360</td>\n",
              "      <td>17619234</td>\n",
              "    </tr>\n",
              "    <tr>\n",
              "      <th>3</th>\n",
              "      <td>1/4/2019</td>\n",
              "      <td>0.002364</td>\n",
              "      <td>0.002397</td>\n",
              "      <td>0.002274</td>\n",
              "      <td>0.002315</td>\n",
              "      <td>0.002315</td>\n",
              "      <td>19530100</td>\n",
              "    </tr>\n",
              "    <tr>\n",
              "      <th>4</th>\n",
              "      <td>1/5/2019</td>\n",
              "      <td>0.002320</td>\n",
              "      <td>0.002350</td>\n",
              "      <td>0.002280</td>\n",
              "      <td>0.002319</td>\n",
              "      <td>0.002319</td>\n",
              "      <td>17148586</td>\n",
              "    </tr>\n",
              "  </tbody>\n",
              "</table>\n",
              "</div>"
            ],
            "text/plain": [
              "       Date      Open      High       Low     Close  Adj Close    Volume\n",
              "0  1/1/2019  0.002346  0.002392  0.002322  0.002392   0.002392  17364744\n",
              "1  1/2/2019  0.002388  0.002458  0.002372  0.002407   0.002407  18015392\n",
              "2  1/3/2019  0.002404  0.002414  0.002356  0.002360   0.002360  17619234\n",
              "3  1/4/2019  0.002364  0.002397  0.002274  0.002315   0.002315  19530100\n",
              "4  1/5/2019  0.002320  0.002350  0.002280  0.002319   0.002319  17148586"
            ]
          },
          "execution_count": 3,
          "metadata": {},
          "output_type": "execute_result"
        }
      ],
      "source": [
        "btc_data.head()"
      ]
    },
    {
      "attachments": {},
      "cell_type": "markdown",
      "metadata": {
        "id": "IyH8kBFy23C5"
      },
      "source": [
        "Dữ liệu ETH-USD"
      ]
    },
    {
      "cell_type": "code",
      "execution_count": 4,
      "metadata": {
        "colab": {
          "base_uri": "https://localhost:8080/",
          "height": 206
        },
        "id": "4PEpq8p42y5Q",
        "outputId": "cca5bafa-087d-41a4-addd-1e74304c035d"
      },
      "outputs": [
        {
          "data": {
            "text/html": [
              "<div>\n",
              "<style scoped>\n",
              "    .dataframe tbody tr th:only-of-type {\n",
              "        vertical-align: middle;\n",
              "    }\n",
              "\n",
              "    .dataframe tbody tr th {\n",
              "        vertical-align: top;\n",
              "    }\n",
              "\n",
              "    .dataframe thead th {\n",
              "        text-align: right;\n",
              "    }\n",
              "</style>\n",
              "<table border=\"1\" class=\"dataframe\">\n",
              "  <thead>\n",
              "    <tr style=\"text-align: right;\">\n",
              "      <th></th>\n",
              "      <th>Date</th>\n",
              "      <th>Close-Exog</th>\n",
              "    </tr>\n",
              "  </thead>\n",
              "  <tbody>\n",
              "    <tr>\n",
              "      <th>0</th>\n",
              "      <td>1/1/2019</td>\n",
              "      <td>6.075273</td>\n",
              "    </tr>\n",
              "    <tr>\n",
              "      <th>1</th>\n",
              "      <td>1/2/2019</td>\n",
              "      <td>6.188613</td>\n",
              "    </tr>\n",
              "    <tr>\n",
              "      <th>2</th>\n",
              "      <td>1/3/2019</td>\n",
              "      <td>5.903535</td>\n",
              "    </tr>\n",
              "    <tr>\n",
              "      <th>3</th>\n",
              "      <td>1/4/2019</td>\n",
              "      <td>6.065138</td>\n",
              "    </tr>\n",
              "    <tr>\n",
              "      <th>4</th>\n",
              "      <td>1/5/2019</td>\n",
              "      <td>6.065543</td>\n",
              "    </tr>\n",
              "  </tbody>\n",
              "</table>\n",
              "</div>"
            ],
            "text/plain": [
              "       Date  Close-Exog\n",
              "0  1/1/2019    6.075273\n",
              "1  1/2/2019    6.188613\n",
              "2  1/3/2019    5.903535\n",
              "3  1/4/2019    6.065138\n",
              "4  1/5/2019    6.065543"
            ]
          },
          "execution_count": 4,
          "metadata": {},
          "output_type": "execute_result"
        }
      ],
      "source": [
        "bnb_data.head()"
      ]
    },
    {
      "attachments": {},
      "cell_type": "markdown",
      "metadata": {
        "id": "Zv__VwdN3DAo"
      },
      "source": [
        "Kết hợp dữ liệu BTC và ETH"
      ]
    },
    {
      "cell_type": "code",
      "execution_count": 5,
      "metadata": {
        "colab": {
          "base_uri": "https://localhost:8080/",
          "height": 206
        },
        "id": "sCn7WWO_3BUn",
        "outputId": "7712ef31-93a6-4b9b-b006-dfa2a5cc9a3f"
      },
      "outputs": [
        {
          "data": {
            "text/html": [
              "<div>\n",
              "<style scoped>\n",
              "    .dataframe tbody tr th:only-of-type {\n",
              "        vertical-align: middle;\n",
              "    }\n",
              "\n",
              "    .dataframe tbody tr th {\n",
              "        vertical-align: top;\n",
              "    }\n",
              "\n",
              "    .dataframe thead th {\n",
              "        text-align: right;\n",
              "    }\n",
              "</style>\n",
              "<table border=\"1\" class=\"dataframe\">\n",
              "  <thead>\n",
              "    <tr style=\"text-align: right;\">\n",
              "      <th></th>\n",
              "      <th>Date</th>\n",
              "      <th>Open</th>\n",
              "      <th>High</th>\n",
              "      <th>Low</th>\n",
              "      <th>Close</th>\n",
              "      <th>Adj Close</th>\n",
              "      <th>Volume</th>\n",
              "      <th>Close-Exog</th>\n",
              "    </tr>\n",
              "  </thead>\n",
              "  <tbody>\n",
              "    <tr>\n",
              "      <th>0</th>\n",
              "      <td>1/1/2019</td>\n",
              "      <td>0.002346</td>\n",
              "      <td>0.002392</td>\n",
              "      <td>0.002322</td>\n",
              "      <td>0.002392</td>\n",
              "      <td>0.002392</td>\n",
              "      <td>17364744</td>\n",
              "      <td>6.075273</td>\n",
              "    </tr>\n",
              "    <tr>\n",
              "      <th>1</th>\n",
              "      <td>1/2/2019</td>\n",
              "      <td>0.002388</td>\n",
              "      <td>0.002458</td>\n",
              "      <td>0.002372</td>\n",
              "      <td>0.002407</td>\n",
              "      <td>0.002407</td>\n",
              "      <td>18015392</td>\n",
              "      <td>6.188613</td>\n",
              "    </tr>\n",
              "    <tr>\n",
              "      <th>2</th>\n",
              "      <td>1/3/2019</td>\n",
              "      <td>0.002404</td>\n",
              "      <td>0.002414</td>\n",
              "      <td>0.002356</td>\n",
              "      <td>0.002360</td>\n",
              "      <td>0.002360</td>\n",
              "      <td>17619234</td>\n",
              "      <td>5.903535</td>\n",
              "    </tr>\n",
              "    <tr>\n",
              "      <th>3</th>\n",
              "      <td>1/4/2019</td>\n",
              "      <td>0.002364</td>\n",
              "      <td>0.002397</td>\n",
              "      <td>0.002274</td>\n",
              "      <td>0.002315</td>\n",
              "      <td>0.002315</td>\n",
              "      <td>19530100</td>\n",
              "      <td>6.065138</td>\n",
              "    </tr>\n",
              "    <tr>\n",
              "      <th>4</th>\n",
              "      <td>1/5/2019</td>\n",
              "      <td>0.002320</td>\n",
              "      <td>0.002350</td>\n",
              "      <td>0.002280</td>\n",
              "      <td>0.002319</td>\n",
              "      <td>0.002319</td>\n",
              "      <td>17148586</td>\n",
              "      <td>6.065543</td>\n",
              "    </tr>\n",
              "  </tbody>\n",
              "</table>\n",
              "</div>"
            ],
            "text/plain": [
              "       Date      Open      High       Low     Close  Adj Close    Volume   \n",
              "0  1/1/2019  0.002346  0.002392  0.002322  0.002392   0.002392  17364744  \\\n",
              "1  1/2/2019  0.002388  0.002458  0.002372  0.002407   0.002407  18015392   \n",
              "2  1/3/2019  0.002404  0.002414  0.002356  0.002360   0.002360  17619234   \n",
              "3  1/4/2019  0.002364  0.002397  0.002274  0.002315   0.002315  19530100   \n",
              "4  1/5/2019  0.002320  0.002350  0.002280  0.002319   0.002319  17148586   \n",
              "\n",
              "   Close-Exog  \n",
              "0    6.075273  \n",
              "1    6.188613  \n",
              "2    5.903535  \n",
              "3    6.065138  \n",
              "4    6.065543  "
            ]
          },
          "execution_count": 5,
          "metadata": {},
          "output_type": "execute_result"
        }
      ],
      "source": [
        "data = pd.merge(btc_data, bnb_data, on='Date')\n",
        "data.head()"
      ]
    },
    {
      "attachments": {},
      "cell_type": "markdown",
      "metadata": {
        "id": "hF0JBksbR8Y1"
      },
      "source": [
        "**Dự đoán 30 ngày cho ETH bằng ARIMA**"
      ]
    },
    {
      "cell_type": "code",
      "execution_count": 6,
      "metadata": {
        "colab": {
          "base_uri": "https://localhost:8080/"
        },
        "id": "bj_ek1nASFRd",
        "outputId": "e4fc4c6d-7ca1-46df-fe9f-ca66a0a45f67"
      },
      "outputs": [
        {
          "name": "stdout",
          "output_type": "stream",
          "text": [
            "Requirement already satisfied: pmdarima in c:\\app\\lib\\site-packages (2.0.3)\n",
            "Requirement already satisfied: joblib>=0.11 in c:\\app\\lib\\site-packages (from pmdarima) (1.1.1)\n",
            "Requirement already satisfied: Cython!=0.29.18,!=0.29.31,>=0.29 in c:\\app\\lib\\site-packages (from pmdarima) (0.29.34)\n",
            "Requirement already satisfied: numpy>=1.21.2 in c:\\app\\lib\\site-packages (from pmdarima) (1.23.5)\n",
            "Requirement already satisfied: pandas>=0.19 in c:\\app\\lib\\site-packages (from pmdarima) (2.0.1)\n",
            "Requirement already satisfied: scikit-learn>=0.22 in c:\\app\\lib\\site-packages (from pmdarima) (1.2.2)\n",
            "Requirement already satisfied: scipy>=1.3.2 in c:\\app\\lib\\site-packages (from pmdarima) (1.10.1)\n",
            "Requirement already satisfied: statsmodels>=0.13.2 in c:\\app\\lib\\site-packages (from pmdarima) (0.13.5)\n",
            "Requirement already satisfied: urllib3 in c:\\app\\lib\\site-packages (from pmdarima) (2.0.2)\n",
            "Requirement already satisfied: setuptools!=50.0.0,>=38.6.0 in c:\\app\\lib\\site-packages (from pmdarima) (65.5.0)\n",
            "Requirement already satisfied: python-dateutil>=2.8.2 in c:\\users\\quang thai\\appdata\\roaming\\python\\python311\\site-packages (from pandas>=0.19->pmdarima) (2.8.2)\n",
            "Requirement already satisfied: pytz>=2020.1 in c:\\app\\lib\\site-packages (from pandas>=0.19->pmdarima) (2022.7.1)\n",
            "Requirement already satisfied: tzdata>=2022.1 in c:\\app\\lib\\site-packages (from pandas>=0.19->pmdarima) (2023.3)\n",
            "Requirement already satisfied: threadpoolctl>=2.0.0 in c:\\app\\lib\\site-packages (from scikit-learn>=0.22->pmdarima) (3.1.0)\n",
            "Requirement already satisfied: patsy>=0.5.2 in c:\\app\\lib\\site-packages (from statsmodels>=0.13.2->pmdarima) (0.5.3)\n",
            "Requirement already satisfied: packaging>=21.3 in c:\\users\\quang thai\\appdata\\roaming\\python\\python311\\site-packages (from statsmodels>=0.13.2->pmdarima) (23.0)\n",
            "Requirement already satisfied: six in c:\\users\\quang thai\\appdata\\roaming\\python\\python311\\site-packages (from patsy>=0.5.2->statsmodels>=0.13.2->pmdarima) (1.16.0)\n"
          ]
        },
        {
          "name": "stderr",
          "output_type": "stream",
          "text": [
            "\n",
            "[notice] A new release of pip available: 22.3.1 -> 23.1.2\n",
            "[notice] To update, run: python.exe -m pip install --upgrade pip\n"
          ]
        }
      ],
      "source": [
        "!pip install pmdarima"
      ]
    },
    {
      "cell_type": "code",
      "execution_count": 7,
      "metadata": {
        "colab": {
          "base_uri": "https://localhost:8080/"
        },
        "id": "bxcisYgHSPV6",
        "outputId": "31b0322e-9c61-4144-bf56-e72c1e9807c5"
      },
      "outputs": [
        {
          "name": "stdout",
          "output_type": "stream",
          "text": [
            "            Close-Exog\n",
            "Date                  \n",
            "2019-01-01    6.075273\n",
            "2019-01-02    6.188613\n",
            "2019-01-03    5.903535\n",
            "2019-01-04    6.065138\n",
            "2019-01-05    6.065543\n",
            "...                ...\n",
            "2023-03-27  310.949127\n",
            "2023-03-28  313.260620\n",
            "2023-03-29  313.841766\n",
            "2023-03-30  316.567566\n",
            "2023-03-31  317.040009\n",
            "\n",
            "[1551 rows x 1 columns]\n"
          ]
        }
      ],
      "source": [
        "bnb_data = bnb_data[['Date', 'Close-Exog']]\n",
        "bnb_data = bnb_data.dropna() # Drop missing values\n",
        "# bnb_data = bnb_data.reset_index(drop=True) # Reset the index\n",
        "bnb_data['Date'] = pd.to_datetime(bnb_data['Date'])\n",
        "bnb_data.set_index('Date', inplace=True)\n",
        "\n",
        "# Split the data into training, testing, and validation sets\n",
        "train_size = int(0.7 * len(bnb_data))\n",
        "test_size = int(0.2 * len(bnb_data))\n",
        "val_size = len(bnb_data) - train_size - test_size\n",
        "\n",
        "train_data = bnb_data[:train_size]\n",
        "test_data = bnb_data[train_size:train_size+test_size]\n",
        "val_data = bnb_data[train_size+test_size:]\n",
        "print(bnb_data)"
      ]
    },
    {
      "cell_type": "code",
      "execution_count": 8,
      "metadata": {
        "colab": {
          "base_uri": "https://localhost:8080/",
          "height": 300
        },
        "id": "VKaScGhFSHyc",
        "outputId": "dab2e88e-2da3-4311-ca93-bd5699da262a"
      },
      "outputs": [
        {
          "name": "stdout",
          "output_type": "stream",
          "text": [
            "Performing stepwise search to minimize aic\n",
            " ARIMA(2,1,2)(0,0,0)[0] intercept   : AIC=8861.886, Time=0.59 sec\n",
            " ARIMA(0,1,0)(0,0,0)[0] intercept   : AIC=8905.891, Time=0.01 sec\n",
            " ARIMA(1,1,0)(0,0,0)[0] intercept   : AIC=8881.960, Time=0.03 sec\n",
            " ARIMA(0,1,1)(0,0,0)[0] intercept   : AIC=8885.892, Time=0.09 sec\n",
            " ARIMA(0,1,0)(0,0,0)[0]             : AIC=8905.033, Time=0.01 sec\n",
            " ARIMA(1,1,2)(0,0,0)[0] intercept   : AIC=8875.774, Time=0.16 sec\n",
            " ARIMA(2,1,1)(0,0,0)[0] intercept   : AIC=8877.807, Time=0.23 sec\n",
            " ARIMA(3,1,2)(0,0,0)[0] intercept   : AIC=8862.449, Time=0.74 sec\n",
            " ARIMA(2,1,3)(0,0,0)[0] intercept   : AIC=8876.520, Time=0.54 sec\n",
            " ARIMA(1,1,1)(0,0,0)[0] intercept   : AIC=8878.596, Time=0.17 sec\n",
            " ARIMA(1,1,3)(0,0,0)[0] intercept   : AIC=8876.833, Time=0.41 sec\n",
            " ARIMA(3,1,1)(0,0,0)[0] intercept   : AIC=8878.858, Time=0.21 sec\n",
            " ARIMA(3,1,3)(0,0,0)[0] intercept   : AIC=8851.741, Time=0.83 sec\n",
            " ARIMA(4,1,3)(0,0,0)[0] intercept   : AIC=8849.981, Time=1.03 sec\n",
            " ARIMA(4,1,2)(0,0,0)[0] intercept   : AIC=8854.912, Time=0.99 sec\n",
            " ARIMA(5,1,3)(0,0,0)[0] intercept   : AIC=8851.841, Time=1.09 sec\n",
            " ARIMA(4,1,4)(0,0,0)[0] intercept   : AIC=8852.795, Time=1.05 sec\n",
            " ARIMA(3,1,4)(0,0,0)[0] intercept   : AIC=8850.083, Time=1.03 sec\n",
            " ARIMA(5,1,2)(0,0,0)[0] intercept   : AIC=8854.070, Time=0.74 sec\n",
            " ARIMA(5,1,4)(0,0,0)[0] intercept   : AIC=8853.970, Time=1.31 sec\n",
            " ARIMA(4,1,3)(0,0,0)[0]             : AIC=8849.273, Time=0.25 sec\n",
            " ARIMA(3,1,3)(0,0,0)[0]             : AIC=8851.174, Time=0.37 sec\n",
            " ARIMA(4,1,2)(0,0,0)[0]             : AIC=8854.124, Time=0.48 sec\n",
            " ARIMA(5,1,3)(0,0,0)[0]             : AIC=8850.930, Time=0.48 sec\n",
            " ARIMA(4,1,4)(0,0,0)[0]             : AIC=8851.844, Time=0.63 sec\n",
            " ARIMA(3,1,2)(0,0,0)[0]             : AIC=8861.878, Time=0.39 sec\n",
            " ARIMA(3,1,4)(0,0,0)[0]             : AIC=8848.924, Time=0.48 sec\n",
            " ARIMA(2,1,4)(0,0,0)[0]             : AIC=8855.676, Time=0.28 sec\n",
            " ARIMA(3,1,5)(0,0,0)[0]             : AIC=8850.102, Time=0.68 sec\n",
            " ARIMA(2,1,3)(0,0,0)[0]             : AIC=8875.714, Time=0.24 sec\n",
            " ARIMA(2,1,5)(0,0,0)[0]             : AIC=8853.268, Time=0.29 sec\n",
            " ARIMA(4,1,5)(0,0,0)[0]             : AIC=8852.220, Time=0.82 sec\n",
            "\n",
            "Best model:  ARIMA(3,1,4)(0,0,0)[0]          \n",
            "Total fit time: 16.683 seconds\n"
          ]
        },
        {
          "data": {
            "text/html": [
              "<style>#sk-container-id-1 {color: black;background-color: white;}#sk-container-id-1 pre{padding: 0;}#sk-container-id-1 div.sk-toggleable {background-color: white;}#sk-container-id-1 label.sk-toggleable__label {cursor: pointer;display: block;width: 100%;margin-bottom: 0;padding: 0.3em;box-sizing: border-box;text-align: center;}#sk-container-id-1 label.sk-toggleable__label-arrow:before {content: \"▸\";float: left;margin-right: 0.25em;color: #696969;}#sk-container-id-1 label.sk-toggleable__label-arrow:hover:before {color: black;}#sk-container-id-1 div.sk-estimator:hover label.sk-toggleable__label-arrow:before {color: black;}#sk-container-id-1 div.sk-toggleable__content {max-height: 0;max-width: 0;overflow: hidden;text-align: left;background-color: #f0f8ff;}#sk-container-id-1 div.sk-toggleable__content pre {margin: 0.2em;color: black;border-radius: 0.25em;background-color: #f0f8ff;}#sk-container-id-1 input.sk-toggleable__control:checked~div.sk-toggleable__content {max-height: 200px;max-width: 100%;overflow: auto;}#sk-container-id-1 input.sk-toggleable__control:checked~label.sk-toggleable__label-arrow:before {content: \"▾\";}#sk-container-id-1 div.sk-estimator input.sk-toggleable__control:checked~label.sk-toggleable__label {background-color: #d4ebff;}#sk-container-id-1 div.sk-label input.sk-toggleable__control:checked~label.sk-toggleable__label {background-color: #d4ebff;}#sk-container-id-1 input.sk-hidden--visually {border: 0;clip: rect(1px 1px 1px 1px);clip: rect(1px, 1px, 1px, 1px);height: 1px;margin: -1px;overflow: hidden;padding: 0;position: absolute;width: 1px;}#sk-container-id-1 div.sk-estimator {font-family: monospace;background-color: #f0f8ff;border: 1px dotted black;border-radius: 0.25em;box-sizing: border-box;margin-bottom: 0.5em;}#sk-container-id-1 div.sk-estimator:hover {background-color: #d4ebff;}#sk-container-id-1 div.sk-parallel-item::after {content: \"\";width: 100%;border-bottom: 1px solid gray;flex-grow: 1;}#sk-container-id-1 div.sk-label:hover label.sk-toggleable__label {background-color: #d4ebff;}#sk-container-id-1 div.sk-serial::before {content: \"\";position: absolute;border-left: 1px solid gray;box-sizing: border-box;top: 0;bottom: 0;left: 50%;z-index: 0;}#sk-container-id-1 div.sk-serial {display: flex;flex-direction: column;align-items: center;background-color: white;padding-right: 0.2em;padding-left: 0.2em;position: relative;}#sk-container-id-1 div.sk-item {position: relative;z-index: 1;}#sk-container-id-1 div.sk-parallel {display: flex;align-items: stretch;justify-content: center;background-color: white;position: relative;}#sk-container-id-1 div.sk-item::before, #sk-container-id-1 div.sk-parallel-item::before {content: \"\";position: absolute;border-left: 1px solid gray;box-sizing: border-box;top: 0;bottom: 0;left: 50%;z-index: -1;}#sk-container-id-1 div.sk-parallel-item {display: flex;flex-direction: column;z-index: 1;position: relative;background-color: white;}#sk-container-id-1 div.sk-parallel-item:first-child::after {align-self: flex-end;width: 50%;}#sk-container-id-1 div.sk-parallel-item:last-child::after {align-self: flex-start;width: 50%;}#sk-container-id-1 div.sk-parallel-item:only-child::after {width: 0;}#sk-container-id-1 div.sk-dashed-wrapped {border: 1px dashed gray;margin: 0 0.4em 0.5em 0.4em;box-sizing: border-box;padding-bottom: 0.4em;background-color: white;}#sk-container-id-1 div.sk-label label {font-family: monospace;font-weight: bold;display: inline-block;line-height: 1.2em;}#sk-container-id-1 div.sk-label-container {text-align: center;}#sk-container-id-1 div.sk-container {/* jupyter's `normalize.less` sets `[hidden] { display: none; }` but bootstrap.min.css set `[hidden] { display: none !important; }` so we also need the `!important` here to be able to override the default hidden behavior on the sphinx rendered scikit-learn.org. See: https://github.com/scikit-learn/scikit-learn/issues/21755 */display: inline-block !important;position: relative;}#sk-container-id-1 div.sk-text-repr-fallback {display: none;}</style><div id=\"sk-container-id-1\" class=\"sk-top-container\"><div class=\"sk-text-repr-fallback\"><pre> ARIMA(3,1,4)(0,0,0)[0]          </pre><b>In a Jupyter environment, please rerun this cell to show the HTML representation or trust the notebook. <br />On GitHub, the HTML representation is unable to render, please try loading this page with nbviewer.org.</b></div><div class=\"sk-container\" hidden><div class=\"sk-item\"><div class=\"sk-estimator sk-toggleable\"><input class=\"sk-toggleable__control sk-hidden--visually\" id=\"sk-estimator-id-1\" type=\"checkbox\" checked><label for=\"sk-estimator-id-1\" class=\"sk-toggleable__label sk-toggleable__label-arrow\">ARIMA</label><div class=\"sk-toggleable__content\"><pre> ARIMA(3,1,4)(0,0,0)[0]          </pre></div></div></div></div></div>"
            ],
            "text/plain": [
              "ARIMA(order=(3, 1, 4), scoring_args={}, suppress_warnings=True,\n",
              "      with_intercept=False)"
            ]
          },
          "execution_count": 8,
          "metadata": {},
          "output_type": "execute_result"
        }
      ],
      "source": [
        "# 3. Quá trình Training\n",
        "x_train = np.array(train_data.index).reshape(-1, 1)\n",
        "y_train = np.array(train_data['Close-Exog'])\n",
        "\n",
        "# Find the best ARIMA model using auto_arima\n",
        "from pmdarima.arima import auto_arima\n",
        "model = auto_arima(y_train, trace=True, error_action='ignore', suppress_warnings=True)\n",
        "\n",
        "# Fit the model\n",
        "model.fit(y_train)"
      ]
    },
    {
      "cell_type": "code",
      "execution_count": 9,
      "metadata": {
        "id": "lBh8whurS0ZB"
      },
      "outputs": [],
      "source": [
        "# 4. Quá trình testing \n",
        "x_test = np.array(test_data.index).reshape(-1, 1)\n",
        "y_test = np.array(test_data['Close-Exog'])\n",
        "y_pred = model.predict(n_periods=len(y_test))\n",
        "\n",
        "# 5. Quá trình Validate\n",
        "x_val= np.array(val_data.index).reshape(-1, 1)\n",
        "y_val = np.array(val_data['Close-Exog'])\n",
        "y_pred_val =  model.predict(n_periods=len(y_val))"
      ]
    },
    {
      "cell_type": "code",
      "execution_count": 10,
      "metadata": {
        "colab": {
          "base_uri": "https://localhost:8080/"
        },
        "id": "bnERcRAHR7o4",
        "outputId": "b5f8d477-a391-4735-cdf5-3353149efa6a"
      },
      "outputs": [
        {
          "name": "stdout",
          "output_type": "stream",
          "text": [
            "2023-03-31 00:00:00\n",
            "DatetimeIndex(['2023-04-01', '2023-04-02', '2023-04-03', '2023-04-04',\n",
            "               '2023-04-05', '2023-04-06', '2023-04-07', '2023-04-08',\n",
            "               '2023-04-09', '2023-04-10', '2023-04-11', '2023-04-12',\n",
            "               '2023-04-13', '2023-04-14', '2023-04-15', '2023-04-16',\n",
            "               '2023-04-17', '2023-04-18', '2023-04-19', '2023-04-20',\n",
            "               '2023-04-21', '2023-04-22', '2023-04-23', '2023-04-24',\n",
            "               '2023-04-25', '2023-04-26', '2023-04-27', '2023-04-28',\n",
            "               '2023-04-29', '2023-04-30'],\n",
            "              dtype='datetime64[ns]', freq='D')\n",
            "Predicted closing prices for the next 30 days:\n",
            "[532.24587336 532.03736266 525.5481163  527.96593162 532.6990226\n",
            " 528.10597106 526.75414738 530.78052688 530.28911421 527.04665876\n",
            " 529.09304886 530.64888081 528.39068742 528.07264036 530.11978239\n",
            " 529.3830911  528.10943468 529.24907651 529.79173125 528.59499497\n",
            " 528.72306667 529.61695234 529.11861074 528.61104328 529.25567859\n",
            " 529.36491671 528.79885243 528.96410978 529.35108053 529.03721575]\n"
          ]
        }
      ],
      "source": [
        "import datetime\n",
        "# 6. Quá trình tạo index predict 30 ngày tiếp theo\n",
        "last_index =  bnb_data.index[-1]\n",
        "print(last_index)\n",
        "next_30_days_index_eth = pd.date_range(start=last_index + datetime.timedelta(days=1), periods=30, freq='D')\n",
        "print(next_30_days_index_eth)\n",
        "# Create an array of 30 consecutive integers starting from last_index\n",
        "x_next_30_days_eth = np.array(next_30_days_index_eth).reshape(-1, 1)\n",
        "\n",
        "# Predict the closing prices for the next 30 days\n",
        "y_next_30_days_eth = model.predict(n_periods=len(x_next_30_days_eth)) \n",
        "\n",
        "# Print the predicted closing prices for the next 30 days\n",
        "print('Predicted closing prices for the next 30 days:')\n",
        "print(y_next_30_days_eth)"
      ]
    },
    {
      "cell_type": "code",
      "execution_count": 11,
      "metadata": {
        "colab": {
          "base_uri": "https://localhost:8080/",
          "height": 556
        },
        "id": "pdegy8xUTLIx",
        "outputId": "72d0c541-7721-4361-eaa2-01b3bb855885"
      },
      "outputs": [
        {
          "name": "stdout",
          "output_type": "stream",
          "text": [
            "Validation RMSE: 236.24256875346745\n",
            "Testing RMSE: 205.45812076024552\n",
            "Validation MAPE: 0.8131693067405459\n",
            "Testing MAPE: 0.6437660943363176\n"
          ]
        },
        {
          "data": {
            "image/png": "[encoded data removed]",
            "text/plain": [
              "<Figure size 1200x500 with 1 Axes>"
            ]
          },
          "metadata": {},
          "output_type": "display_data"
        }
      ],
      "source": [
        "# 8. Tính RMSE\n",
        "valid_rmse = np.sqrt(np.mean((y_pred_val - y_val)**2))\n",
        "test_rmse = np.sqrt(np.mean((y_pred - y_test)**2))\n",
        "valid_mape = np.mean(np.abs(y_pred_val - y_val)/np.abs(y_val))  # MAPE\n",
        "test_mape = np.mean(np.abs(y_pred - y_test)/np.abs(y_test))  # MAPE\n",
        "print('Validation RMSE:', valid_rmse)\n",
        "print('Testing RMSE:', test_rmse)\n",
        "print('Validation MAPE:', valid_mape)\n",
        "print('Testing MAPE:', test_mape)\n",
        "# 9.Vẽ hình\n",
        "plt.figure(figsize=(12,5), dpi=100)\n",
        "plt.ylabel('Close');\n",
        "plt.xlabel('Date');\n",
        "plt.title('ARIMA Train, Test, Predict')\n",
        "plt.plot(train_data.index, train_data['Close-Exog'])\n",
        "plt.plot(test_data.index, test_data['Close-Exog'])\n",
        "plt.plot(test_data.index, y_pred)\n",
        "plt.plot(val_data.index, y_pred_val)\n",
        "# plt.plot(last_data,y_next_30_days)\n",
        "plt.plot(next_30_days_index_eth,y_next_30_days_eth)\n",
        "\n",
        "plt.legend(['Train', 'Test', 'Predictions','Validate','Next30Day'])\n",
        "plt.show()"
      ]
    },
    {
      "attachments": {},
      "cell_type": "markdown",
      "metadata": {
        "id": "VoQaM1Eb4rM4"
      },
      "source": [
        "**SARIMAX**"
      ]
    },
    {
      "attachments": {},
      "cell_type": "markdown",
      "metadata": {
        "id": "N0wIsXKj3HnI"
      },
      "source": [
        "**<h3>Dự đoán ARIMAX 7-2-1</h3>**"
      ]
    },
    {
      "cell_type": "code",
      "execution_count": 12,
      "metadata": {
        "colab": {
          "base_uri": "https://localhost:8080/"
        },
        "id": "GO0MijOG3KkY",
        "outputId": "f2a77d49-5f1e-4054-c6e5-e31b99d5f0f8"
      },
      "outputs": [
        {
          "name": "stdout",
          "output_type": "stream",
          "text": [
            "1085\n",
            "310\n",
            "156\n"
          ]
        }
      ],
      "source": [
        "\n",
        "# data = data.reset_index(drop=True) # Reset the index\n",
        "data['Date'] = pd.to_datetime(data['Date'])\n",
        "data.set_index('Date', inplace=True)\n",
        "data = data[['Close', 'Close-Exog']]\n",
        "data = data.dropna() # Drop missing values\n",
        "\n",
        "# Split the data into training, testing, and validation sets\n",
        "train_size = int(0.7 * len(data))\n",
        "test_size = int(0.2 * len(data))\n",
        "val_size = len(data) - train_size - test_size\n",
        "\n",
        "train_data = data[:train_size]\n",
        "test_data = data[train_size:train_size+test_size]\n",
        "val_data = data[train_size+test_size:]\n",
        "print(len(train_data))\n",
        "print(len(test_data))\n",
        "print(len(val_data))"
      ]
    },
    {
      "cell_type": "code",
      "execution_count": 13,
      "metadata": {
        "colab": {
          "base_uri": "https://localhost:8080/"
        },
        "id": "RYOVvXSkiEBa",
        "outputId": "7a9df5cf-0450-4932-b067-1a76220092dc"
      },
      "outputs": [
        {
          "name": "stdout",
          "output_type": "stream",
          "text": [
            "Performing stepwise search to minimize aic\n",
            " ARIMA(2,1,2)(1,0,1)[12] intercept   : AIC=-5967.178, Time=2.64 sec\n",
            " ARIMA(0,1,0)(0,0,0)[12] intercept   : AIC=-5946.838, Time=0.05 sec\n",
            " ARIMA(1,1,0)(1,0,0)[12] intercept   : AIC=-5969.759, Time=0.49 sec\n",
            " ARIMA(0,1,1)(0,0,1)[12] intercept   : AIC=-5970.628, Time=0.99 sec\n",
            " ARIMA(0,1,0)(0,0,0)[12]             : AIC=-5948.734, Time=0.03 sec\n",
            " ARIMA(0,1,1)(0,0,0)[12] intercept   : AIC=-5960.460, Time=0.24 sec\n",
            " ARIMA(0,1,1)(1,0,1)[12] intercept   : AIC=-5965.356, Time=0.22 sec\n",
            " ARIMA(0,1,1)(0,0,2)[12] intercept   : AIC=-5989.009, Time=2.08 sec\n",
            " ARIMA(0,1,1)(1,0,2)[12] intercept   : AIC=-5996.713, Time=5.17 sec\n",
            " ARIMA(0,1,1)(2,0,2)[12] intercept   : AIC=-5993.977, Time=4.00 sec\n",
            " ARIMA(0,1,1)(2,0,1)[12] intercept   : AIC=-5996.311, Time=3.21 sec\n",
            " ARIMA(0,1,0)(1,0,2)[12] intercept   : AIC=-5978.730, Time=2.95 sec\n",
            " ARIMA(1,1,1)(1,0,2)[12] intercept   : AIC=-5998.192, Time=4.53 sec\n",
            " ARIMA(1,1,1)(0,0,2)[12] intercept   : AIC=-5990.077, Time=3.52 sec\n",
            " ARIMA(1,1,1)(1,0,1)[12] intercept   : AIC=-5996.582, Time=1.45 sec\n",
            " ARIMA(1,1,1)(2,0,2)[12] intercept   : AIC=-5995.643, Time=4.35 sec\n",
            " ARIMA(1,1,1)(0,0,1)[12] intercept   : AIC=-5971.719, Time=0.47 sec\n",
            " ARIMA(1,1,1)(2,0,1)[12] intercept   : AIC=-5997.870, Time=3.92 sec\n",
            " ARIMA(1,1,0)(1,0,2)[12] intercept   : AIC=-5996.645, Time=3.27 sec\n",
            " ARIMA(2,1,1)(1,0,2)[12] intercept   : AIC=-5996.320, Time=5.11 sec\n",
            " ARIMA(1,1,2)(1,0,2)[12] intercept   : AIC=-6002.354, Time=5.08 sec\n",
            " ARIMA(1,1,2)(0,0,2)[12] intercept   : AIC=-6002.012, Time=5.59 sec\n",
            " ARIMA(1,1,2)(1,0,1)[12] intercept   : AIC=-5986.036, Time=1.63 sec\n",
            " ARIMA(1,1,2)(2,0,2)[12] intercept   : AIC=-5997.041, Time=5.14 sec\n",
            " ARIMA(1,1,2)(0,0,1)[12] intercept   : AIC=-5984.842, Time=1.60 sec\n",
            " ARIMA(1,1,2)(2,0,1)[12] intercept   : AIC=-5996.344, Time=4.56 sec\n",
            " ARIMA(0,1,2)(1,0,2)[12] intercept   : AIC=-6002.009, Time=4.52 sec\n",
            " ARIMA(2,1,2)(1,0,2)[12] intercept   : AIC=-5978.407, Time=6.05 sec\n",
            " ARIMA(1,1,3)(1,0,2)[12] intercept   : AIC=-6013.119, Time=8.80 sec\n",
            " ARIMA(1,1,3)(0,0,2)[12] intercept   : AIC=-6016.402, Time=4.78 sec\n",
            " ARIMA(1,1,3)(0,0,1)[12] intercept   : AIC=-6001.825, Time=2.22 sec\n",
            " ARIMA(1,1,3)(1,0,1)[12] intercept   : AIC=-5998.208, Time=2.10 sec\n",
            " ARIMA(0,1,3)(0,0,2)[12] intercept   : AIC=-6018.396, Time=4.83 sec\n",
            " ARIMA(0,1,3)(0,0,1)[12] intercept   : AIC=-6003.851, Time=1.22 sec\n",
            " ARIMA(0,1,3)(1,0,2)[12] intercept   : AIC=-6015.071, Time=4.41 sec\n",
            " ARIMA(0,1,3)(1,0,1)[12] intercept   : AIC=-6000.289, Time=1.97 sec\n",
            " ARIMA(0,1,2)(0,0,2)[12] intercept   : AIC=-5995.690, Time=2.31 sec\n",
            " ARIMA(0,1,4)(0,0,2)[12] intercept   : AIC=-6016.500, Time=4.41 sec\n",
            " ARIMA(1,1,4)(0,0,2)[12] intercept   : AIC=-6017.913, Time=6.20 sec\n",
            " ARIMA(0,1,3)(0,0,2)[12]             : AIC=-6020.214, Time=1.10 sec\n",
            " ARIMA(0,1,3)(0,0,1)[12]             : AIC=-6005.807, Time=0.50 sec\n",
            " ARIMA(0,1,3)(1,0,2)[12]             : AIC=-6016.904, Time=1.08 sec\n",
            " ARIMA(0,1,3)(1,0,1)[12]             : AIC=-6001.976, Time=0.56 sec\n",
            " ARIMA(0,1,2)(0,0,2)[12]             : AIC=-5997.443, Time=0.72 sec\n",
            " ARIMA(1,1,3)(0,0,2)[12]             : AIC=-6018.232, Time=1.43 sec\n",
            " ARIMA(0,1,4)(0,0,2)[12]             : AIC=-6018.335, Time=1.73 sec\n",
            " ARIMA(1,1,2)(0,0,2)[12]             : AIC=-6003.807, Time=1.55 sec\n",
            " ARIMA(1,1,4)(0,0,2)[12]             : AIC=-6019.876, Time=2.12 sec\n",
            "\n",
            "Best model:  ARIMA(0,1,3)(0,0,2)[12]          \n",
            "Total fit time: 136.904 seconds\n",
            "                                        SARIMAX Results                                        \n",
            "===============================================================================================\n",
            "Dep. Variable:                                       y   No. Observations:                 1085\n",
            "Model:             SARIMAX(0, 1, 3)x(0, 0, [1, 2], 12)   Log Likelihood                3016.107\n",
            "Date:                                 Sun, 04 Jun 2023   AIC                          -6020.214\n",
            "Time:                                         23:07:42   BIC                          -5990.283\n",
            "Sample:                                     01-01-2019   HQIC                         -6008.883\n",
            "                                          - 12-20-2021                                         \n",
            "Covariance Type:                                   opg                                         \n",
            "==============================================================================\n",
            "                 coef    std err          z      P>|z|      [0.025      0.975]\n",
            "------------------------------------------------------------------------------\n",
            "ma.L1         -0.1462      0.008    -17.257      0.000      -0.163      -0.130\n",
            "ma.L2          0.1436      0.011     13.069      0.000       0.122       0.165\n",
            "ma.L3          0.1725      0.009     19.065      0.000       0.155       0.190\n",
            "ma.S.L12      -0.1317      0.011    -12.236      0.000      -0.153      -0.111\n",
            "ma.S.L24      -0.1375      0.012    -11.778      0.000      -0.160      -0.115\n",
            "sigma2         0.0002   2.22e-06    100.791      0.000       0.000       0.000\n",
            "===================================================================================\n",
            "Ljung-Box (L1) (Q):                   0.00   Jarque-Bera (JB):             88612.80\n",
            "Prob(Q):                              0.96   Prob(JB):                         0.00\n",
            "Heteroskedasticity (H):           68428.46   Skew:                             2.21\n",
            "Prob(H) (two-sided):                  0.00   Kurtosis:                        47.07\n",
            "===================================================================================\n",
            "\n",
            "Warnings:\n",
            "[1] Covariance matrix calculated using the outer product of gradients (complex-step).\n"
          ]
        }
      ],
      "source": [
        "from pmdarima.arima import auto_arima\n",
        "train_exog = train_data[[\"Close-Exog\"]]\n",
        "model = auto_arima(train_data.Close, \n",
        "                   seasonal = True,\n",
        "                   m=12,\n",
        "                      test='adf',       # use adftest to find      \n",
        "                      trace=True,\n",
        "                      error_action='ignore',  \n",
        "                      suppress_warnings=True,  \n",
        "                      stepwise=True,\n",
        "                      exogenous= train_exog)\n",
        "print(model.summary())"
      ]
    },
    {
      "cell_type": "code",
      "execution_count": 14,
      "metadata": {
        "colab": {
          "base_uri": "https://localhost:8080/"
        },
        "id": "i73A1r-TCPnc",
        "outputId": "f542e9fc-8359-4a53-d550-b791dc3f5067"
      },
      "outputs": [
        {
          "name": "stderr",
          "output_type": "stream",
          "text": [
            "c:\\APP\\Lib\\site-packages\\statsmodels\\tsa\\base\\tsa_model.py:471: ValueWarning: No frequency information was provided, so inferred frequency D will be used.\n",
            "  self._init_dates(dates, freq)\n",
            "c:\\APP\\Lib\\site-packages\\statsmodels\\tsa\\base\\tsa_model.py:471: ValueWarning: No frequency information was provided, so inferred frequency D will be used.\n",
            "  self._init_dates(dates, freq)\n"
          ]
        }
      ],
      "source": [
        "from statsmodels.tsa.statespace.sarimax import SARIMAX\n",
        "model= SARIMAX(train_data.Close, \n",
        " exog=train_exog,\n",
        " order=(0,1,3),\n",
        "  seasonal_order=(0,0,2, 12),\n",
        " enforce_invertibility=False, enforce_stationarity=False)"
      ]
    },
    {
      "cell_type": "code",
      "execution_count": 15,
      "metadata": {
        "colab": {
          "base_uri": "https://localhost:8080/"
        },
        "id": "cjSOYgRelzsk",
        "outputId": "e26e52f0-93de-443c-9b15-82e475ef0cee"
      },
      "outputs": [
        {
          "name": "stderr",
          "output_type": "stream",
          "text": [
            "c:\\APP\\Lib\\site-packages\\statsmodels\\base\\model.py:604: ConvergenceWarning: Maximum Likelihood optimization failed to converge. Check mle_retvals\n",
            "  warnings.warn(\"Maximum Likelihood optimization failed to \"\n"
          ]
        },
        {
          "name": "stdout",
          "output_type": "stream",
          "text": [
            "2021-12-21    0.169481\n",
            "2021-12-22    0.171461\n",
            "2021-12-23    0.176964\n",
            "2021-12-24    0.174666\n",
            "2021-12-25    0.177398\n",
            "                ...   \n",
            "2022-10-22    0.075758\n",
            "2022-10-23    0.077813\n",
            "2022-10-24    0.077058\n",
            "2022-10-25    0.080945\n",
            "2022-10-26    0.083155\n",
            "Freq: D, Name: predicted_mean, Length: 310, dtype: float64\n",
            "            Close-Exog\n",
            "Date                  \n",
            "2022-10-27  286.844116\n",
            "2022-10-28  298.014191\n",
            "2022-10-29  304.217957\n",
            "2022-10-30  313.754791\n",
            "2022-10-31  326.360718\n",
            "...                ...\n",
            "2023-03-27  310.949127\n",
            "2023-03-28  313.260620\n",
            "2023-03-29  313.841766\n",
            "2023-03-30  316.567566\n",
            "2023-03-31  317.040009\n",
            "\n",
            "[156 rows x 1 columns]\n",
            "2021-12-21    0.079559\n",
            "2021-12-22    0.083857\n",
            "2021-12-23    0.086060\n",
            "2021-12-24    0.089844\n",
            "2021-12-25    0.095247\n",
            "                ...   \n",
            "2022-05-21    0.090804\n",
            "2022-05-22    0.091663\n",
            "2022-05-23    0.091879\n",
            "2022-05-24    0.092893\n",
            "2022-05-25    0.093068\n",
            "Freq: D, Name: predicted_mean, Length: 156, dtype: float64\n"
          ]
        }
      ],
      "source": [
        "# 4. Quá trình testing \n",
        "x_test = np.array(test_data.index).reshape(-1, 1)\n",
        "y_test = np.array(test_data['Close'])\n",
        "test_exog = test_data[['Close-Exog']]\n",
        "model_fit = model.fit()\n",
        "# y_pred = model.predict(n_periods=len(y_test))\n",
        "y_pred = model_fit.forecast(steps=len(y_test), exog=test_exog)\n",
        "print(y_pred)\n",
        "\n",
        "# 5. Quá trình Validate\n",
        "x_val= np.array(val_data.index).reshape(-1, 1)\n",
        "y_val = np.array(val_data['Close'])\n",
        "val_exog = val_data[['Close-Exog']]\n",
        "print(val_exog)\n",
        "y_pred_val =  model_fit.forecast(steps=len(y_val), exog=val_exog)\n",
        "print(y_pred_val)"
      ]
    },
    {
      "cell_type": "code",
      "execution_count": 16,
      "metadata": {
        "colab": {
          "base_uri": "https://localhost:8080/"
        },
        "id": "p2WNLBfBngms",
        "outputId": "c3d6db7e-a730-4a67-ae4c-75afa2c9cdf2"
      },
      "outputs": [
        {
          "name": "stdout",
          "output_type": "stream",
          "text": [
            "2023-03-31 00:00:00\n",
            "DatetimeIndex(['2023-04-01', '2023-04-02', '2023-04-03', '2023-04-04',\n",
            "               '2023-04-05', '2023-04-06', '2023-04-07', '2023-04-08',\n",
            "               '2023-04-09', '2023-04-10', '2023-04-11', '2023-04-12',\n",
            "               '2023-04-13', '2023-04-14', '2023-04-15', '2023-04-16',\n",
            "               '2023-04-17', '2023-04-18', '2023-04-19', '2023-04-20',\n",
            "               '2023-04-21', '2023-04-22', '2023-04-23', '2023-04-24',\n",
            "               '2023-04-25', '2023-04-26', '2023-04-27', '2023-04-28',\n",
            "               '2023-04-29', '2023-04-30'],\n",
            "              dtype='datetime64[ns]', freq='D')\n",
            "Predicted closing prices for the next 30 days:\n",
            "2021-12-21    0.170796\n",
            "2021-12-22    0.170863\n",
            "2021-12-23    0.168347\n",
            "2021-12-24    0.169485\n",
            "2021-12-25    0.171960\n",
            "2021-12-26    0.168482\n",
            "2021-12-27    0.168418\n",
            "2021-12-28    0.171650\n",
            "2021-12-29    0.172180\n",
            "2021-12-30    0.171526\n",
            "2021-12-31    0.172398\n",
            "2022-01-01    0.174048\n",
            "2022-01-02    0.172779\n",
            "2022-01-03    0.172492\n",
            "2022-01-04    0.173097\n",
            "2022-01-05    0.173041\n",
            "2022-01-06    0.171967\n",
            "2022-01-07    0.169285\n",
            "2022-01-08    0.170633\n",
            "2022-01-09    0.170534\n",
            "2022-01-10    0.171232\n",
            "2022-01-11    0.171542\n",
            "2022-01-12    0.171765\n",
            "2022-01-13    0.171716\n",
            "2022-01-14    0.171961\n",
            "2022-01-15    0.172012\n",
            "2022-01-16    0.171797\n",
            "2022-01-17    0.171859\n",
            "2022-01-18    0.172002\n",
            "2022-01-19    0.171886\n",
            "Freq: D, Name: predicted_mean, dtype: float64\n"
          ]
        }
      ],
      "source": [
        "import datetime\n",
        "# 6. Quá trình tạo index predict 30 ngày tiếp theo\n",
        "last_index =  data.index[-1]\n",
        "print(last_index)\n",
        "# last_data = pd.RangeIndex(start=last_index, stop=last_index+30, step=1)\n",
        "next_30_days_index = pd.date_range(start=last_index + datetime.timedelta(days=1), periods=30, freq='D')\n",
        "print(next_30_days_index)\n",
        "# Create an array of 30 consecutive integers starting from last_index\n",
        "# x_next_30_days = np.array(range(last_index+1, last_index+31)).reshape(-1, 1)\n",
        "x_next_30_days = np.array(next_30_days_index).reshape(-1, 1)\n",
        "\n",
        "\n",
        "\n",
        "# Predict the closing prices for the next 30 days\n",
        "y_next_30_days = model_fit.forecast(steps=len(x_next_30_days), exog = y_next_30_days_eth) \n",
        "\n",
        "# Print the predicted closing prices for the next 30 days\n",
        "print('Predicted closing prices for the next 30 days:')\n",
        "print(y_next_30_days)"
      ]
    },
    {
      "cell_type": "code",
      "execution_count": 17,
      "metadata": {
        "colab": {
          "base_uri": "https://localhost:8080/",
          "height": 556
        },
        "id": "CXpz3-oGrqpV",
        "outputId": "50c3bc25-8d29-4a8b-e2b6-ce194154686e"
      },
      "outputs": [
        {
          "name": "stdout",
          "output_type": "stream",
          "text": [
            "Validation RMSE: 0.012906940913360964\n",
            "Testing RMSE: 0.01432096666281934\n",
            "Validation MAPE: 0.11325080671817202\n",
            "Testing MAPE: 0.1384542840786065\n",
            "Validation R2: 0.07687916814082896\n",
            "Testing R2: 0.871491651145892\n"
          ]
        },
        {
          "data": {
            "image/png": "[encoded data removed]",
            "text/plain": [
              "<Figure size 1200x500 with 1 Axes>"
            ]
          },
          "metadata": {},
          "output_type": "display_data"
        }
      ],
      "source": [
        "# 8. Tính RMSE\n",
        "from sklearn.metrics import r2_score\n",
        "\n",
        "\n",
        "valid_rmse = np.sqrt(np.mean((y_pred_val - y_val)**2))\n",
        "test_rmse = np.sqrt(np.mean((y_pred - y_test)**2))\n",
        "valid_mape = np.mean(np.abs(y_pred_val - y_val)/np.abs(y_val))  # MAPE\n",
        "test_mape = np.mean(np.abs(y_pred - y_test)/np.abs(y_test))  # MAPE\n",
        "valid_r2 = r2_score(y_val, y_pred_val)\n",
        "test_r2 = r2_score(y_test, y_pred)\n",
        "print('Validation RMSE:', valid_rmse)\n",
        "print('Testing RMSE:', test_rmse)\n",
        "print('Validation MAPE:', valid_mape)\n",
        "print('Testing MAPE:', test_mape)\n",
        "print('Validation R2:', valid_r2)\n",
        "print('Testing R2:', test_r2)\n",
        "\n",
        "\n",
        "\n",
        "# 9.Vẽ hình\n",
        "plt.figure(figsize=(12,5), dpi=100)\n",
        "plt.ylabel('Close');\n",
        "plt.xlabel('Date');\n",
        "plt.title('SARIMAX Train, Test, Predict')\n",
        "plt.plot(train_data.index, train_data['Close'])\n",
        "plt.plot(test_data.index, test_data['Close'])\n",
        "plt.plot(test_data.index, y_pred)\n",
        "plt.plot(val_data.index, y_pred_val)\n",
        "# plt.plot(last_data,y_next_30_days)\n",
        "plt.plot(next_30_days_index,y_next_30_days)\n",
        "\n",
        "plt.legend(['Train', 'Test', 'Predictions','Validate','Next30Day'])\n",
        "plt.show()"
      ]
    },
    {
      "cell_type": "code",
      "execution_count": null,
      "metadata": {
        "id": "aWiX7JFW5-wO"
      },
      "outputs": [],
      "source": []
    }
  ],
  "metadata": {
    "colab": {
      "provenance": []
    },
    "kernelspec": {
      "display_name": "Python 3",
      "name": "python3"
    },
    "language_info": {
      "codemirror_mode": {
        "name": "ipython",
        "version": 3
      },
      "file_extension": ".py",
      "mimetype": "text/x-python",
      "name": "python",
      "nbconvert_exporter": "python",
      "pygments_lexer": "ipython3",
      "version": "3.11.2"
    }
  },
  "nbformat": 4,
  "nbformat_minor": 0
}
