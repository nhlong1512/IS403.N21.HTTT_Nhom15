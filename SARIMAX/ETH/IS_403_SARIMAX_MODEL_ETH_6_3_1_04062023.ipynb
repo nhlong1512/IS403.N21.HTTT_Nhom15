{
  "cells": [
    {
      "cell_type": "code",
      "execution_count": 1,
      "metadata": {
        "id": "NIJ_X3Mr2ZaE"
      },
      "outputs": [],
      "source": [
        "import numpy as np # linear algebra\n",
        "import pandas as pd # data processing, CSV file I/O (e.g. pd.read_csv)\n",
        "from statsmodels.tsa.arima.model import ARIMA\n",
        "from statsmodels.tsa.statespace.sarimax import SARIMAX\n",
        "import matplotlib.pyplot as plt\n",
        "from sklearn.metrics import mean_squared_error"
      ]
    },
    {
      "attachments": {},
      "cell_type": "markdown",
      "metadata": {
        "id": "rQ9VeiuD2o6m"
      },
      "source": [
        "Đọc dữ liệu"
      ]
    },
    {
      "cell_type": "code",
      "execution_count": 2,
      "metadata": {
        "id": "PM12i09v2nvr"
      },
      "outputs": [],
      "source": [
        "btc_data = pd.read_csv('ETH-USD.csv')\n",
        "bnb_data = pd.read_csv('BNB-USD.csv')"
      ]
    },
    {
      "attachments": {},
      "cell_type": "markdown",
      "metadata": {
        "id": "uguaZ0tu21Sg"
      },
      "source": [
        "Dữ liệu BTC-USD"
      ]
    },
    {
      "cell_type": "code",
      "execution_count": 3,
      "metadata": {
        "colab": {
          "base_uri": "https://localhost:8080/",
          "height": 206
        },
        "id": "KDFVJyIE2qI8",
        "outputId": "34911e36-de7d-4f7a-bb87-c404cb064466"
      },
      "outputs": [
        {
          "data": {
            "text/html": [
              "<div>\n",
              "<style scoped>\n",
              "    .dataframe tbody tr th:only-of-type {\n",
              "        vertical-align: middle;\n",
              "    }\n",
              "\n",
              "    .dataframe tbody tr th {\n",
              "        vertical-align: top;\n",
              "    }\n",
              "\n",
              "    .dataframe thead th {\n",
              "        text-align: right;\n",
              "    }\n",
              "</style>\n",
              "<table border=\"1\" class=\"dataframe\">\n",
              "  <thead>\n",
              "    <tr style=\"text-align: right;\">\n",
              "      <th></th>\n",
              "      <th>Date</th>\n",
              "      <th>Open</th>\n",
              "      <th>High</th>\n",
              "      <th>Low</th>\n",
              "      <th>Close</th>\n",
              "      <th>Adj Close</th>\n",
              "      <th>Volume</th>\n",
              "    </tr>\n",
              "  </thead>\n",
              "  <tbody>\n",
              "    <tr>\n",
              "      <th>0</th>\n",
              "      <td>1/1/2019</td>\n",
              "      <td>133.418152</td>\n",
              "      <td>141.397507</td>\n",
              "      <td>132.650711</td>\n",
              "      <td>140.819412</td>\n",
              "      <td>140.819412</td>\n",
              "      <td>2258709868</td>\n",
              "    </tr>\n",
              "    <tr>\n",
              "      <th>1</th>\n",
              "      <td>1/2/2019</td>\n",
              "      <td>141.519516</td>\n",
              "      <td>156.929138</td>\n",
              "      <td>140.650955</td>\n",
              "      <td>155.047684</td>\n",
              "      <td>155.047684</td>\n",
              "      <td>3328240369</td>\n",
              "    </tr>\n",
              "    <tr>\n",
              "      <th>2</th>\n",
              "      <td>1/3/2019</td>\n",
              "      <td>155.196045</td>\n",
              "      <td>155.863052</td>\n",
              "      <td>147.198364</td>\n",
              "      <td>149.135010</td>\n",
              "      <td>149.135010</td>\n",
              "      <td>2676164880</td>\n",
              "    </tr>\n",
              "    <tr>\n",
              "      <th>3</th>\n",
              "      <td>1/4/2019</td>\n",
              "      <td>148.912888</td>\n",
              "      <td>156.878983</td>\n",
              "      <td>147.907104</td>\n",
              "      <td>154.581940</td>\n",
              "      <td>154.581940</td>\n",
              "      <td>3126192535</td>\n",
              "    </tr>\n",
              "    <tr>\n",
              "      <th>4</th>\n",
              "      <td>1/5/2019</td>\n",
              "      <td>154.337418</td>\n",
              "      <td>160.824890</td>\n",
              "      <td>154.337418</td>\n",
              "      <td>155.638596</td>\n",
              "      <td>155.638596</td>\n",
              "      <td>3338211928</td>\n",
              "    </tr>\n",
              "  </tbody>\n",
              "</table>\n",
              "</div>"
            ],
            "text/plain": [
              "       Date        Open        High         Low       Close   Adj Close   \n",
              "0  1/1/2019  133.418152  141.397507  132.650711  140.819412  140.819412  \\\n",
              "1  1/2/2019  141.519516  156.929138  140.650955  155.047684  155.047684   \n",
              "2  1/3/2019  155.196045  155.863052  147.198364  149.135010  149.135010   \n",
              "3  1/4/2019  148.912888  156.878983  147.907104  154.581940  154.581940   \n",
              "4  1/5/2019  154.337418  160.824890  154.337418  155.638596  155.638596   \n",
              "\n",
              "       Volume  \n",
              "0  2258709868  \n",
              "1  3328240369  \n",
              "2  2676164880  \n",
              "3  3126192535  \n",
              "4  3338211928  "
            ]
          },
          "execution_count": 3,
          "metadata": {},
          "output_type": "execute_result"
        }
      ],
      "source": [
        "btc_data.head()"
      ]
    },
    {
      "attachments": {},
      "cell_type": "markdown",
      "metadata": {
        "id": "IyH8kBFy23C5"
      },
      "source": [
        "Dữ liệu ETH-USD"
      ]
    },
    {
      "cell_type": "code",
      "execution_count": 4,
      "metadata": {
        "colab": {
          "base_uri": "https://localhost:8080/",
          "height": 206
        },
        "id": "4PEpq8p42y5Q",
        "outputId": "cca5bafa-087d-41a4-addd-1e74304c035d"
      },
      "outputs": [
        {
          "data": {
            "text/html": [
              "<div>\n",
              "<style scoped>\n",
              "    .dataframe tbody tr th:only-of-type {\n",
              "        vertical-align: middle;\n",
              "    }\n",
              "\n",
              "    .dataframe tbody tr th {\n",
              "        vertical-align: top;\n",
              "    }\n",
              "\n",
              "    .dataframe thead th {\n",
              "        text-align: right;\n",
              "    }\n",
              "</style>\n",
              "<table border=\"1\" class=\"dataframe\">\n",
              "  <thead>\n",
              "    <tr style=\"text-align: right;\">\n",
              "      <th></th>\n",
              "      <th>Date</th>\n",
              "      <th>Close-Exog</th>\n",
              "    </tr>\n",
              "  </thead>\n",
              "  <tbody>\n",
              "    <tr>\n",
              "      <th>0</th>\n",
              "      <td>1/1/2019</td>\n",
              "      <td>6.075273</td>\n",
              "    </tr>\n",
              "    <tr>\n",
              "      <th>1</th>\n",
              "      <td>1/2/2019</td>\n",
              "      <td>6.188613</td>\n",
              "    </tr>\n",
              "    <tr>\n",
              "      <th>2</th>\n",
              "      <td>1/3/2019</td>\n",
              "      <td>5.903535</td>\n",
              "    </tr>\n",
              "    <tr>\n",
              "      <th>3</th>\n",
              "      <td>1/4/2019</td>\n",
              "      <td>6.065138</td>\n",
              "    </tr>\n",
              "    <tr>\n",
              "      <th>4</th>\n",
              "      <td>1/5/2019</td>\n",
              "      <td>6.065543</td>\n",
              "    </tr>\n",
              "  </tbody>\n",
              "</table>\n",
              "</div>"
            ],
            "text/plain": [
              "       Date  Close-Exog\n",
              "0  1/1/2019    6.075273\n",
              "1  1/2/2019    6.188613\n",
              "2  1/3/2019    5.903535\n",
              "3  1/4/2019    6.065138\n",
              "4  1/5/2019    6.065543"
            ]
          },
          "execution_count": 4,
          "metadata": {},
          "output_type": "execute_result"
        }
      ],
      "source": [
        "bnb_data.head()"
      ]
    },
    {
      "attachments": {},
      "cell_type": "markdown",
      "metadata": {
        "id": "Zv__VwdN3DAo"
      },
      "source": [
        "Kết hợp dữ liệu BTC và ETH"
      ]
    },
    {
      "cell_type": "code",
      "execution_count": 5,
      "metadata": {
        "colab": {
          "base_uri": "https://localhost:8080/",
          "height": 206
        },
        "id": "sCn7WWO_3BUn",
        "outputId": "7712ef31-93a6-4b9b-b006-dfa2a5cc9a3f"
      },
      "outputs": [
        {
          "data": {
            "text/html": [
              "<div>\n",
              "<style scoped>\n",
              "    .dataframe tbody tr th:only-of-type {\n",
              "        vertical-align: middle;\n",
              "    }\n",
              "\n",
              "    .dataframe tbody tr th {\n",
              "        vertical-align: top;\n",
              "    }\n",
              "\n",
              "    .dataframe thead th {\n",
              "        text-align: right;\n",
              "    }\n",
              "</style>\n",
              "<table border=\"1\" class=\"dataframe\">\n",
              "  <thead>\n",
              "    <tr style=\"text-align: right;\">\n",
              "      <th></th>\n",
              "      <th>Date</th>\n",
              "      <th>Open</th>\n",
              "      <th>High</th>\n",
              "      <th>Low</th>\n",
              "      <th>Close</th>\n",
              "      <th>Adj Close</th>\n",
              "      <th>Volume</th>\n",
              "      <th>Close-Exog</th>\n",
              "    </tr>\n",
              "  </thead>\n",
              "  <tbody>\n",
              "    <tr>\n",
              "      <th>0</th>\n",
              "      <td>1/1/2019</td>\n",
              "      <td>133.418152</td>\n",
              "      <td>141.397507</td>\n",
              "      <td>132.650711</td>\n",
              "      <td>140.819412</td>\n",
              "      <td>140.819412</td>\n",
              "      <td>2258709868</td>\n",
              "      <td>6.075273</td>\n",
              "    </tr>\n",
              "    <tr>\n",
              "      <th>1</th>\n",
              "      <td>1/2/2019</td>\n",
              "      <td>141.519516</td>\n",
              "      <td>156.929138</td>\n",
              "      <td>140.650955</td>\n",
              "      <td>155.047684</td>\n",
              "      <td>155.047684</td>\n",
              "      <td>3328240369</td>\n",
              "      <td>6.188613</td>\n",
              "    </tr>\n",
              "    <tr>\n",
              "      <th>2</th>\n",
              "      <td>1/3/2019</td>\n",
              "      <td>155.196045</td>\n",
              "      <td>155.863052</td>\n",
              "      <td>147.198364</td>\n",
              "      <td>149.135010</td>\n",
              "      <td>149.135010</td>\n",
              "      <td>2676164880</td>\n",
              "      <td>5.903535</td>\n",
              "    </tr>\n",
              "    <tr>\n",
              "      <th>3</th>\n",
              "      <td>1/4/2019</td>\n",
              "      <td>148.912888</td>\n",
              "      <td>156.878983</td>\n",
              "      <td>147.907104</td>\n",
              "      <td>154.581940</td>\n",
              "      <td>154.581940</td>\n",
              "      <td>3126192535</td>\n",
              "      <td>6.065138</td>\n",
              "    </tr>\n",
              "    <tr>\n",
              "      <th>4</th>\n",
              "      <td>1/5/2019</td>\n",
              "      <td>154.337418</td>\n",
              "      <td>160.824890</td>\n",
              "      <td>154.337418</td>\n",
              "      <td>155.638596</td>\n",
              "      <td>155.638596</td>\n",
              "      <td>3338211928</td>\n",
              "      <td>6.065543</td>\n",
              "    </tr>\n",
              "  </tbody>\n",
              "</table>\n",
              "</div>"
            ],
            "text/plain": [
              "       Date        Open        High         Low       Close   Adj Close   \n",
              "0  1/1/2019  133.418152  141.397507  132.650711  140.819412  140.819412  \\\n",
              "1  1/2/2019  141.519516  156.929138  140.650955  155.047684  155.047684   \n",
              "2  1/3/2019  155.196045  155.863052  147.198364  149.135010  149.135010   \n",
              "3  1/4/2019  148.912888  156.878983  147.907104  154.581940  154.581940   \n",
              "4  1/5/2019  154.337418  160.824890  154.337418  155.638596  155.638596   \n",
              "\n",
              "       Volume  Close-Exog  \n",
              "0  2258709868    6.075273  \n",
              "1  3328240369    6.188613  \n",
              "2  2676164880    5.903535  \n",
              "3  3126192535    6.065138  \n",
              "4  3338211928    6.065543  "
            ]
          },
          "execution_count": 5,
          "metadata": {},
          "output_type": "execute_result"
        }
      ],
      "source": [
        "data = pd.merge(btc_data, bnb_data, on='Date')\n",
        "data.head()"
      ]
    },
    {
      "attachments": {},
      "cell_type": "markdown",
      "metadata": {
        "id": "hF0JBksbR8Y1"
      },
      "source": [
        "**Dự đoán 30 ngày cho ETH bằng ARIMA**"
      ]
    },
    {
      "cell_type": "code",
      "execution_count": 6,
      "metadata": {
        "colab": {
          "base_uri": "https://localhost:8080/"
        },
        "id": "bj_ek1nASFRd",
        "outputId": "e4fc4c6d-7ca1-46df-fe9f-ca66a0a45f67"
      },
      "outputs": [
        {
          "name": "stdout",
          "output_type": "stream",
          "text": [
            "Requirement already satisfied: pmdarima in c:\\app\\lib\\site-packages (2.0.3)\n",
            "Requirement already satisfied: joblib>=0.11 in c:\\app\\lib\\site-packages (from pmdarima) (1.1.1)\n",
            "Requirement already satisfied: Cython!=0.29.18,!=0.29.31,>=0.29 in c:\\app\\lib\\site-packages (from pmdarima) (0.29.34)\n",
            "Requirement already satisfied: numpy>=1.21.2 in c:\\app\\lib\\site-packages (from pmdarima) (1.23.5)\n",
            "Requirement already satisfied: pandas>=0.19 in c:\\app\\lib\\site-packages (from pmdarima) (2.0.1)\n",
            "Requirement already satisfied: scikit-learn>=0.22 in c:\\app\\lib\\site-packages (from pmdarima) (1.2.2)\n",
            "Requirement already satisfied: scipy>=1.3.2 in c:\\app\\lib\\site-packages (from pmdarima) (1.10.1)\n",
            "Requirement already satisfied: statsmodels>=0.13.2 in c:\\app\\lib\\site-packages (from pmdarima) (0.13.5)\n",
            "Requirement already satisfied: urllib3 in c:\\app\\lib\\site-packages (from pmdarima) (2.0.2)\n",
            "Requirement already satisfied: setuptools!=50.0.0,>=38.6.0 in c:\\app\\lib\\site-packages (from pmdarima) (65.5.0)\n",
            "Requirement already satisfied: python-dateutil>=2.8.2 in c:\\users\\quang thai\\appdata\\roaming\\python\\python311\\site-packages (from pandas>=0.19->pmdarima) (2.8.2)\n",
            "Requirement already satisfied: pytz>=2020.1 in c:\\app\\lib\\site-packages (from pandas>=0.19->pmdarima) (2022.7.1)\n",
            "Requirement already satisfied: tzdata>=2022.1 in c:\\app\\lib\\site-packages (from pandas>=0.19->pmdarima) (2023.3)\n",
            "Requirement already satisfied: threadpoolctl>=2.0.0 in c:\\app\\lib\\site-packages (from scikit-learn>=0.22->pmdarima) (3.1.0)\n",
            "Requirement already satisfied: patsy>=0.5.2 in c:\\app\\lib\\site-packages (from statsmodels>=0.13.2->pmdarima) (0.5.3)\n",
            "Requirement already satisfied: packaging>=21.3 in c:\\users\\quang thai\\appdata\\roaming\\python\\python311\\site-packages (from statsmodels>=0.13.2->pmdarima) (23.0)\n",
            "Requirement already satisfied: six in c:\\users\\quang thai\\appdata\\roaming\\python\\python311\\site-packages (from patsy>=0.5.2->statsmodels>=0.13.2->pmdarima) (1.16.0)\n"
          ]
        },
        {
          "name": "stderr",
          "output_type": "stream",
          "text": [
            "\n",
            "[notice] A new release of pip available: 22.3.1 -> 23.1.2\n",
            "[notice] To update, run: python.exe -m pip install --upgrade pip\n"
          ]
        }
      ],
      "source": [
        "!pip install pmdarima"
      ]
    },
    {
      "cell_type": "code",
      "execution_count": 7,
      "metadata": {
        "colab": {
          "base_uri": "https://localhost:8080/"
        },
        "id": "bxcisYgHSPV6",
        "outputId": "31b0322e-9c61-4144-bf56-e72c1e9807c5"
      },
      "outputs": [
        {
          "name": "stdout",
          "output_type": "stream",
          "text": [
            "            Close-Exog\n",
            "Date                  \n",
            "2019-01-01    6.075273\n",
            "2019-01-02    6.188613\n",
            "2019-01-03    5.903535\n",
            "2019-01-04    6.065138\n",
            "2019-01-05    6.065543\n",
            "...                ...\n",
            "2023-03-27  310.949127\n",
            "2023-03-28  313.260620\n",
            "2023-03-29  313.841766\n",
            "2023-03-30  316.567566\n",
            "2023-03-31  317.040009\n",
            "\n",
            "[1551 rows x 1 columns]\n"
          ]
        }
      ],
      "source": [
        "bnb_data = bnb_data[['Date', 'Close-Exog']]\n",
        "bnb_data = bnb_data.dropna() # Drop missing values\n",
        "# bnb_data = bnb_data.reset_index(drop=True) # Reset the index\n",
        "bnb_data['Date'] = pd.to_datetime(bnb_data['Date'])\n",
        "bnb_data.set_index('Date', inplace=True)\n",
        "\n",
        "# Split the data into training, testing, and validation sets\n",
        "train_size = int(0.6 * len(bnb_data))\n",
        "test_size = int(0.3 * len(bnb_data))\n",
        "val_size = len(bnb_data) - train_size - test_size\n",
        "\n",
        "train_data = bnb_data[:train_size]\n",
        "test_data = bnb_data[train_size:train_size+test_size]\n",
        "val_data = bnb_data[train_size+test_size:]\n",
        "print(bnb_data)"
      ]
    },
    {
      "cell_type": "code",
      "execution_count": 8,
      "metadata": {
        "colab": {
          "base_uri": "https://localhost:8080/",
          "height": 300
        },
        "id": "VKaScGhFSHyc",
        "outputId": "dab2e88e-2da3-4311-ca93-bd5699da262a"
      },
      "outputs": [
        {
          "name": "stdout",
          "output_type": "stream",
          "text": [
            "Performing stepwise search to minimize aic\n",
            " ARIMA(2,1,2)(0,0,0)[0] intercept   : AIC=7408.002, Time=0.32 sec\n",
            " ARIMA(0,1,0)(0,0,0)[0] intercept   : AIC=7489.267, Time=0.01 sec\n",
            " ARIMA(1,1,0)(0,0,0)[0] intercept   : AIC=7452.095, Time=0.05 sec\n",
            " ARIMA(0,1,1)(0,0,0)[0] intercept   : AIC=7461.182, Time=0.08 sec\n",
            " ARIMA(0,1,0)(0,0,0)[0]             : AIC=7487.778, Time=0.01 sec\n",
            " ARIMA(1,1,2)(0,0,0)[0] intercept   : AIC=7427.045, Time=0.15 sec\n",
            " ARIMA(2,1,1)(0,0,0)[0] intercept   : AIC=7436.328, Time=0.47 sec\n",
            " ARIMA(3,1,2)(0,0,0)[0] intercept   : AIC=7409.996, Time=0.44 sec\n",
            " ARIMA(2,1,3)(0,0,0)[0] intercept   : AIC=7409.997, Time=0.51 sec\n",
            " ARIMA(1,1,1)(0,0,0)[0] intercept   : AIC=7446.960, Time=0.18 sec\n",
            " ARIMA(1,1,3)(0,0,0)[0] intercept   : AIC=7426.639, Time=0.33 sec\n",
            " ARIMA(3,1,1)(0,0,0)[0] intercept   : AIC=7433.997, Time=0.15 sec\n",
            " ARIMA(3,1,3)(0,0,0)[0] intercept   : AIC=7405.328, Time=0.88 sec\n",
            " ARIMA(4,1,3)(0,0,0)[0] intercept   : AIC=7399.153, Time=0.93 sec\n",
            " ARIMA(4,1,2)(0,0,0)[0] intercept   : AIC=7402.658, Time=0.76 sec\n",
            " ARIMA(5,1,3)(0,0,0)[0] intercept   : AIC=7401.041, Time=0.77 sec\n",
            " ARIMA(4,1,4)(0,0,0)[0] intercept   : AIC=7401.465, Time=0.98 sec\n",
            " ARIMA(3,1,4)(0,0,0)[0] intercept   : AIC=7398.790, Time=0.88 sec\n",
            " ARIMA(2,1,4)(0,0,0)[0] intercept   : AIC=7403.782, Time=0.77 sec\n",
            " ARIMA(3,1,5)(0,0,0)[0] intercept   : AIC=7402.390, Time=1.08 sec\n",
            " ARIMA(2,1,5)(0,0,0)[0] intercept   : AIC=7404.650, Time=1.00 sec\n",
            " ARIMA(4,1,5)(0,0,0)[0] intercept   : AIC=7402.102, Time=1.15 sec\n",
            " ARIMA(3,1,4)(0,0,0)[0]             : AIC=7397.337, Time=0.33 sec\n",
            " ARIMA(2,1,4)(0,0,0)[0]             : AIC=7402.296, Time=0.30 sec\n",
            " ARIMA(3,1,3)(0,0,0)[0]             : AIC=7403.955, Time=0.26 sec\n",
            " ARIMA(4,1,4)(0,0,0)[0]             : AIC=7400.532, Time=0.52 sec\n",
            " ARIMA(3,1,5)(0,0,0)[0]             : AIC=7400.923, Time=0.68 sec\n",
            " ARIMA(2,1,3)(0,0,0)[0]             : AIC=7408.586, Time=0.21 sec\n",
            " ARIMA(2,1,5)(0,0,0)[0]             : AIC=7403.217, Time=0.43 sec\n",
            " ARIMA(4,1,3)(0,0,0)[0]             : AIC=7397.681, Time=0.28 sec\n",
            " ARIMA(4,1,5)(0,0,0)[0]             : AIC=7400.544, Time=0.51 sec\n",
            "\n",
            "Best model:  ARIMA(3,1,4)(0,0,0)[0]          \n",
            "Total fit time: 15.409 seconds\n"
          ]
        },
        {
          "data": {
            "text/html": [
              "<style>#sk-container-id-1 {color: black;background-color: white;}#sk-container-id-1 pre{padding: 0;}#sk-container-id-1 div.sk-toggleable {background-color: white;}#sk-container-id-1 label.sk-toggleable__label {cursor: pointer;display: block;width: 100%;margin-bottom: 0;padding: 0.3em;box-sizing: border-box;text-align: center;}#sk-container-id-1 label.sk-toggleable__label-arrow:before {content: \"▸\";float: left;margin-right: 0.25em;color: #696969;}#sk-container-id-1 label.sk-toggleable__label-arrow:hover:before {color: black;}#sk-container-id-1 div.sk-estimator:hover label.sk-toggleable__label-arrow:before {color: black;}#sk-container-id-1 div.sk-toggleable__content {max-height: 0;max-width: 0;overflow: hidden;text-align: left;background-color: #f0f8ff;}#sk-container-id-1 div.sk-toggleable__content pre {margin: 0.2em;color: black;border-radius: 0.25em;background-color: #f0f8ff;}#sk-container-id-1 input.sk-toggleable__control:checked~div.sk-toggleable__content {max-height: 200px;max-width: 100%;overflow: auto;}#sk-container-id-1 input.sk-toggleable__control:checked~label.sk-toggleable__label-arrow:before {content: \"▾\";}#sk-container-id-1 div.sk-estimator input.sk-toggleable__control:checked~label.sk-toggleable__label {background-color: #d4ebff;}#sk-container-id-1 div.sk-label input.sk-toggleable__control:checked~label.sk-toggleable__label {background-color: #d4ebff;}#sk-container-id-1 input.sk-hidden--visually {border: 0;clip: rect(1px 1px 1px 1px);clip: rect(1px, 1px, 1px, 1px);height: 1px;margin: -1px;overflow: hidden;padding: 0;position: absolute;width: 1px;}#sk-container-id-1 div.sk-estimator {font-family: monospace;background-color: #f0f8ff;border: 1px dotted black;border-radius: 0.25em;box-sizing: border-box;margin-bottom: 0.5em;}#sk-container-id-1 div.sk-estimator:hover {background-color: #d4ebff;}#sk-container-id-1 div.sk-parallel-item::after {content: \"\";width: 100%;border-bottom: 1px solid gray;flex-grow: 1;}#sk-container-id-1 div.sk-label:hover label.sk-toggleable__label {background-color: #d4ebff;}#sk-container-id-1 div.sk-serial::before {content: \"\";position: absolute;border-left: 1px solid gray;box-sizing: border-box;top: 0;bottom: 0;left: 50%;z-index: 0;}#sk-container-id-1 div.sk-serial {display: flex;flex-direction: column;align-items: center;background-color: white;padding-right: 0.2em;padding-left: 0.2em;position: relative;}#sk-container-id-1 div.sk-item {position: relative;z-index: 1;}#sk-container-id-1 div.sk-parallel {display: flex;align-items: stretch;justify-content: center;background-color: white;position: relative;}#sk-container-id-1 div.sk-item::before, #sk-container-id-1 div.sk-parallel-item::before {content: \"\";position: absolute;border-left: 1px solid gray;box-sizing: border-box;top: 0;bottom: 0;left: 50%;z-index: -1;}#sk-container-id-1 div.sk-parallel-item {display: flex;flex-direction: column;z-index: 1;position: relative;background-color: white;}#sk-container-id-1 div.sk-parallel-item:first-child::after {align-self: flex-end;width: 50%;}#sk-container-id-1 div.sk-parallel-item:last-child::after {align-self: flex-start;width: 50%;}#sk-container-id-1 div.sk-parallel-item:only-child::after {width: 0;}#sk-container-id-1 div.sk-dashed-wrapped {border: 1px dashed gray;margin: 0 0.4em 0.5em 0.4em;box-sizing: border-box;padding-bottom: 0.4em;background-color: white;}#sk-container-id-1 div.sk-label label {font-family: monospace;font-weight: bold;display: inline-block;line-height: 1.2em;}#sk-container-id-1 div.sk-label-container {text-align: center;}#sk-container-id-1 div.sk-container {/* jupyter's `normalize.less` sets `[hidden] { display: none; }` but bootstrap.min.css set `[hidden] { display: none !important; }` so we also need the `!important` here to be able to override the default hidden behavior on the sphinx rendered scikit-learn.org. See: https://github.com/scikit-learn/scikit-learn/issues/21755 */display: inline-block !important;position: relative;}#sk-container-id-1 div.sk-text-repr-fallback {display: none;}</style><div id=\"sk-container-id-1\" class=\"sk-top-container\"><div class=\"sk-text-repr-fallback\"><pre> ARIMA(3,1,4)(0,0,0)[0]          </pre><b>In a Jupyter environment, please rerun this cell to show the HTML representation or trust the notebook. <br />On GitHub, the HTML representation is unable to render, please try loading this page with nbviewer.org.</b></div><div class=\"sk-container\" hidden><div class=\"sk-item\"><div class=\"sk-estimator sk-toggleable\"><input class=\"sk-toggleable__control sk-hidden--visually\" id=\"sk-estimator-id-1\" type=\"checkbox\" checked><label for=\"sk-estimator-id-1\" class=\"sk-toggleable__label sk-toggleable__label-arrow\">ARIMA</label><div class=\"sk-toggleable__content\"><pre> ARIMA(3,1,4)(0,0,0)[0]          </pre></div></div></div></div></div>"
            ],
            "text/plain": [
              "ARIMA(order=(3, 1, 4), scoring_args={}, suppress_warnings=True,\n",
              "      with_intercept=False)"
            ]
          },
          "execution_count": 8,
          "metadata": {},
          "output_type": "execute_result"
        }
      ],
      "source": [
        "# 3. Quá trình Training\n",
        "x_train = np.array(train_data.index).reshape(-1, 1)\n",
        "y_train = np.array(train_data['Close-Exog'])\n",
        "\n",
        "# Find the best ARIMA model using auto_arima\n",
        "from pmdarima.arima import auto_arima\n",
        "model = auto_arima(y_train, trace=True, error_action='ignore', suppress_warnings=True)\n",
        "\n",
        "# Fit the model\n",
        "model.fit(y_train)"
      ]
    },
    {
      "cell_type": "code",
      "execution_count": 9,
      "metadata": {
        "id": "lBh8whurS0ZB"
      },
      "outputs": [],
      "source": [
        "# 4. Quá trình testing \n",
        "x_test = np.array(test_data.index).reshape(-1, 1)\n",
        "y_test = np.array(test_data['Close-Exog'])\n",
        "y_pred = model.predict(n_periods=len(y_test))\n",
        "\n",
        "# 5. Quá trình Validate\n",
        "x_val= np.array(val_data.index).reshape(-1, 1)\n",
        "y_val = np.array(val_data['Close-Exog'])\n",
        "y_pred_val =  model.predict(n_periods=len(y_val))"
      ]
    },
    {
      "cell_type": "code",
      "execution_count": 10,
      "metadata": {
        "colab": {
          "base_uri": "https://localhost:8080/"
        },
        "id": "bnERcRAHR7o4",
        "outputId": "b5f8d477-a391-4735-cdf5-3353149efa6a"
      },
      "outputs": [
        {
          "name": "stdout",
          "output_type": "stream",
          "text": [
            "2023-03-31 00:00:00\n",
            "DatetimeIndex(['2023-04-01', '2023-04-02', '2023-04-03', '2023-04-04',\n",
            "               '2023-04-05', '2023-04-06', '2023-04-07', '2023-04-08',\n",
            "               '2023-04-09', '2023-04-10', '2023-04-11', '2023-04-12',\n",
            "               '2023-04-13', '2023-04-14', '2023-04-15', '2023-04-16',\n",
            "               '2023-04-17', '2023-04-18', '2023-04-19', '2023-04-20',\n",
            "               '2023-04-21', '2023-04-22', '2023-04-23', '2023-04-24',\n",
            "               '2023-04-25', '2023-04-26', '2023-04-27', '2023-04-28',\n",
            "               '2023-04-29', '2023-04-30'],\n",
            "              dtype='datetime64[ns]', freq='D')\n",
            "Predicted closing prices for the next 30 days:\n",
            "[297.88532006 299.40236459 302.40425579 299.9957499  299.04545064\n",
            " 301.17565702 300.78940578 299.53441719 300.38099504 300.84745684\n",
            " 300.03897844 300.11012693 300.6246283  300.33499026 300.1181417\n",
            " 300.42122169 300.42400759 300.21656973 300.31235331 300.40935649\n",
            " 300.29727109 300.28456701 300.36696461 300.3367215  300.29457913\n",
            " 300.33540741 300.34473349 300.31245444 300.32135856 300.33924298]\n"
          ]
        }
      ],
      "source": [
        "import datetime\n",
        "# 6. Quá trình tạo index predict 30 ngày tiếp theo\n",
        "last_index =  bnb_data.index[-1]\n",
        "print(last_index)\n",
        "next_30_days_index_eth = pd.date_range(start=last_index + datetime.timedelta(days=1), periods=30, freq='D')\n",
        "print(next_30_days_index_eth)\n",
        "# Create an array of 30 consecutive integers starting from last_index\n",
        "x_next_30_days_eth = np.array(next_30_days_index_eth).reshape(-1, 1)\n",
        "\n",
        "# Predict the closing prices for the next 30 days\n",
        "y_next_30_days_eth = model.predict(n_periods=len(x_next_30_days_eth)) \n",
        "\n",
        "# Print the predicted closing prices for the next 30 days\n",
        "print('Predicted closing prices for the next 30 days:')\n",
        "print(y_next_30_days_eth)"
      ]
    },
    {
      "cell_type": "code",
      "execution_count": 11,
      "metadata": {
        "colab": {
          "base_uri": "https://localhost:8080/",
          "height": 556
        },
        "id": "pdegy8xUTLIx",
        "outputId": "72d0c541-7721-4361-eaa2-01b3bb855885"
      },
      "outputs": [
        {
          "name": "stdout",
          "output_type": "stream",
          "text": [
            "Validation RMSE: 27.660317310698222\n",
            "Testing RMSE: 135.51391232787813\n",
            "Validation MAPE: 0.07740781136610221\n",
            "Testing MAPE: 0.2374260058174036\n"
          ]
        },
        {
          "data": {
            "image/png": "[encoded data removed]",
            "text/plain": [
              "<Figure size 1200x500 with 1 Axes>"
            ]
          },
          "metadata": {},
          "output_type": "display_data"
        }
      ],
      "source": [
        "# 8. Tính RMSE\n",
        "valid_rmse = np.sqrt(np.mean((y_pred_val - y_val)**2))\n",
        "test_rmse = np.sqrt(np.mean((y_pred - y_test)**2))\n",
        "valid_mape = np.mean(np.abs(y_pred_val - y_val)/np.abs(y_val))  # MAPE\n",
        "test_mape = np.mean(np.abs(y_pred - y_test)/np.abs(y_test))  # MAPE\n",
        "print('Validation RMSE:', valid_rmse)\n",
        "print('Testing RMSE:', test_rmse)\n",
        "print('Validation MAPE:', valid_mape)\n",
        "print('Testing MAPE:', test_mape)\n",
        "# 9.Vẽ hình\n",
        "plt.figure(figsize=(12,5), dpi=100)\n",
        "plt.ylabel('Close');\n",
        "plt.xlabel('Date');\n",
        "plt.title('ARIMA Train, Test, Predict')\n",
        "plt.plot(train_data.index, train_data['Close-Exog'])\n",
        "plt.plot(test_data.index, test_data['Close-Exog'])\n",
        "plt.plot(test_data.index, y_pred)\n",
        "plt.plot(val_data.index, y_pred_val)\n",
        "# plt.plot(last_data,y_next_30_days)\n",
        "plt.plot(next_30_days_index_eth,y_next_30_days_eth)\n",
        "\n",
        "plt.legend(['Train', 'Test', 'Predictions','Validate','Next30Day'])\n",
        "plt.show()"
      ]
    },
    {
      "attachments": {},
      "cell_type": "markdown",
      "metadata": {
        "id": "VoQaM1Eb4rM4"
      },
      "source": [
        "**SARIMAX**"
      ]
    },
    {
      "attachments": {},
      "cell_type": "markdown",
      "metadata": {
        "id": "N0wIsXKj3HnI"
      },
      "source": [
        "**<h3>Dự đoán ARIMAX 7-2-1</h3>**"
      ]
    },
    {
      "cell_type": "code",
      "execution_count": 12,
      "metadata": {
        "colab": {
          "base_uri": "https://localhost:8080/"
        },
        "id": "GO0MijOG3KkY",
        "outputId": "f2a77d49-5f1e-4054-c6e5-e31b99d5f0f8"
      },
      "outputs": [
        {
          "name": "stdout",
          "output_type": "stream",
          "text": [
            "930\n",
            "465\n",
            "156\n"
          ]
        }
      ],
      "source": [
        "\n",
        "# data = data.reset_index(drop=True) # Reset the index\n",
        "data['Date'] = pd.to_datetime(data['Date'])\n",
        "data.set_index('Date', inplace=True)\n",
        "data = data[['Close', 'Close-Exog']]\n",
        "data = data.dropna() # Drop missing values\n",
        "\n",
        "# Split the data into training, testing, and validation sets\n",
        "train_size = int(0.6 * len(data))\n",
        "test_size = int(0.3 * len(data))\n",
        "val_size = len(data) - train_size - test_size\n",
        "\n",
        "train_data = data[:train_size]\n",
        "test_data = data[train_size:train_size+test_size]\n",
        "val_data = data[train_size+test_size:]\n",
        "print(len(train_data))\n",
        "print(len(test_data))\n",
        "print(len(val_data))"
      ]
    },
    {
      "cell_type": "code",
      "execution_count": 13,
      "metadata": {
        "colab": {
          "base_uri": "https://localhost:8080/"
        },
        "id": "RYOVvXSkiEBa",
        "outputId": "7a9df5cf-0450-4932-b067-1a76220092dc"
      },
      "outputs": [
        {
          "name": "stdout",
          "output_type": "stream",
          "text": [
            "Performing stepwise search to minimize aic\n",
            " ARIMA(2,1,2)(1,0,1)[12] intercept   : AIC=10480.813, Time=1.62 sec\n",
            " ARIMA(0,1,0)(0,0,0)[12] intercept   : AIC=10534.801, Time=0.01 sec\n",
            " ARIMA(1,1,0)(1,0,0)[12] intercept   : AIC=10494.783, Time=0.22 sec\n",
            " ARIMA(0,1,1)(0,0,1)[12] intercept   : AIC=10502.274, Time=0.29 sec\n",
            " ARIMA(0,1,0)(0,0,0)[12]             : AIC=10533.477, Time=0.01 sec\n",
            " ARIMA(2,1,2)(0,0,1)[12] intercept   : AIC=10481.480, Time=0.83 sec\n",
            " ARIMA(2,1,2)(1,0,0)[12] intercept   : AIC=10480.166, Time=1.06 sec\n",
            " ARIMA(2,1,2)(0,0,0)[12] intercept   : AIC=10493.298, Time=0.29 sec\n",
            " ARIMA(2,1,2)(2,0,0)[12] intercept   : AIC=10480.625, Time=3.36 sec\n",
            " ARIMA(2,1,2)(2,0,1)[12] intercept   : AIC=10482.620, Time=4.50 sec\n",
            " ARIMA(1,1,2)(1,0,0)[12] intercept   : AIC=10478.918, Time=0.89 sec\n",
            " ARIMA(1,1,2)(0,0,0)[12] intercept   : AIC=10493.148, Time=0.31 sec\n",
            " ARIMA(1,1,2)(2,0,0)[12] intercept   : AIC=10479.244, Time=2.51 sec\n",
            " ARIMA(1,1,2)(1,0,1)[12] intercept   : AIC=10479.497, Time=1.16 sec\n",
            " ARIMA(1,1,2)(0,0,1)[12] intercept   : AIC=10480.381, Time=1.01 sec\n",
            " ARIMA(1,1,2)(2,0,1)[12] intercept   : AIC=10481.328, Time=4.40 sec\n",
            " ARIMA(0,1,2)(1,0,0)[12] intercept   : AIC=10482.958, Time=0.33 sec\n",
            " ARIMA(1,1,1)(1,0,0)[12] intercept   : AIC=10477.416, Time=0.72 sec\n",
            " ARIMA(1,1,1)(0,0,0)[12] intercept   : AIC=10491.305, Time=0.22 sec\n",
            " ARIMA(1,1,1)(2,0,0)[12] intercept   : AIC=10477.785, Time=2.25 sec\n",
            " ARIMA(1,1,1)(1,0,1)[12] intercept   : AIC=10478.016, Time=0.88 sec\n",
            " ARIMA(1,1,1)(0,0,1)[12] intercept   : AIC=10478.819, Time=0.64 sec\n",
            " ARIMA(1,1,1)(2,0,1)[12] intercept   : AIC=10479.774, Time=3.22 sec\n",
            " ARIMA(0,1,1)(1,0,0)[12] intercept   : AIC=10501.085, Time=0.26 sec\n",
            " ARIMA(2,1,1)(1,0,0)[12] intercept   : AIC=10484.779, Time=0.85 sec\n",
            " ARIMA(0,1,0)(1,0,0)[12] intercept   : AIC=10522.513, Time=0.20 sec\n",
            " ARIMA(2,1,0)(1,0,0)[12] intercept   : AIC=10483.171, Time=0.33 sec\n",
            " ARIMA(1,1,1)(1,0,0)[12]             : AIC=10476.549, Time=0.17 sec\n",
            " ARIMA(1,1,1)(0,0,0)[12]             : AIC=10490.133, Time=0.09 sec\n",
            " ARIMA(1,1,1)(2,0,0)[12]             : AIC=10476.816, Time=0.50 sec\n",
            " ARIMA(1,1,1)(1,0,1)[12]             : AIC=10477.091, Time=0.29 sec\n",
            " ARIMA(1,1,1)(0,0,1)[12]             : AIC=10477.959, Time=0.18 sec\n",
            " ARIMA(1,1,1)(2,0,1)[12]             : AIC=10478.809, Time=0.75 sec\n",
            " ARIMA(0,1,1)(1,0,0)[12]             : AIC=10500.360, Time=0.09 sec\n",
            " ARIMA(1,1,0)(1,0,0)[12]             : AIC=10494.091, Time=0.09 sec\n",
            " ARIMA(2,1,1)(1,0,0)[12]             : AIC=10483.731, Time=0.25 sec\n",
            " ARIMA(1,1,2)(1,0,0)[12]             : AIC=10478.104, Time=0.31 sec\n",
            " ARIMA(0,1,0)(1,0,0)[12]             : AIC=10521.427, Time=0.07 sec\n",
            " ARIMA(0,1,2)(1,0,0)[12]             : AIC=10481.922, Time=0.12 sec\n",
            " ARIMA(2,1,0)(1,0,0)[12]             : AIC=10482.194, Time=0.14 sec\n",
            " ARIMA(2,1,2)(1,0,0)[12]             : AIC=10479.060, Time=0.46 sec\n",
            "\n",
            "Best model:  ARIMA(1,1,1)(1,0,0)[12]          \n",
            "Total fit time: 35.898 seconds\n",
            "                                      SARIMAX Results                                      \n",
            "===========================================================================================\n",
            "Dep. Variable:                                   y   No. Observations:                  930\n",
            "Model:             SARIMAX(1, 1, 1)x(1, 0, [], 12)   Log Likelihood               -5234.274\n",
            "Date:                             Sun, 04 Jun 2023   AIC                          10476.549\n",
            "Time:                                     23:22:19   BIC                          10495.885\n",
            "Sample:                                 01-01-2019   HQIC                         10483.924\n",
            "                                      - 07-18-2021                                         \n",
            "Covariance Type:                               opg                                         \n",
            "==============================================================================\n",
            "                 coef    std err          z      P>|z|      [0.025      0.975]\n",
            "------------------------------------------------------------------------------\n",
            "ar.L1         -0.8363      0.021    -39.471      0.000      -0.878      -0.795\n",
            "ma.L1          0.7090      0.030     23.676      0.000       0.650       0.768\n",
            "ar.S.L12      -0.1308      0.012    -11.163      0.000      -0.154      -0.108\n",
            "sigma2      4584.4949     49.605     92.420      0.000    4487.271    4681.719\n",
            "===================================================================================\n",
            "Ljung-Box (L1) (Q):                   0.27   Jarque-Bera (JB):             68147.01\n",
            "Prob(Q):                              0.60   Prob(JB):                         0.00\n",
            "Heteroskedasticity (H):             164.36   Skew:                            -1.83\n",
            "Prob(H) (two-sided):                  0.00   Kurtosis:                        44.80\n",
            "===================================================================================\n",
            "\n",
            "Warnings:\n",
            "[1] Covariance matrix calculated using the outer product of gradients (complex-step).\n"
          ]
        }
      ],
      "source": [
        "from pmdarima.arima import auto_arima\n",
        "train_exog = train_data[[\"Close-Exog\"]]\n",
        "model = auto_arima(train_data.Close, \n",
        "                   seasonal = True,\n",
        "                   m=12,\n",
        "                      test='adf',       # use adftest to find      \n",
        "                      trace=True,\n",
        "                      error_action='ignore',  \n",
        "                      suppress_warnings=True,  \n",
        "                      stepwise=True,\n",
        "                      exogenous= train_exog)\n",
        "print(model.summary())"
      ]
    },
    {
      "cell_type": "code",
      "execution_count": 14,
      "metadata": {
        "colab": {
          "base_uri": "https://localhost:8080/"
        },
        "id": "i73A1r-TCPnc",
        "outputId": "f542e9fc-8359-4a53-d550-b791dc3f5067"
      },
      "outputs": [
        {
          "name": "stderr",
          "output_type": "stream",
          "text": [
            "c:\\APP\\Lib\\site-packages\\statsmodels\\tsa\\base\\tsa_model.py:471: ValueWarning: No frequency information was provided, so inferred frequency D will be used.\n",
            "  self._init_dates(dates, freq)\n",
            "c:\\APP\\Lib\\site-packages\\statsmodels\\tsa\\base\\tsa_model.py:471: ValueWarning: No frequency information was provided, so inferred frequency D will be used.\n",
            "  self._init_dates(dates, freq)\n"
          ]
        }
      ],
      "source": [
        "from statsmodels.tsa.statespace.sarimax import SARIMAX\n",
        "model= SARIMAX(train_data.Close, \n",
        " exog=train_exog,\n",
        " order=(1,1,1),\n",
        "  seasonal_order=(1,0,0, 12),\n",
        " enforce_invertibility=False, enforce_stationarity=False)"
      ]
    },
    {
      "cell_type": "code",
      "execution_count": 15,
      "metadata": {
        "colab": {
          "base_uri": "https://localhost:8080/"
        },
        "id": "cjSOYgRelzsk",
        "outputId": "e26e52f0-93de-443c-9b15-82e475ef0cee"
      },
      "outputs": [
        {
          "name": "stdout",
          "output_type": "stream",
          "text": [
            "2021-07-19    1814.473923\n",
            "2021-07-20    1766.198461\n",
            "2021-07-21    1861.915850\n",
            "2021-07-22    1868.067986\n",
            "2021-07-23    1886.567232\n",
            "                 ...     \n",
            "2022-10-22    1789.601254\n",
            "2022-10-23    1809.057716\n",
            "2022-10-24    1801.911092\n",
            "2022-10-25    1838.704535\n",
            "2022-10-26    1859.624171\n",
            "Freq: D, Name: predicted_mean, Length: 465, dtype: float64\n",
            "            Close-Exog\n",
            "Date                  \n",
            "2022-10-27  286.844116\n",
            "2022-10-28  298.014191\n",
            "2022-10-29  304.217957\n",
            "2022-10-30  313.754791\n",
            "2022-10-31  326.360718\n",
            "...                ...\n",
            "2023-03-27  310.949127\n",
            "2023-03-28  313.260620\n",
            "2023-03-29  313.841766\n",
            "2023-03-30  316.567566\n",
            "2023-03-31  317.040009\n",
            "\n",
            "[156 rows x 1 columns]\n",
            "2021-07-19    1838.494107\n",
            "2021-07-20    1883.147291\n",
            "2021-07-21    1903.043083\n",
            "2021-07-22    1938.851592\n",
            "2021-07-23    1981.858714\n",
            "                 ...     \n",
            "2021-12-17    1932.021309\n",
            "2021-12-18    1940.155876\n",
            "2021-12-19    1942.201035\n",
            "2021-12-20    1951.793624\n",
            "2021-12-21    1953.456238\n",
            "Freq: D, Name: predicted_mean, Length: 156, dtype: float64\n"
          ]
        }
      ],
      "source": [
        "# 4. Quá trình testing \n",
        "x_test = np.array(test_data.index).reshape(-1, 1)\n",
        "y_test = np.array(test_data['Close'])\n",
        "test_exog = test_data[['Close-Exog']]\n",
        "model_fit = model.fit()\n",
        "# y_pred = model.predict(n_periods=len(y_test))\n",
        "y_pred = model_fit.forecast(steps=len(y_test), exog=test_exog)\n",
        "print(y_pred)\n",
        "\n",
        "# 5. Quá trình Validate\n",
        "x_val= np.array(val_data.index).reshape(-1, 1)\n",
        "y_val = np.array(val_data['Close'])\n",
        "val_exog = val_data[['Close-Exog']]\n",
        "print(val_exog)\n",
        "y_pred_val =  model_fit.forecast(steps=len(y_val), exog=val_exog)\n",
        "print(y_pred_val)"
      ]
    },
    {
      "cell_type": "code",
      "execution_count": 16,
      "metadata": {
        "colab": {
          "base_uri": "https://localhost:8080/"
        },
        "id": "p2WNLBfBngms",
        "outputId": "c3d6db7e-a730-4a67-ae4c-75afa2c9cdf2"
      },
      "outputs": [
        {
          "name": "stdout",
          "output_type": "stream",
          "text": [
            "2023-03-31 00:00:00\n",
            "DatetimeIndex(['2023-04-01', '2023-04-02', '2023-04-03', '2023-04-04',\n",
            "               '2023-04-05', '2023-04-06', '2023-04-07', '2023-04-08',\n",
            "               '2023-04-09', '2023-04-10', '2023-04-11', '2023-04-12',\n",
            "               '2023-04-13', '2023-04-14', '2023-04-15', '2023-04-16',\n",
            "               '2023-04-17', '2023-04-18', '2023-04-19', '2023-04-20',\n",
            "               '2023-04-21', '2023-04-22', '2023-04-23', '2023-04-24',\n",
            "               '2023-04-25', '2023-04-26', '2023-04-27', '2023-04-28',\n",
            "               '2023-04-29', '2023-04-30'],\n",
            "              dtype='datetime64[ns]', freq='D')\n",
            "Predicted closing prices for the next 30 days:\n",
            "2021-07-19    1877.350126\n",
            "2021-07-20    1888.032528\n",
            "2021-07-21    1896.660336\n",
            "2021-07-22    1890.431008\n",
            "2021-07-23    1885.731287\n",
            "2021-07-24    1896.084881\n",
            "2021-07-25    1895.565119\n",
            "2021-07-26    1890.574432\n",
            "2021-07-27    1895.430744\n",
            "2021-07-28    1897.195056\n",
            "2021-07-29    1893.397739\n",
            "2021-07-30    1894.148198\n",
            "2021-07-31    1895.791573\n",
            "2021-08-01    1894.822338\n",
            "2021-08-02    1893.964194\n",
            "2021-08-03    1895.091841\n",
            "2021-08-04    1895.041814\n",
            "2021-08-05    1894.319668\n",
            "2021-08-06    1894.578179\n",
            "2021-08-07    1894.980615\n",
            "2021-08-08    1894.504417\n",
            "2021-08-09    1894.488119\n",
            "2021-08-10    1894.774726\n",
            "2021-08-11    1894.677182\n",
            "2021-08-12    1894.516269\n",
            "2021-08-13    1894.672082\n",
            "2021-08-14    1894.696359\n",
            "2021-08-15    1894.590022\n",
            "2021-08-16    1894.615737\n",
            "2021-08-17    1894.684142\n",
            "Freq: D, Name: predicted_mean, dtype: float64\n"
          ]
        }
      ],
      "source": [
        "import datetime\n",
        "# 6. Quá trình tạo index predict 30 ngày tiếp theo\n",
        "last_index =  data.index[-1]\n",
        "print(last_index)\n",
        "# last_data = pd.RangeIndex(start=last_index, stop=last_index+30, step=1)\n",
        "next_30_days_index = pd.date_range(start=last_index + datetime.timedelta(days=1), periods=30, freq='D')\n",
        "print(next_30_days_index)\n",
        "# Create an array of 30 consecutive integers starting from last_index\n",
        "# x_next_30_days = np.array(range(last_index+1, last_index+31)).reshape(-1, 1)\n",
        "x_next_30_days = np.array(next_30_days_index).reshape(-1, 1)\n",
        "\n",
        "\n",
        "\n",
        "# Predict the closing prices for the next 30 days\n",
        "y_next_30_days = model_fit.forecast(steps=len(x_next_30_days), exog = y_next_30_days_eth) \n",
        "\n",
        "# Print the predicted closing prices for the next 30 days\n",
        "print('Predicted closing prices for the next 30 days:')\n",
        "print(y_next_30_days)"
      ]
    },
    {
      "cell_type": "code",
      "execution_count": 17,
      "metadata": {
        "colab": {
          "base_uri": "https://localhost:8080/",
          "height": 556
        },
        "id": "CXpz3-oGrqpV",
        "outputId": "50c3bc25-8d29-4a8b-e2b6-ce194154686e"
      },
      "outputs": [
        {
          "name": "stdout",
          "output_type": "stream",
          "text": [
            "Validation RMSE: 435.9993925836438\n",
            "Testing RMSE: 826.1444051883083\n",
            "Validation MAPE: 0.30086193250487314\n",
            "Testing MAPE: 0.2533953030806731\n",
            "Validation R2: -3.4387517536198686\n",
            "Testing R2: 0.35132351858874\n"
          ]
        },
        {
          "data": {
            "image/png": "[encoded data removed]",
            "text/plain": [
              "<Figure size 1200x500 with 1 Axes>"
            ]
          },
          "metadata": {},
          "output_type": "display_data"
        }
      ],
      "source": [
        "# 8. Tính RMSE\n",
        "from sklearn.metrics import r2_score\n",
        "\n",
        "\n",
        "valid_rmse = np.sqrt(np.mean((y_pred_val - y_val)**2))\n",
        "test_rmse = np.sqrt(np.mean((y_pred - y_test)**2))\n",
        "valid_mape = np.mean(np.abs(y_pred_val - y_val)/np.abs(y_val))  # MAPE\n",
        "test_mape = np.mean(np.abs(y_pred - y_test)/np.abs(y_test))  # MAPE\n",
        "valid_r2 = r2_score(y_val, y_pred_val)\n",
        "test_r2 = r2_score(y_test, y_pred)\n",
        "print('Validation RMSE:', valid_rmse)\n",
        "print('Testing RMSE:', test_rmse)\n",
        "print('Validation MAPE:', valid_mape)\n",
        "print('Testing MAPE:', test_mape)\n",
        "print('Validation R2:', valid_r2)\n",
        "print('Testing R2:', test_r2)\n",
        "\n",
        "\n",
        "\n",
        "# 9.Vẽ hình\n",
        "plt.figure(figsize=(12,5), dpi=100)\n",
        "plt.ylabel('Close');\n",
        "plt.xlabel('Date');\n",
        "plt.title('SARIMAX Train, Test, Predict')\n",
        "plt.plot(train_data.index, train_data['Close'])\n",
        "plt.plot(test_data.index, test_data['Close'])\n",
        "plt.plot(test_data.index, y_pred)\n",
        "plt.plot(val_data.index, y_pred_val)\n",
        "# plt.plot(last_data,y_next_30_days)\n",
        "plt.plot(next_30_days_index,y_next_30_days)\n",
        "\n",
        "plt.legend(['Train', 'Test', 'Predictions','Validate','Next30Day'])\n",
        "plt.show()"
      ]
    },
    {
      "cell_type": "code",
      "execution_count": null,
      "metadata": {
        "id": "aWiX7JFW5-wO"
      },
      "outputs": [],
      "source": []
    }
  ],
  "metadata": {
    "colab": {
      "provenance": []
    },
    "kernelspec": {
      "display_name": "Python 3",
      "name": "python3"
    },
    "language_info": {
      "codemirror_mode": {
        "name": "ipython",
        "version": 3
      },
      "file_extension": ".py",
      "mimetype": "text/x-python",
      "name": "python",
      "nbconvert_exporter": "python",
      "pygments_lexer": "ipython3",
      "version": "3.11.2"
    }
  },
  "nbformat": 4,
  "nbformat_minor": 0
}
